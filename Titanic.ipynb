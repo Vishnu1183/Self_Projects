{
 "cells": [
  {
   "cell_type": "code",
   "execution_count": 83,
   "metadata": {},
   "outputs": [],
   "source": [
    "from IPython.core.interactiveshell import InteractiveShell\n",
    "InteractiveShell.ast_node_interactivity = 'all'\n",
    "import warnings\n",
    "warnings.filterwarnings('ignore')\n",
    "#pd.set_option(\"display.max_columns\",50)"
   ]
  },
  {
   "cell_type": "code",
   "execution_count": 183,
   "metadata": {},
   "outputs": [],
   "source": [
    "import pandas as pd\n",
    "import numpy as np\n",
    "import matplotlib.pyplot as plt\n",
    "import re\n",
    "from sklearn.model_selection import train_test_split\n",
    "from sklearn.linear_model import LogisticRegression\n",
    "from sklearn.ensemble import RandomForestClassifier, StackingClassifier\n",
    "from sklearn.preprocessing import StandardScaler,MinMaxScaler,MaxAbsScaler\n",
    "from sklearn.model_selection import cross_val_score,GridSearchCV,StratifiedKFold,RepeatedStratifiedKFold,RandomizedSearchCV\n",
    "from sklearn.metrics import accuracy_score,auc,recall_score,precision_score,precision_recall_curve,confusion_matrix,\\\n",
    "plot_confusion_matrix,plot_precision_recall_curve,plot_roc_curve,classification_report\n",
    "from xgboost import XGBClassifier\n",
    "from sklearn.pipeline import make_pipeline\n",
    "from sklearn.svm import LinearSVC\n",
    "from sklearn.neighbors import KNeighborsClassifier\n",
    "#from sklearn.impute import SimpleImputer,KNNImputer\n",
    "#from sklearn.compose import ColumnTransformer"
   ]
  },
  {
   "cell_type": "code",
   "execution_count": 3,
   "metadata": {},
   "outputs": [],
   "source": [
    "path = \"C:/Users/Krishna/Documents/kaggle/titanic/input\""
   ]
  },
  {
   "cell_type": "markdown",
   "metadata": {},
   "source": [
    "##### Reading train csv"
   ]
  },
  {
   "cell_type": "code",
   "execution_count": 4,
   "metadata": {},
   "outputs": [
    {
     "data": {
      "text/html": [
       "<div>\n",
       "<style scoped>\n",
       "    .dataframe tbody tr th:only-of-type {\n",
       "        vertical-align: middle;\n",
       "    }\n",
       "\n",
       "    .dataframe tbody tr th {\n",
       "        vertical-align: top;\n",
       "    }\n",
       "\n",
       "    .dataframe thead th {\n",
       "        text-align: right;\n",
       "    }\n",
       "</style>\n",
       "<table border=\"1\" class=\"dataframe\">\n",
       "  <thead>\n",
       "    <tr style=\"text-align: right;\">\n",
       "      <th></th>\n",
       "      <th>PassengerId</th>\n",
       "      <th>Survived</th>\n",
       "      <th>Pclass</th>\n",
       "      <th>Name</th>\n",
       "      <th>Sex</th>\n",
       "      <th>Age</th>\n",
       "      <th>SibSp</th>\n",
       "      <th>Parch</th>\n",
       "      <th>Ticket</th>\n",
       "      <th>Fare</th>\n",
       "      <th>Cabin</th>\n",
       "      <th>Embarked</th>\n",
       "    </tr>\n",
       "  </thead>\n",
       "  <tbody>\n",
       "    <tr>\n",
       "      <th>0</th>\n",
       "      <td>1</td>\n",
       "      <td>0</td>\n",
       "      <td>3</td>\n",
       "      <td>Braund, Mr. Owen Harris</td>\n",
       "      <td>male</td>\n",
       "      <td>22.0</td>\n",
       "      <td>1</td>\n",
       "      <td>0</td>\n",
       "      <td>A/5 21171</td>\n",
       "      <td>7.2500</td>\n",
       "      <td>NaN</td>\n",
       "      <td>S</td>\n",
       "    </tr>\n",
       "    <tr>\n",
       "      <th>1</th>\n",
       "      <td>2</td>\n",
       "      <td>1</td>\n",
       "      <td>1</td>\n",
       "      <td>Cumings, Mrs. John Bradley (Florence Briggs Th...</td>\n",
       "      <td>female</td>\n",
       "      <td>38.0</td>\n",
       "      <td>1</td>\n",
       "      <td>0</td>\n",
       "      <td>PC 17599</td>\n",
       "      <td>71.2833</td>\n",
       "      <td>C85</td>\n",
       "      <td>C</td>\n",
       "    </tr>\n",
       "  </tbody>\n",
       "</table>\n",
       "</div>"
      ],
      "text/plain": [
       "   PassengerId  Survived  Pclass  \\\n",
       "0            1         0       3   \n",
       "1            2         1       1   \n",
       "\n",
       "                                                Name     Sex   Age  SibSp  \\\n",
       "0                            Braund, Mr. Owen Harris    male  22.0      1   \n",
       "1  Cumings, Mrs. John Bradley (Florence Briggs Th...  female  38.0      1   \n",
       "\n",
       "   Parch     Ticket     Fare Cabin Embarked  \n",
       "0      0  A/5 21171   7.2500   NaN        S  \n",
       "1      0   PC 17599  71.2833   C85        C  "
      ]
     },
     "execution_count": 4,
     "metadata": {},
     "output_type": "execute_result"
    },
    {
     "data": {
      "text/plain": [
       "(891, 12)"
      ]
     },
     "execution_count": 4,
     "metadata": {},
     "output_type": "execute_result"
    }
   ],
   "source": [
    "train = pd.read_csv(f'{path}/train.csv')\n",
    "train.head(2)\n",
    "train.shape"
   ]
  },
  {
   "cell_type": "code",
   "execution_count": 5,
   "metadata": {},
   "outputs": [
    {
     "data": {
      "text/html": [
       "<div>\n",
       "<style scoped>\n",
       "    .dataframe tbody tr th:only-of-type {\n",
       "        vertical-align: middle;\n",
       "    }\n",
       "\n",
       "    .dataframe tbody tr th {\n",
       "        vertical-align: top;\n",
       "    }\n",
       "\n",
       "    .dataframe thead th {\n",
       "        text-align: right;\n",
       "    }\n",
       "</style>\n",
       "<table border=\"1\" class=\"dataframe\">\n",
       "  <thead>\n",
       "    <tr style=\"text-align: right;\">\n",
       "      <th></th>\n",
       "      <th>PassengerId</th>\n",
       "      <th>Survived</th>\n",
       "      <th>Age</th>\n",
       "      <th>SibSp</th>\n",
       "      <th>Parch</th>\n",
       "      <th>Fare</th>\n",
       "    </tr>\n",
       "  </thead>\n",
       "  <tbody>\n",
       "    <tr>\n",
       "      <th>count</th>\n",
       "      <td>891.000000</td>\n",
       "      <td>891.000000</td>\n",
       "      <td>714.000000</td>\n",
       "      <td>891.000000</td>\n",
       "      <td>891.000000</td>\n",
       "      <td>891.000000</td>\n",
       "    </tr>\n",
       "    <tr>\n",
       "      <th>mean</th>\n",
       "      <td>446.000000</td>\n",
       "      <td>0.383838</td>\n",
       "      <td>29.699118</td>\n",
       "      <td>0.523008</td>\n",
       "      <td>0.381594</td>\n",
       "      <td>32.204208</td>\n",
       "    </tr>\n",
       "    <tr>\n",
       "      <th>std</th>\n",
       "      <td>257.353842</td>\n",
       "      <td>0.486592</td>\n",
       "      <td>14.526497</td>\n",
       "      <td>1.102743</td>\n",
       "      <td>0.806057</td>\n",
       "      <td>49.693429</td>\n",
       "    </tr>\n",
       "    <tr>\n",
       "      <th>min</th>\n",
       "      <td>1.000000</td>\n",
       "      <td>0.000000</td>\n",
       "      <td>0.420000</td>\n",
       "      <td>0.000000</td>\n",
       "      <td>0.000000</td>\n",
       "      <td>0.000000</td>\n",
       "    </tr>\n",
       "    <tr>\n",
       "      <th>25%</th>\n",
       "      <td>223.500000</td>\n",
       "      <td>0.000000</td>\n",
       "      <td>20.125000</td>\n",
       "      <td>0.000000</td>\n",
       "      <td>0.000000</td>\n",
       "      <td>7.910400</td>\n",
       "    </tr>\n",
       "    <tr>\n",
       "      <th>50%</th>\n",
       "      <td>446.000000</td>\n",
       "      <td>0.000000</td>\n",
       "      <td>28.000000</td>\n",
       "      <td>0.000000</td>\n",
       "      <td>0.000000</td>\n",
       "      <td>14.454200</td>\n",
       "    </tr>\n",
       "    <tr>\n",
       "      <th>75%</th>\n",
       "      <td>668.500000</td>\n",
       "      <td>1.000000</td>\n",
       "      <td>38.000000</td>\n",
       "      <td>1.000000</td>\n",
       "      <td>0.000000</td>\n",
       "      <td>31.000000</td>\n",
       "    </tr>\n",
       "    <tr>\n",
       "      <th>max</th>\n",
       "      <td>891.000000</td>\n",
       "      <td>1.000000</td>\n",
       "      <td>80.000000</td>\n",
       "      <td>8.000000</td>\n",
       "      <td>6.000000</td>\n",
       "      <td>512.329200</td>\n",
       "    </tr>\n",
       "  </tbody>\n",
       "</table>\n",
       "</div>"
      ],
      "text/plain": [
       "       PassengerId    Survived         Age       SibSp       Parch        Fare\n",
       "count   891.000000  891.000000  714.000000  891.000000  891.000000  891.000000\n",
       "mean    446.000000    0.383838   29.699118    0.523008    0.381594   32.204208\n",
       "std     257.353842    0.486592   14.526497    1.102743    0.806057   49.693429\n",
       "min       1.000000    0.000000    0.420000    0.000000    0.000000    0.000000\n",
       "25%     223.500000    0.000000   20.125000    0.000000    0.000000    7.910400\n",
       "50%     446.000000    0.000000   28.000000    0.000000    0.000000   14.454200\n",
       "75%     668.500000    1.000000   38.000000    1.000000    0.000000   31.000000\n",
       "max     891.000000    1.000000   80.000000    8.000000    6.000000  512.329200"
      ]
     },
     "execution_count": 5,
     "metadata": {},
     "output_type": "execute_result"
    },
    {
     "name": "stdout",
     "output_type": "stream",
     "text": [
      "<class 'pandas.core.frame.DataFrame'>\n",
      "RangeIndex: 891 entries, 0 to 890\n",
      "Data columns (total 12 columns):\n",
      "PassengerId    891 non-null int64\n",
      "Survived       891 non-null int64\n",
      "Pclass         891 non-null object\n",
      "Name           891 non-null object\n",
      "Sex            891 non-null object\n",
      "Age            714 non-null float64\n",
      "SibSp          891 non-null int64\n",
      "Parch          891 non-null int64\n",
      "Ticket         891 non-null object\n",
      "Fare           891 non-null float64\n",
      "Cabin          204 non-null object\n",
      "Embarked       889 non-null object\n",
      "dtypes: float64(2), int64(4), object(6)\n",
      "memory usage: 83.7+ KB\n"
     ]
    }
   ],
   "source": [
    "train['Pclass'] = train['Pclass'].astype(str)\n",
    "train.describe()\n",
    "train.info()"
   ]
  },
  {
   "cell_type": "code",
   "execution_count": 6,
   "metadata": {},
   "outputs": [],
   "source": [
    "#train.Name.map(re.search(\"(.*)\\\\, (.*)\\\\.(.*) \").groups())\n",
    "train['Surname'] = train.Name.map(str.upper).map(lambda x : re.search(\"(.*)\\\\, (.*?)\\\\.(.*)\",x).group(2))"
   ]
  },
  {
   "cell_type": "code",
   "execution_count": 7,
   "metadata": {},
   "outputs": [
    {
     "data": {
      "text/plain": [
       "MR        517\n",
       "MISS      182\n",
       "MRS       125\n",
       "MASTER     40\n",
       "Others     27\n",
       "Name: Surname, dtype: int64"
      ]
     },
     "execution_count": 7,
     "metadata": {},
     "output_type": "execute_result"
    }
   ],
   "source": [
    "a = train.Surname.value_counts(normalize = True)>0.04\n",
    "a = a[a!=True].index\n",
    "\n",
    "#train.Surname[train.Surname.isin(a)] = 'Others'\n",
    "train.Surname = np.where(~train.Surname.isin(a),train.Surname,'Others')\n",
    "train.Surname.value_counts()\n",
    "\n",
    "#train.Surname[~train.Surname.isin(a)] = train.Surname[~train.Sir_name.isin(a)].map(dict(zip(a,['Others']*len(a))))"
   ]
  },
  {
   "cell_type": "code",
   "execution_count": 8,
   "metadata": {
    "scrolled": true
   },
   "outputs": [
    {
     "data": {
      "text/html": [
       "<div>\n",
       "<style scoped>\n",
       "    .dataframe tbody tr th:only-of-type {\n",
       "        vertical-align: middle;\n",
       "    }\n",
       "\n",
       "    .dataframe tbody tr th {\n",
       "        vertical-align: top;\n",
       "    }\n",
       "\n",
       "    .dataframe thead th {\n",
       "        text-align: right;\n",
       "    }\n",
       "</style>\n",
       "<table border=\"1\" class=\"dataframe\">\n",
       "  <thead>\n",
       "    <tr style=\"text-align: right;\">\n",
       "      <th></th>\n",
       "      <th>PassengerId</th>\n",
       "      <th>Survived</th>\n",
       "      <th>Pclass</th>\n",
       "      <th>Name</th>\n",
       "      <th>Sex</th>\n",
       "      <th>Age</th>\n",
       "      <th>SibSp</th>\n",
       "      <th>Parch</th>\n",
       "      <th>Ticket</th>\n",
       "      <th>Fare</th>\n",
       "      <th>Cabin</th>\n",
       "      <th>Embarked</th>\n",
       "      <th>Surname</th>\n",
       "    </tr>\n",
       "  </thead>\n",
       "  <tbody>\n",
       "    <tr>\n",
       "      <th>0</th>\n",
       "      <td>1</td>\n",
       "      <td>0</td>\n",
       "      <td>3</td>\n",
       "      <td>Braund, Mr. Owen Harris</td>\n",
       "      <td>male</td>\n",
       "      <td>22.0</td>\n",
       "      <td>1</td>\n",
       "      <td>0</td>\n",
       "      <td>A/5 21171</td>\n",
       "      <td>7.25</td>\n",
       "      <td>NaN</td>\n",
       "      <td>S</td>\n",
       "      <td>MR</td>\n",
       "    </tr>\n",
       "  </tbody>\n",
       "</table>\n",
       "</div>"
      ],
      "text/plain": [
       "   PassengerId  Survived Pclass                     Name   Sex   Age  SibSp  \\\n",
       "0            1         0      3  Braund, Mr. Owen Harris  male  22.0      1   \n",
       "\n",
       "   Parch     Ticket  Fare Cabin Embarked Surname  \n",
       "0      0  A/5 21171  7.25   NaN        S      MR  "
      ]
     },
     "execution_count": 8,
     "metadata": {},
     "output_type": "execute_result"
    }
   ],
   "source": [
    "train.head(1)"
   ]
  },
  {
   "cell_type": "code",
   "execution_count": 9,
   "metadata": {},
   "outputs": [
    {
     "data": {
      "text/plain": [
       "0"
      ]
     },
     "execution_count": 9,
     "metadata": {},
     "output_type": "execute_result"
    },
    {
     "data": {
      "text/plain": [
       "S    646\n",
       "C    168\n",
       "Q     77\n",
       "Name: Embarked, dtype: int64"
      ]
     },
     "execution_count": 9,
     "metadata": {},
     "output_type": "execute_result"
    }
   ],
   "source": [
    "train.Embarked = np.where(train.Embarked.isna(),train.Embarked.mode(dropna=True), train.Embarked)\n",
    "\n",
    "train.Embarked.isna().sum()\n",
    "train.Embarked.value_counts()"
   ]
  },
  {
   "cell_type": "code",
   "execution_count": 10,
   "metadata": {},
   "outputs": [],
   "source": [
    "train[['Age_available']] = 1*train[['Age']].notna()\n",
    "train['Cabin_type'] = train.Cabin.astype(str).apply(lambda x : x[0].upper()) #n means not available\n",
    "train['Family_size'] = train.Parch + train.SibSp"
   ]
  },
  {
   "cell_type": "code",
   "execution_count": null,
   "metadata": {},
   "outputs": [],
   "source": []
  },
  {
   "cell_type": "code",
   "execution_count": 11,
   "metadata": {
    "scrolled": true
   },
   "outputs": [
    {
     "data": {
      "text/html": [
       "<div>\n",
       "<style scoped>\n",
       "    .dataframe tbody tr th:only-of-type {\n",
       "        vertical-align: middle;\n",
       "    }\n",
       "\n",
       "    .dataframe tbody tr th {\n",
       "        vertical-align: top;\n",
       "    }\n",
       "\n",
       "    .dataframe thead th {\n",
       "        text-align: right;\n",
       "    }\n",
       "</style>\n",
       "<table border=\"1\" class=\"dataframe\">\n",
       "  <thead>\n",
       "    <tr style=\"text-align: right;\">\n",
       "      <th></th>\n",
       "      <th>PassengerId</th>\n",
       "      <th>Pclass</th>\n",
       "      <th>Name</th>\n",
       "      <th>Sex</th>\n",
       "      <th>Age</th>\n",
       "      <th>SibSp</th>\n",
       "      <th>Parch</th>\n",
       "      <th>Ticket</th>\n",
       "      <th>Fare</th>\n",
       "      <th>Cabin</th>\n",
       "      <th>Embarked</th>\n",
       "    </tr>\n",
       "  </thead>\n",
       "  <tbody>\n",
       "    <tr>\n",
       "      <th>0</th>\n",
       "      <td>892</td>\n",
       "      <td>3</td>\n",
       "      <td>Kelly, Mr. James</td>\n",
       "      <td>male</td>\n",
       "      <td>34.5</td>\n",
       "      <td>0</td>\n",
       "      <td>0</td>\n",
       "      <td>330911</td>\n",
       "      <td>7.8292</td>\n",
       "      <td>NaN</td>\n",
       "      <td>Q</td>\n",
       "    </tr>\n",
       "    <tr>\n",
       "      <th>1</th>\n",
       "      <td>893</td>\n",
       "      <td>3</td>\n",
       "      <td>Wilkes, Mrs. James (Ellen Needs)</td>\n",
       "      <td>female</td>\n",
       "      <td>47.0</td>\n",
       "      <td>1</td>\n",
       "      <td>0</td>\n",
       "      <td>363272</td>\n",
       "      <td>7.0000</td>\n",
       "      <td>NaN</td>\n",
       "      <td>S</td>\n",
       "    </tr>\n",
       "  </tbody>\n",
       "</table>\n",
       "</div>"
      ],
      "text/plain": [
       "   PassengerId  Pclass                              Name     Sex   Age  SibSp  \\\n",
       "0          892       3                  Kelly, Mr. James    male  34.5      0   \n",
       "1          893       3  Wilkes, Mrs. James (Ellen Needs)  female  47.0      1   \n",
       "\n",
       "   Parch  Ticket    Fare Cabin Embarked  \n",
       "0      0  330911  7.8292   NaN        Q  \n",
       "1      0  363272  7.0000   NaN        S  "
      ]
     },
     "execution_count": 11,
     "metadata": {},
     "output_type": "execute_result"
    },
    {
     "data": {
      "text/plain": [
       "(418, 11)"
      ]
     },
     "execution_count": 11,
     "metadata": {},
     "output_type": "execute_result"
    }
   ],
   "source": [
    "test = pd.read_csv(f'{path}/test.csv')\n",
    "test.head(2)\n",
    "test.shape"
   ]
  },
  {
   "cell_type": "code",
   "execution_count": 12,
   "metadata": {},
   "outputs": [
    {
     "data": {
      "text/html": [
       "<div>\n",
       "<style scoped>\n",
       "    .dataframe tbody tr th:only-of-type {\n",
       "        vertical-align: middle;\n",
       "    }\n",
       "\n",
       "    .dataframe tbody tr th {\n",
       "        vertical-align: top;\n",
       "    }\n",
       "\n",
       "    .dataframe thead th {\n",
       "        text-align: right;\n",
       "    }\n",
       "</style>\n",
       "<table border=\"1\" class=\"dataframe\">\n",
       "  <thead>\n",
       "    <tr style=\"text-align: right;\">\n",
       "      <th>Sex</th>\n",
       "      <th>female</th>\n",
       "      <th>male</th>\n",
       "    </tr>\n",
       "    <tr>\n",
       "      <th>Surname</th>\n",
       "      <th></th>\n",
       "      <th></th>\n",
       "    </tr>\n",
       "  </thead>\n",
       "  <tbody>\n",
       "    <tr>\n",
       "      <th>MASTER</th>\n",
       "      <td>0</td>\n",
       "      <td>40</td>\n",
       "    </tr>\n",
       "    <tr>\n",
       "      <th>MISS</th>\n",
       "      <td>182</td>\n",
       "      <td>0</td>\n",
       "    </tr>\n",
       "    <tr>\n",
       "      <th>MR</th>\n",
       "      <td>0</td>\n",
       "      <td>517</td>\n",
       "    </tr>\n",
       "    <tr>\n",
       "      <th>MRS</th>\n",
       "      <td>125</td>\n",
       "      <td>0</td>\n",
       "    </tr>\n",
       "    <tr>\n",
       "      <th>Others</th>\n",
       "      <td>7</td>\n",
       "      <td>20</td>\n",
       "    </tr>\n",
       "  </tbody>\n",
       "</table>\n",
       "</div>"
      ],
      "text/plain": [
       "Sex      female  male\n",
       "Surname              \n",
       "MASTER        0    40\n",
       "MISS        182     0\n",
       "MR            0   517\n",
       "MRS         125     0\n",
       "Others        7    20"
      ]
     },
     "execution_count": 12,
     "metadata": {},
     "output_type": "execute_result"
    }
   ],
   "source": [
    "pd.crosstab(train['Surname'],train['Sex'],)"
   ]
  },
  {
   "cell_type": "code",
   "execution_count": 13,
   "metadata": {},
   "outputs": [
    {
     "data": {
      "text/plain": [
       "Surname\n",
       "MASTER     4.574167\n",
       "MISS      21.773973\n",
       "MR        32.368090\n",
       "MRS       35.898148\n",
       "Others    42.384615\n",
       "Name: Age, dtype: float64"
      ]
     },
     "execution_count": 13,
     "metadata": {},
     "output_type": "execute_result"
    }
   ],
   "source": [
    "train.groupby('Surname').Age.mean()"
   ]
  },
  {
   "cell_type": "code",
   "execution_count": 14,
   "metadata": {
    "scrolled": true
   },
   "outputs": [
    {
     "data": {
      "text/plain": [
       "Surname\n",
       "MASTER     4.574167\n",
       "MISS      21.773973\n",
       "MR        32.368090\n",
       "MRS       35.898148\n",
       "Others    42.384615\n",
       "Name: Age, dtype: float64"
      ]
     },
     "execution_count": 14,
     "metadata": {},
     "output_type": "execute_result"
    },
    {
     "data": {
      "text/plain": [
       "MR        119\n",
       "MISS       36\n",
       "MRS        17\n",
       "MASTER      4\n",
       "Others      1\n",
       "Name: Surname, dtype: int64"
      ]
     },
     "execution_count": 14,
     "metadata": {},
     "output_type": "execute_result"
    }
   ],
   "source": [
    "train.groupby('Surname').Age.mean()\n",
    "#train.Age.dropna().groupby(train.Surname, sort = True).mean()\n",
    "\n",
    "train[train.Age.isna()].Surname.value_counts(sort = True)\n",
    "#train[train.Age.isna()].groupby(train.Surname, sort = True).count()"
   ]
  },
  {
   "cell_type": "code",
   "execution_count": 15,
   "metadata": {},
   "outputs": [
    {
     "data": {
      "text/plain": [
       "False    418\n",
       "Name: Surname, dtype: int64"
      ]
     },
     "execution_count": 15,
     "metadata": {},
     "output_type": "execute_result"
    },
    {
     "data": {
      "text/plain": [
       "MR        240\n",
       "MISS       78\n",
       "MRS        72\n",
       "MASTER     21\n",
       "Others      7\n",
       "Name: Surname, dtype: int64"
      ]
     },
     "execution_count": 15,
     "metadata": {},
     "output_type": "execute_result"
    }
   ],
   "source": [
    "test['Surname'] = test.Name.map(str.upper).map(lambda x : re.search(\"(.*)\\\\, (.*?)\\\\.(.*)\",x).group(2))\n",
    "test.Surname = np.where(test.Surname.isin(['MR','MISS','MRS','MASTER']),test.Surname,'Others')\n",
    "\n",
    "test.Surname.isin(a).value_counts()\n",
    "test['Surname'].value_counts()"
   ]
  },
  {
   "cell_type": "code",
   "execution_count": 16,
   "metadata": {},
   "outputs": [],
   "source": [
    "test[['Age_available']] = 1*test[['Age']].notna()\n",
    "test['Cabin_type'] = test.Cabin.astype(str).apply(lambda x : x[0].upper()) #n means not available\n",
    "test['Family_size'] = test.Parch + test.SibSp"
   ]
  },
  {
   "cell_type": "code",
   "execution_count": 17,
   "metadata": {},
   "outputs": [
    {
     "data": {
      "text/plain": [
       "Surname\n",
       "MASTER     7.406471\n",
       "MISS      21.774844\n",
       "MR        32.000000\n",
       "MRS       38.903226\n",
       "Others    43.833333\n",
       "Name: Age, dtype: float64"
      ]
     },
     "execution_count": 17,
     "metadata": {},
     "output_type": "execute_result"
    },
    {
     "data": {
      "text/plain": [
       "MR        57\n",
       "MISS      14\n",
       "MRS       10\n",
       "MASTER     4\n",
       "Others     1\n",
       "Name: Surname, dtype: int64"
      ]
     },
     "execution_count": 17,
     "metadata": {},
     "output_type": "execute_result"
    }
   ],
   "source": [
    "test.groupby('Surname').Age.mean()\n",
    "#test.Age.dropna().groupby(test.Surname, sort = False).mean()\n",
    "\n",
    "test[test.Age.isna()].Surname.value_counts(sort = True)\n",
    "#test.Age.isna().groupby(test.Surname, sort = False).sum()"
   ]
  },
  {
   "cell_type": "code",
   "execution_count": 18,
   "metadata": {},
   "outputs": [],
   "source": [
    "train.loc[train.Age.isna(), 'Age'] = train[train.Age.isna()].Surname.map(train.groupby('Surname').Age.mean().to_dict())"
   ]
  },
  {
   "cell_type": "code",
   "execution_count": 19,
   "metadata": {},
   "outputs": [
    {
     "data": {
      "text/plain": [
       "1"
      ]
     },
     "execution_count": 19,
     "metadata": {},
     "output_type": "execute_result"
    },
    {
     "data": {
      "text/plain": [
       "0"
      ]
     },
     "execution_count": 19,
     "metadata": {},
     "output_type": "execute_result"
    }
   ],
   "source": [
    "test.Fare.isna().sum()\n",
    "test['Fare'] = test.Fare.fillna(test.Fare.median())\n",
    "test.Fare.isna().sum()"
   ]
  },
  {
   "cell_type": "code",
   "execution_count": 20,
   "metadata": {},
   "outputs": [],
   "source": [
    "test.loc[test.Age.isna(), 'Age'] = test[test.Age.isna()].Surname.map(train.groupby('Surname').Age.mean().to_dict())"
   ]
  },
  {
   "cell_type": "code",
   "execution_count": 21,
   "metadata": {},
   "outputs": [
    {
     "data": {
      "text/plain": [
       "PassengerId        0\n",
       "Survived           0\n",
       "Pclass             0\n",
       "Name               0\n",
       "Sex                0\n",
       "Age                0\n",
       "SibSp              0\n",
       "Parch              0\n",
       "Ticket             0\n",
       "Fare               0\n",
       "Cabin            687\n",
       "Embarked           0\n",
       "Surname            0\n",
       "Age_available      0\n",
       "Cabin_type         0\n",
       "Family_size        0\n",
       "dtype: int64"
      ]
     },
     "execution_count": 21,
     "metadata": {},
     "output_type": "execute_result"
    },
    {
     "data": {
      "text/plain": [
       "PassengerId        0\n",
       "Pclass             0\n",
       "Name               0\n",
       "Sex                0\n",
       "Age                0\n",
       "SibSp              0\n",
       "Parch              0\n",
       "Ticket             0\n",
       "Fare               0\n",
       "Cabin            327\n",
       "Embarked           0\n",
       "Surname            0\n",
       "Age_available      0\n",
       "Cabin_type         0\n",
       "Family_size        0\n",
       "dtype: int64"
      ]
     },
     "execution_count": 21,
     "metadata": {},
     "output_type": "execute_result"
    }
   ],
   "source": [
    "train.isna().sum()\n",
    "test.isna().sum()"
   ]
  },
  {
   "cell_type": "code",
   "execution_count": 22,
   "metadata": {},
   "outputs": [],
   "source": [
    "train[['Sex','Pclass', 'Embarked','Surname','Age_available','Cabin_type']] = train[['Sex','Pclass', 'Embarked','Surname','Age_available','Cabin_type']].astype(str)\n",
    "\n",
    "test[['Sex','Pclass', 'Embarked','Surname','Age_available','Cabin_type']] = test[['Sex','Pclass', 'Embarked','Surname','Age_available','Cabin_type']].astype(str)"
   ]
  },
  {
   "cell_type": "raw",
   "metadata": {},
   "source": [
    "from sklearn.feature_extraction import DictVectorizer\n",
    "dvec = DictVectorizer(sparse=False)\n",
    "train_dvec = dvec.fit_transform(train[['Sex','Pclass', 'Embarked']].transpose().to_dict().values())\n",
    "train_dvec = pd.DataFrame(train_dvec, index = train.index, columns = dvec.get_feature_names())"
   ]
  },
  {
   "cell_type": "code",
   "execution_count": 23,
   "metadata": {},
   "outputs": [],
   "source": [
    "def dict_vec(train_set,cols,is_test, test_set):\n",
    "    \"\"\"\n",
    "    returns dict vectorizer on train set or train & test set for chosen columns\n",
    "    train_set: Dataset on which DV is to be fit\n",
    "    cols: List of columns of train_set which are to be considered for DV\n",
    "    is_test: Boolean, If DV is to be transformed on test too\n",
    "    test_set: Test set on which DV is to be transformed\n",
    "    \"\"\"\n",
    "    from sklearn.feature_extraction import DictVectorizer\n",
    "    import pandas as pd\n",
    "    dvec = DictVectorizer(sparse=False)\n",
    "    if not is_test:\n",
    "        test_set = pd.DataFrame()\n",
    "        train_dvec = dvec.fit_transform(train_set[cols].transpose().to_dict().values())\n",
    "        train_dvec = pd.DataFrame(train_dvec, index = train_set.index, columns = dvec.get_feature_names())\n",
    "        train_df = pd.concat([train_set.drop(cols, axis = 1),train_dvec], axis = 1)\n",
    "        return train_df,pd.DataFrame(),dvec\n",
    "    else:\n",
    "        train_dvec = dvec.fit_transform(train_set[cols].transpose().to_dict().values())\n",
    "        train_dvec = pd.DataFrame(train_dvec, index = train_set.index, columns = dvec.get_feature_names())\n",
    "        train_df = pd.concat([train_set.drop(cols, axis = 1),train_dvec], axis = 1)\n",
    "        test_dvec = dvec.transform(test_set[cols].transpose().to_dict().values())\n",
    "        test_dvec = pd.DataFrame(test_dvec, index = test_set.index, columns = dvec.get_feature_names())\n",
    "        test_df = pd.concat([test_set.drop(cols, axis = 1),test_dvec], axis = 1)\n",
    "        return train_df, test_df,dvec"
   ]
  },
  {
   "cell_type": "code",
   "execution_count": 24,
   "metadata": {},
   "outputs": [],
   "source": [
    "train_df,test_df,dv = dict_vec(train, ['Sex','Pclass', 'Embarked','Surname','Age_available','Cabin_type'],is_test = True,test_set =test)"
   ]
  },
  {
   "cell_type": "code",
   "execution_count": 25,
   "metadata": {},
   "outputs": [
    {
     "data": {
      "text/plain": [
       "Index(['PassengerId', 'Survived', 'Name', 'Age', 'SibSp', 'Parch', 'Ticket',\n",
       "       'Fare', 'Cabin', 'Family_size', 'Age_available=0', 'Age_available=1',\n",
       "       'Cabin_type=A', 'Cabin_type=B', 'Cabin_type=C', 'Cabin_type=D',\n",
       "       'Cabin_type=E', 'Cabin_type=F', 'Cabin_type=G', 'Cabin_type=N',\n",
       "       'Cabin_type=T', 'Embarked=C', 'Embarked=Q', 'Embarked=S', 'Pclass=1',\n",
       "       'Pclass=2', 'Pclass=3', 'Sex=female', 'Sex=male', 'Surname=MASTER',\n",
       "       'Surname=MISS', 'Surname=MR', 'Surname=MRS', 'Surname=Others'],\n",
       "      dtype='object')"
      ]
     },
     "execution_count": 25,
     "metadata": {},
     "output_type": "execute_result"
    }
   ],
   "source": [
    "train_df.columns"
   ]
  },
  {
   "cell_type": "code",
   "execution_count": 26,
   "metadata": {},
   "outputs": [
    {
     "data": {
      "text/plain": [
       "'Survived'"
      ]
     },
     "execution_count": 26,
     "metadata": {},
     "output_type": "execute_result"
    },
    {
     "data": {
      "text/plain": [
       "Index(['Age', 'Fare', 'Family_size', 'Age_available=0', 'Age_available=1',\n",
       "       'Cabin_type=A', 'Cabin_type=B', 'Cabin_type=C', 'Cabin_type=D',\n",
       "       'Cabin_type=E', 'Cabin_type=F', 'Cabin_type=G', 'Cabin_type=N',\n",
       "       'Cabin_type=T', 'Embarked=C', 'Embarked=Q', 'Embarked=S', 'Pclass=1',\n",
       "       'Pclass=2', 'Pclass=3', 'Sex=female', 'Sex=male', 'Surname=MASTER',\n",
       "       'Surname=MISS', 'Surname=MR', 'Surname=MRS', 'Surname=Others'],\n",
       "      dtype='object')"
      ]
     },
     "execution_count": 26,
     "metadata": {},
     "output_type": "execute_result"
    }
   ],
   "source": [
    "target  = 'Survived'\n",
    "features= train_df.drop(['PassengerId','Survived', 'Name','Ticket','Cabin','SibSp', 'Parch'], axis =1).columns\n",
    "target\n",
    "features"
   ]
  },
  {
   "cell_type": "markdown",
   "metadata": {},
   "source": [
    "### splitting into train and test set"
   ]
  },
  {
   "cell_type": "code",
   "execution_count": 122,
   "metadata": {},
   "outputs": [],
   "source": [
    "\n",
    "X_train,X_test,y_train,y_test = train_test_split(train_df[features],train_df[target],stratify = train_df[target],\\\n",
    "                                                 test_size=0.25, random_state=69)"
   ]
  },
  {
   "cell_type": "markdown",
   "metadata": {},
   "source": [
    "### logreg on train set"
   ]
  },
  {
   "cell_type": "code",
   "execution_count": 28,
   "metadata": {},
   "outputs": [],
   "source": [
    "logreg = make_pipeline(StandardScaler(), LogisticRegression(solver = 'lbfgs', max_iter=10000,C= 0.1))\n",
    "#res = df.apply(lambda x: x.fillna(0) if x.dtype.kind in 'biufc' else x.fillna('.'))"
   ]
  },
  {
   "cell_type": "code",
   "execution_count": 29,
   "metadata": {},
   "outputs": [
    {
     "data": {
      "text/plain": [
       "Pipeline(memory=None,\n",
       "         steps=[('standardscaler',\n",
       "                 StandardScaler(copy=True, with_mean=True, with_std=True)),\n",
       "                ('logisticregression',\n",
       "                 LogisticRegression(C=0.1, class_weight=None, dual=False,\n",
       "                                    fit_intercept=True, intercept_scaling=1,\n",
       "                                    l1_ratio=None, max_iter=10000,\n",
       "                                    multi_class='auto', n_jobs=None,\n",
       "                                    penalty='l2', random_state=None,\n",
       "                                    solver='lbfgs', tol=0.0001, verbose=0,\n",
       "                                    warm_start=False))],\n",
       "         verbose=False)"
      ]
     },
     "execution_count": 29,
     "metadata": {},
     "output_type": "execute_result"
    }
   ],
   "source": [
    "logreg.fit(X_train[features], y_train);"
   ]
  },
  {
   "cell_type": "code",
   "execution_count": 30,
   "metadata": {},
   "outputs": [
    {
     "data": {
      "text/plain": [
       "0.8488023952095808"
      ]
     },
     "execution_count": 30,
     "metadata": {},
     "output_type": "execute_result"
    }
   ],
   "source": [
    "pred_bin = logreg.predict(X_train[features])\n",
    "pred_prob = logreg.predict_proba(X_train[features])[:,1]\n",
    "logreg.score(X_train[features], y_train) # accuracy"
   ]
  },
  {
   "cell_type": "code",
   "execution_count": 31,
   "metadata": {},
   "outputs": [
    {
     "data": {
      "text/plain": [
       "0.8163265306122449"
      ]
     },
     "execution_count": 31,
     "metadata": {},
     "output_type": "execute_result"
    },
    {
     "data": {
      "text/plain": [
       "0.78125"
      ]
     },
     "execution_count": 31,
     "metadata": {},
     "output_type": "execute_result"
    },
    {
     "data": {
      "text/plain": [
       "array([[367,  45],\n",
       "       [ 56, 200]], dtype=int64)"
      ]
     },
     "execution_count": 31,
     "metadata": {},
     "output_type": "execute_result"
    },
    {
     "data": {
      "text/plain": [
       "0.8488023952095808"
      ]
     },
     "execution_count": 31,
     "metadata": {},
     "output_type": "execute_result"
    }
   ],
   "source": [
    "precision_score(y_train,pred_bin)\n",
    "recall_score(y_train,pred_bin)\n",
    "confusion_matrix(y_train,pred_bin)\n",
    "accuracy_score(y_train,pred_bin)"
   ]
  },
  {
   "cell_type": "markdown",
   "metadata": {},
   "source": [
    "### logreg on test"
   ]
  },
  {
   "cell_type": "code",
   "execution_count": 33,
   "metadata": {},
   "outputs": [
    {
     "data": {
      "text/plain": [
       "0.8072289156626506"
      ]
     },
     "execution_count": 33,
     "metadata": {},
     "output_type": "execute_result"
    },
    {
     "data": {
      "text/plain": [
       "0.7790697674418605"
      ]
     },
     "execution_count": 33,
     "metadata": {},
     "output_type": "execute_result"
    },
    {
     "data": {
      "text/plain": [
       "array([[121,  16],\n",
       "       [ 19,  67]], dtype=int64)"
      ]
     },
     "execution_count": 33,
     "metadata": {},
     "output_type": "execute_result"
    },
    {
     "data": {
      "text/plain": [
       "0.8430493273542601"
      ]
     },
     "execution_count": 33,
     "metadata": {},
     "output_type": "execute_result"
    }
   ],
   "source": [
    "pred_bin = logreg.predict(X_test[features])\n",
    "precision_score(y_test,pred_bin)\n",
    "recall_score(y_test,pred_bin)\n",
    "confusion_matrix(y_test,pred_bin)\n",
    "accuracy_score(y_test,pred_bin)"
   ]
  },
  {
   "cell_type": "code",
   "execution_count": 162,
   "metadata": {},
   "outputs": [
    {
     "data": {
      "text/plain": [
       "0.7807017543859649"
      ]
     },
     "execution_count": 162,
     "metadata": {},
     "output_type": "execute_result"
    }
   ],
   "source": [
    "recall_score(train_df[target],logreg.predict(train_df[features]))"
   ]
  },
  {
   "cell_type": "markdown",
   "metadata": {},
   "source": [
    "### The mean score and the 95% confidence interval of the score estimate are hence given by:"
   ]
  },
  {
   "cell_type": "code",
   "execution_count": 166,
   "metadata": {},
   "outputs": [
    {
     "data": {
      "text/plain": [
       "array([0.81864235, 0.82049213, 0.80962567, 0.80594338, 0.85873016])"
      ]
     },
     "execution_count": 166,
     "metadata": {},
     "output_type": "execute_result"
    },
    {
     "name": "stdout",
     "output_type": "stream",
     "text": [
      "Full Accuracy: 0.82(+/- 0.04)\n"
     ]
    },
    {
     "data": {
      "text/plain": [
       "array([0.81652388, 0.82251082, 0.80962567, 0.8325283 , 0.85704884])"
      ]
     },
     "execution_count": 166,
     "metadata": {},
     "output_type": "execute_result"
    },
    {
     "name": "stdout",
     "output_type": "stream",
     "text": [
      "Full Accuracy: 0.83(+/- 0.03)\n"
     ]
    },
    {
     "data": {
      "text/plain": [
       "array([0.821278  , 0.81871658, 0.80962567, 0.79451872, 0.86065683])"
      ]
     },
     "execution_count": 166,
     "metadata": {},
     "output_type": "execute_result"
    },
    {
     "name": "stdout",
     "output_type": "stream",
     "text": [
      "Full Accuracy: 0.82(+/- 0.04)\n"
     ]
    }
   ],
   "source": [
    "all_accuracies_data = cross_val_score(estimator=logreg, X=train_df[features], y=train_df[target], cv=5,scoring = 'f1_macro')\n",
    "all_accuracies_data\n",
    "print(\"Full Accuracy: %0.2f(+/- %0.2f)\" % (all_accuracies_data.mean(), all_accuracies_data.std()*2))\n",
    "\n",
    "all_accuracies_data = cross_val_score(estimator=logreg, X=train_df[features], y=train_df[target], cv=5,scoring = 'precision_macro')\n",
    "all_accuracies_data\n",
    "print(\"Full Accuracy: %0.2f(+/- %0.2f)\" % (all_accuracies_data.mean(), all_accuracies_data.std()*2))\n",
    "\n",
    "all_accuracies_data = cross_val_score(estimator=logreg, X=train_df[features], y=train_df[target], cv=5,scoring = 'recall_macro')\n",
    "all_accuracies_data\n",
    "print(\"Full Accuracy: %0.2f(+/- %0.2f)\" % (all_accuracies_data.mean(), all_accuracies_data.std()*2))"
   ]
  },
  {
   "cell_type": "code",
   "execution_count": 36,
   "metadata": {},
   "outputs": [
    {
     "data": {
      "text/plain": [
       "array([251, 167], dtype=int64)"
      ]
     },
     "execution_count": 36,
     "metadata": {},
     "output_type": "execute_result"
    }
   ],
   "source": [
    "np.bincount(logreg.predict(test_df[features]))\n",
    "\n",
    "pd.concat([test_df[['PassengerId']],pd.DataFrame(logreg.predict(test_df[features]),columns= ['Survived'],\\\n",
    "               index = test_df.index)],axis = 1).to_csv(f'{path}/titanic_submit9lrpipe.csv', index=False)"
   ]
  },
  {
   "cell_type": "code",
   "execution_count": 37,
   "metadata": {
    "scrolled": true
   },
   "outputs": [
    {
     "data": {
      "text/html": [
       "<div>\n",
       "<style scoped>\n",
       "    .dataframe tbody tr th:only-of-type {\n",
       "        vertical-align: middle;\n",
       "    }\n",
       "\n",
       "    .dataframe tbody tr th {\n",
       "        vertical-align: top;\n",
       "    }\n",
       "\n",
       "    .dataframe thead th {\n",
       "        text-align: right;\n",
       "    }\n",
       "</style>\n",
       "<table border=\"1\" class=\"dataframe\">\n",
       "  <thead>\n",
       "    <tr style=\"text-align: right;\">\n",
       "      <th></th>\n",
       "      <th>variable</th>\n",
       "      <th>coefficient</th>\n",
       "    </tr>\n",
       "  </thead>\n",
       "  <tbody>\n",
       "    <tr>\n",
       "      <th>0</th>\n",
       "      <td>intercept</td>\n",
       "      <td>-0.653631</td>\n",
       "    </tr>\n",
       "    <tr>\n",
       "      <th>1</th>\n",
       "      <td>Family_size</td>\n",
       "      <td>-0.550072</td>\n",
       "    </tr>\n",
       "    <tr>\n",
       "      <th>2</th>\n",
       "      <td>Surname=MR</td>\n",
       "      <td>-0.427699</td>\n",
       "    </tr>\n",
       "    <tr>\n",
       "      <th>3</th>\n",
       "      <td>Sex=male</td>\n",
       "      <td>-0.401073</td>\n",
       "    </tr>\n",
       "    <tr>\n",
       "      <th>4</th>\n",
       "      <td>Sex=female</td>\n",
       "      <td>0.401073</td>\n",
       "    </tr>\n",
       "    <tr>\n",
       "      <th>5</th>\n",
       "      <td>Surname=MASTER</td>\n",
       "      <td>0.370529</td>\n",
       "    </tr>\n",
       "    <tr>\n",
       "      <th>6</th>\n",
       "      <td>Surname=MRS</td>\n",
       "      <td>0.346439</td>\n",
       "    </tr>\n",
       "  </tbody>\n",
       "</table>\n",
       "</div>"
      ],
      "text/plain": [
       "         variable  coefficient\n",
       "0       intercept    -0.653631\n",
       "1     Family_size    -0.550072\n",
       "2      Surname=MR    -0.427699\n",
       "3        Sex=male    -0.401073\n",
       "4      Sex=female     0.401073\n",
       "5  Surname=MASTER     0.370529\n",
       "6     Surname=MRS     0.346439"
      ]
     },
     "execution_count": 37,
     "metadata": {},
     "output_type": "execute_result"
    }
   ],
   "source": [
    "def logreg_coef(model,data):    \n",
    "    \"\"\"\n",
    "    Gives the intercepts and coefficients along with variable names for logistic regression.\n",
    "    model : name of the logistic model\n",
    "    data :  data on which logistic model was fit, column order must be same as that of the\n",
    "            data on which model was fit\n",
    "    \"\"\"\n",
    "    intercept = pd.DataFrame({'variable' : 'intercept', 'coefficient' : model.intercept_})\n",
    "    coefficient = pd.DataFrame({'variable' : data.columns, 'coefficient' : model.coef_.transpose().flatten()})\n",
    "    coefficient = coefficient.reindex(coefficient.coefficient.abs().sort_values(ascending = False).index)\n",
    "    return(pd.concat([intercept,coefficient], axis = 0).reset_index(drop = True))\n",
    "\n",
    "lr_coefs = logreg_coef(model = logreg[1],data = train_df[features])\n",
    "lr_coefs.head(7)"
   ]
  },
  {
   "cell_type": "markdown",
   "metadata": {},
   "source": [
    "# XGB"
   ]
  },
  {
   "cell_type": "code",
   "execution_count": 41,
   "metadata": {
    "scrolled": true
   },
   "outputs": [
    {
     "data": {
      "text/plain": [
       "XGBClassifier(base_score=0.5, booster='gbtree', colsample_bylevel=1,\n",
       "              colsample_bynode=1, colsample_bytree=0.75, gamma=0,\n",
       "              learning_rate=0.001, max_delta_step=0, max_depth=3,\n",
       "              min_child_weight=1, missing=None, n_estimators=500, n_jobs=1,\n",
       "              nthread=None, objective='binary:logistic', random_state=0,\n",
       "              reg_alpha=0, reg_lambda=1, scale_pos_weight=1, seed=None,\n",
       "              silent=None, subsample=0.9, verbosity=1)"
      ]
     },
     "execution_count": 41,
     "metadata": {},
     "output_type": "execute_result"
    }
   ],
   "source": [
    "\n",
    "XGB = XGBClassifier(n_estimators = 500,learning_rate= 0.001,colsample_bytree= 0.75,subsample=0.9)\n",
    "#XGB = RandomForestClassifier(n_estimators=750,oob_score=True,max_depth=6,max_features=10)\n",
    "XGB\n",
    "\n"
   ]
  },
  {
   "cell_type": "code",
   "execution_count": 42,
   "metadata": {},
   "outputs": [
    {
     "data": {
      "text/plain": [
       "XGBClassifier(base_score=0.5, booster='gbtree', colsample_bylevel=1,\n",
       "              colsample_bynode=1, colsample_bytree=0.75, gamma=0,\n",
       "              learning_rate=0.001, max_delta_step=0, max_depth=3,\n",
       "              min_child_weight=1, missing=None, n_estimators=500, n_jobs=1,\n",
       "              nthread=None, objective='binary:logistic', random_state=0,\n",
       "              reg_alpha=0, reg_lambda=1, scale_pos_weight=1, seed=None,\n",
       "              silent=None, subsample=0.9, verbosity=1)"
      ]
     },
     "execution_count": 42,
     "metadata": {},
     "output_type": "execute_result"
    }
   ],
   "source": [
    "XGB.fit(X_train[features], y_train)"
   ]
  },
  {
   "cell_type": "code",
   "execution_count": 45,
   "metadata": {
    "scrolled": false
   },
   "outputs": [
    {
     "data": {
      "text/plain": [
       "0.8099173553719008"
      ]
     },
     "execution_count": 45,
     "metadata": {},
     "output_type": "execute_result"
    },
    {
     "data": {
      "text/plain": [
       "0.765625"
      ]
     },
     "execution_count": 45,
     "metadata": {},
     "output_type": "execute_result"
    },
    {
     "data": {
      "text/plain": [
       "array([[366,  46],\n",
       "       [ 60, 196]], dtype=int64)"
      ]
     },
     "execution_count": 45,
     "metadata": {},
     "output_type": "execute_result"
    },
    {
     "data": {
      "text/plain": [
       "0.8413173652694611"
      ]
     },
     "execution_count": 45,
     "metadata": {},
     "output_type": "execute_result"
    }
   ],
   "source": [
    "pred_bin = XGB.predict(X_train)\n",
    "precision_score(y_train,pred_bin)\n",
    "recall_score(y_train,pred_bin)\n",
    "confusion_matrix(y_train,pred_bin)\n",
    "accuracy_score(y_train,pred_bin)"
   ]
  },
  {
   "cell_type": "markdown",
   "metadata": {},
   "source": [
    "##### prediction on test"
   ]
  },
  {
   "cell_type": "code",
   "execution_count": 46,
   "metadata": {
    "scrolled": false
   },
   "outputs": [
    {
     "data": {
      "text/plain": [
       "0.7857142857142857"
      ]
     },
     "execution_count": 46,
     "metadata": {},
     "output_type": "execute_result"
    },
    {
     "data": {
      "text/plain": [
       "0.7674418604651163"
      ]
     },
     "execution_count": 46,
     "metadata": {},
     "output_type": "execute_result"
    },
    {
     "data": {
      "text/plain": [
       "array([[119,  18],\n",
       "       [ 20,  66]], dtype=int64)"
      ]
     },
     "execution_count": 46,
     "metadata": {},
     "output_type": "execute_result"
    },
    {
     "data": {
      "text/plain": [
       "0.8295964125560538"
      ]
     },
     "execution_count": 46,
     "metadata": {},
     "output_type": "execute_result"
    }
   ],
   "source": [
    "pred_bin = XGB.predict(X_test)\n",
    "precision_score(y_test,pred_bin)\n",
    "recall_score(y_test,pred_bin)\n",
    "confusion_matrix(y_test,pred_bin)\n",
    "accuracy_score(y_test,pred_bin)"
   ]
  },
  {
   "cell_type": "markdown",
   "metadata": {},
   "source": [
    "### The mean score and the 95% confidence interval of the score estimate are hence given by:"
   ]
  },
  {
   "cell_type": "code",
   "execution_count": 165,
   "metadata": {},
   "outputs": [
    {
     "data": {
      "text/plain": [
       "array([0.83946188, 0.80311714, 0.81395192, 0.77720559, 0.85084632])"
      ]
     },
     "execution_count": 165,
     "metadata": {},
     "output_type": "execute_result"
    },
    {
     "name": "stdout",
     "output_type": "stream",
     "text": [
      "Full Accuracy: 0.82(+/- 0.05)\n"
     ]
    },
    {
     "data": {
      "text/plain": [
       "array([0.84271923, 0.80402044, 0.81708645, 0.81371618, 0.85416667])"
      ]
     },
     "execution_count": 165,
     "metadata": {},
     "output_type": "execute_result"
    },
    {
     "name": "stdout",
     "output_type": "stream",
     "text": [
      "Full Accuracy: 0.83(+/- 0.02)\n"
     ]
    },
    {
     "data": {
      "text/plain": [
       "array([0.83675889, 0.80227273, 0.81136364, 0.76510695, 0.84809201])"
      ]
     },
     "execution_count": 165,
     "metadata": {},
     "output_type": "execute_result"
    },
    {
     "name": "stdout",
     "output_type": "stream",
     "text": [
      "Full Accuracy: 0.81(+/- 0.03)\n"
     ]
    }
   ],
   "source": [
    "all_accuracies_data = cross_val_score(estimator=XGB, X=train_df[features], y=train_df[target], cv=5,scoring = 'f1_macro')\n",
    "all_accuracies_data\n",
    "print(\"Full Accuracy: %0.2f(+/- %0.2f)\" % (all_accuracies_data.mean(), all_accuracies_data.std()*2))\n",
    "\n",
    "all_accuracies_data = cross_val_score(estimator=XGB, X=train_df[features], y=train_df[target], cv=5,scoring = 'precision_macro')\n",
    "all_accuracies_data\n",
    "print(\"Full Accuracy: %0.2f(+/- %0.2f)\" % (all_accuracies_data.mean(), all_accuracies_data.std()*2))\n",
    "\n",
    "all_accuracies_data = cross_val_score(estimator=XGB, X=train_df[features], y=train_df[target], cv=5,scoring = 'recall_macro')\n",
    "all_accuracies_data\n",
    "print(\"Full Accuracy: %0.2f(+/- %0.2f)\" % (all_accuracies_data.mean(), all_accuracies_data.std()*2))"
   ]
  },
  {
   "cell_type": "code",
   "execution_count": 47,
   "metadata": {},
   "outputs": [
    {
     "data": {
      "text/html": [
       "<div>\n",
       "<style scoped>\n",
       "    .dataframe tbody tr th:only-of-type {\n",
       "        vertical-align: middle;\n",
       "    }\n",
       "\n",
       "    .dataframe tbody tr th {\n",
       "        vertical-align: top;\n",
       "    }\n",
       "\n",
       "    .dataframe thead th {\n",
       "        text-align: right;\n",
       "    }\n",
       "</style>\n",
       "<table border=\"1\" class=\"dataframe\">\n",
       "  <thead>\n",
       "    <tr style=\"text-align: right;\">\n",
       "      <th></th>\n",
       "      <th>features</th>\n",
       "      <th>importance</th>\n",
       "    </tr>\n",
       "  </thead>\n",
       "  <tbody>\n",
       "    <tr>\n",
       "      <th>24</th>\n",
       "      <td>Surname=MR</td>\n",
       "      <td>0.204823</td>\n",
       "    </tr>\n",
       "    <tr>\n",
       "      <th>20</th>\n",
       "      <td>Sex=female</td>\n",
       "      <td>0.191553</td>\n",
       "    </tr>\n",
       "    <tr>\n",
       "      <th>21</th>\n",
       "      <td>Sex=male</td>\n",
       "      <td>0.167570</td>\n",
       "    </tr>\n",
       "    <tr>\n",
       "      <th>23</th>\n",
       "      <td>Surname=MISS</td>\n",
       "      <td>0.123521</td>\n",
       "    </tr>\n",
       "    <tr>\n",
       "      <th>25</th>\n",
       "      <td>Surname=MRS</td>\n",
       "      <td>0.048483</td>\n",
       "    </tr>\n",
       "    <tr>\n",
       "      <th>19</th>\n",
       "      <td>Pclass=3</td>\n",
       "      <td>0.042222</td>\n",
       "    </tr>\n",
       "    <tr>\n",
       "      <th>2</th>\n",
       "      <td>Family_size</td>\n",
       "      <td>0.037809</td>\n",
       "    </tr>\n",
       "    <tr>\n",
       "      <th>12</th>\n",
       "      <td>Cabin_type=N</td>\n",
       "      <td>0.022826</td>\n",
       "    </tr>\n",
       "    <tr>\n",
       "      <th>18</th>\n",
       "      <td>Pclass=2</td>\n",
       "      <td>0.022219</td>\n",
       "    </tr>\n",
       "    <tr>\n",
       "      <th>22</th>\n",
       "      <td>Surname=MASTER</td>\n",
       "      <td>0.018013</td>\n",
       "    </tr>\n",
       "  </tbody>\n",
       "</table>\n",
       "</div>"
      ],
      "text/plain": [
       "          features  importance\n",
       "24      Surname=MR    0.204823\n",
       "20      Sex=female    0.191553\n",
       "21        Sex=male    0.167570\n",
       "23    Surname=MISS    0.123521\n",
       "25     Surname=MRS    0.048483\n",
       "19        Pclass=3    0.042222\n",
       "2      Family_size    0.037809\n",
       "12    Cabin_type=N    0.022826\n",
       "18        Pclass=2    0.022219\n",
       "22  Surname=MASTER    0.018013"
      ]
     },
     "execution_count": 47,
     "metadata": {},
     "output_type": "execute_result"
    }
   ],
   "source": [
    "pd.DataFrame({'features' : features, 'importance' : XGB.feature_importances_}).\\\n",
    "           sort_values('importance',ascending = False).head(10)"
   ]
  },
  {
   "cell_type": "markdown",
   "metadata": {},
   "source": [
    "### for submitting"
   ]
  },
  {
   "cell_type": "code",
   "execution_count": 49,
   "metadata": {},
   "outputs": [
    {
     "data": {
      "text/plain": [
       "array([254, 164], dtype=int64)"
      ]
     },
     "execution_count": 49,
     "metadata": {},
     "output_type": "execute_result"
    }
   ],
   "source": [
    "np.bincount(XGB.predict(test_df[features]))\n",
    "\n",
    "pd.concat([test_df[['PassengerId']],pd.DataFrame(XGB.predict(test_df[features]),columns= ['Survived'],index = test_df.index)],axis = 1)\\\n",
    ".to_csv(f'{path}/titanic_submit10xgb.csv', index=False)"
   ]
  },
  {
   "cell_type": "markdown",
   "metadata": {},
   "source": [
    "# RF"
   ]
  },
  {
   "cell_type": "code",
   "execution_count": 120,
   "metadata": {},
   "outputs": [
    {
     "data": {
      "text/plain": [
       "(668, 27)"
      ]
     },
     "execution_count": 120,
     "metadata": {},
     "output_type": "execute_result"
    },
    {
     "data": {
      "text/plain": [
       "0    0.616766\n",
       "1    0.383234\n",
       "Name: Survived, dtype: float64"
      ]
     },
     "execution_count": 120,
     "metadata": {},
     "output_type": "execute_result"
    }
   ],
   "source": [
    "X_train.shape\n",
    "y_train.value_counts(normalize=True)"
   ]
  },
  {
   "cell_type": "code",
   "execution_count": 201,
   "metadata": {
    "scrolled": true
   },
   "outputs": [
    {
     "data": {
      "text/plain": [
       "RandomForestClassifier(bootstrap=True, ccp_alpha=0.0, class_weight=None,\n",
       "                       criterion='gini', max_depth=7, max_features=19,\n",
       "                       max_leaf_nodes=None, max_samples=None,\n",
       "                       min_impurity_decrease=0.0, min_impurity_split=None,\n",
       "                       min_samples_leaf=1, min_samples_split=2,\n",
       "                       min_weight_fraction_leaf=0.0, n_estimators=100,\n",
       "                       n_jobs=None, oob_score=False, random_state=69, verbose=0,\n",
       "                       warm_start=False)"
      ]
     },
     "execution_count": 201,
     "metadata": {},
     "output_type": "execute_result"
    }
   ],
   "source": [
    "#RF = RandomForestClassifier(n_estimators=750,oob_score=True,max_depth=6,max_features=8)\n",
    "RF = RandomForestClassifier(bootstrap=True, ccp_alpha=0.0, class_weight=None,\n",
    "                       criterion='gini', max_depth=7, max_features=19,\n",
    "                       max_leaf_nodes=None, max_samples=None,\n",
    "                       min_impurity_decrease=0.0, min_impurity_split=None,\n",
    "                       min_samples_leaf=1, min_samples_split=2,\n",
    "                       min_weight_fraction_leaf=0.0, n_estimators=100,\n",
    "                       n_jobs=None, oob_score=False, random_state=69, verbose=0,\n",
    "                       warm_start=False)\n",
    "RF.fit(X_train[features], y_train)"
   ]
  },
  {
   "cell_type": "code",
   "execution_count": 202,
   "metadata": {
    "scrolled": true
   },
   "outputs": [
    {
     "data": {
      "text/plain": [
       "0.9310344827586207"
      ]
     },
     "execution_count": 202,
     "metadata": {},
     "output_type": "execute_result"
    },
    {
     "data": {
      "text/plain": [
       "0.84375"
      ]
     },
     "execution_count": 202,
     "metadata": {},
     "output_type": "execute_result"
    },
    {
     "data": {
      "text/plain": [
       "array([[396,  16],\n",
       "       [ 40, 216]], dtype=int64)"
      ]
     },
     "execution_count": 202,
     "metadata": {},
     "output_type": "execute_result"
    },
    {
     "data": {
      "text/plain": [
       "0.9161676646706587"
      ]
     },
     "execution_count": 202,
     "metadata": {},
     "output_type": "execute_result"
    }
   ],
   "source": [
    "pred_bin = RF.predict(X_train)\n",
    "precision_score(y_train,pred_bin)\n",
    "recall_score(y_train,pred_bin)\n",
    "confusion_matrix(y_train,pred_bin)\n",
    "accuracy_score(y_train,pred_bin)"
   ]
  },
  {
   "cell_type": "markdown",
   "metadata": {},
   "source": [
    "##### prediction on test"
   ]
  },
  {
   "cell_type": "code",
   "execution_count": 203,
   "metadata": {
    "scrolled": false
   },
   "outputs": [
    {
     "data": {
      "text/plain": [
       "0.8"
      ]
     },
     "execution_count": 203,
     "metadata": {},
     "output_type": "execute_result"
    },
    {
     "data": {
      "text/plain": [
       "0.7441860465116279"
      ]
     },
     "execution_count": 203,
     "metadata": {},
     "output_type": "execute_result"
    },
    {
     "data": {
      "text/plain": [
       "array([[121,  16],\n",
       "       [ 22,  64]], dtype=int64)"
      ]
     },
     "execution_count": 203,
     "metadata": {},
     "output_type": "execute_result"
    },
    {
     "data": {
      "text/plain": [
       "0.8295964125560538"
      ]
     },
     "execution_count": 203,
     "metadata": {},
     "output_type": "execute_result"
    }
   ],
   "source": [
    "pred_bin = RF.predict(X_test)\n",
    "precision_score(y_test,pred_bin)\n",
    "recall_score(y_test,pred_bin)\n",
    "confusion_matrix(y_test,pred_bin)\n",
    "accuracy_score(y_test,pred_bin)"
   ]
  },
  {
   "cell_type": "markdown",
   "metadata": {},
   "source": [
    "### The mean score and the 95% confidence interval of the score estimate are hence given by:"
   ]
  },
  {
   "cell_type": "code",
   "execution_count": 204,
   "metadata": {},
   "outputs": [
    {
     "data": {
      "text/plain": [
       "array([0.83090418, 0.79400953, 0.8490246 , 0.78450363, 0.83433054])"
      ]
     },
     "execution_count": 204,
     "metadata": {},
     "output_type": "execute_result"
    },
    {
     "name": "stdout",
     "output_type": "stream",
     "text": [
      "Full Accuracy: 0.82(+/- 0.05)\n"
     ]
    },
    {
     "data": {
      "text/plain": [
       "array([0.8417616 , 0.80088988, 0.85541753, 0.8184375 , 0.83433054])"
      ]
     },
     "execution_count": 204,
     "metadata": {},
     "output_type": "execute_result"
    },
    {
     "name": "stdout",
     "output_type": "stream",
     "text": [
      "Full Accuracy: 0.83(+/- 0.04)\n"
     ]
    },
    {
     "data": {
      "text/plain": [
       "array([0.82411067, 0.78930481, 0.84425134, 0.77245989, 0.83433054])"
      ]
     },
     "execution_count": 204,
     "metadata": {},
     "output_type": "execute_result"
    },
    {
     "name": "stdout",
     "output_type": "stream",
     "text": [
      "Full Accuracy: 0.81(+/- 0.05)\n"
     ]
    }
   ],
   "source": [
    "all_accuracies_data = cross_val_score(estimator=RF, X=train_df[features], y=train_df[target], cv=5,scoring = 'f1_macro')\n",
    "all_accuracies_data\n",
    "print(\"Full Accuracy: %0.2f(+/- %0.2f)\" % (all_accuracies_data.mean(), all_accuracies_data.std()*2))\n",
    "\n",
    "all_accuracies_data = cross_val_score(estimator=RF, X=train_df[features], y=train_df[target], cv=5,scoring = 'precision_macro')\n",
    "all_accuracies_data\n",
    "print(\"Full Accuracy: %0.2f(+/- %0.2f)\" % (all_accuracies_data.mean(), all_accuracies_data.std()*2))\n",
    "\n",
    "all_accuracies_data = cross_val_score(estimator=RF, X=train_df[features], y=train_df[target], cv=5,scoring = 'recall_macro')\n",
    "all_accuracies_data\n",
    "print(\"Full Accuracy: %0.2f(+/- %0.2f)\" % (all_accuracies_data.mean(), all_accuracies_data.std()*2))"
   ]
  },
  {
   "cell_type": "code",
   "execution_count": 205,
   "metadata": {},
   "outputs": [
    {
     "data": {
      "text/html": [
       "<div>\n",
       "<style scoped>\n",
       "    .dataframe tbody tr th:only-of-type {\n",
       "        vertical-align: middle;\n",
       "    }\n",
       "\n",
       "    .dataframe tbody tr th {\n",
       "        vertical-align: top;\n",
       "    }\n",
       "\n",
       "    .dataframe thead th {\n",
       "        text-align: right;\n",
       "    }\n",
       "</style>\n",
       "<table border=\"1\" class=\"dataframe\">\n",
       "  <thead>\n",
       "    <tr style=\"text-align: right;\">\n",
       "      <th></th>\n",
       "      <th>features</th>\n",
       "      <th>importance</th>\n",
       "    </tr>\n",
       "  </thead>\n",
       "  <tbody>\n",
       "    <tr>\n",
       "      <th>24</th>\n",
       "      <td>Surname=MR</td>\n",
       "      <td>0.205599</td>\n",
       "    </tr>\n",
       "    <tr>\n",
       "      <th>1</th>\n",
       "      <td>Fare</td>\n",
       "      <td>0.165942</td>\n",
       "    </tr>\n",
       "    <tr>\n",
       "      <th>0</th>\n",
       "      <td>Age</td>\n",
       "      <td>0.132533</td>\n",
       "    </tr>\n",
       "    <tr>\n",
       "      <th>21</th>\n",
       "      <td>Sex=male</td>\n",
       "      <td>0.106785</td>\n",
       "    </tr>\n",
       "    <tr>\n",
       "      <th>20</th>\n",
       "      <td>Sex=female</td>\n",
       "      <td>0.104586</td>\n",
       "    </tr>\n",
       "    <tr>\n",
       "      <th>2</th>\n",
       "      <td>Family_size</td>\n",
       "      <td>0.081168</td>\n",
       "    </tr>\n",
       "    <tr>\n",
       "      <th>19</th>\n",
       "      <td>Pclass=3</td>\n",
       "      <td>0.064158</td>\n",
       "    </tr>\n",
       "    <tr>\n",
       "      <th>12</th>\n",
       "      <td>Cabin_type=N</td>\n",
       "      <td>0.019798</td>\n",
       "    </tr>\n",
       "    <tr>\n",
       "      <th>17</th>\n",
       "      <td>Pclass=1</td>\n",
       "      <td>0.014900</td>\n",
       "    </tr>\n",
       "    <tr>\n",
       "      <th>9</th>\n",
       "      <td>Cabin_type=E</td>\n",
       "      <td>0.013699</td>\n",
       "    </tr>\n",
       "  </tbody>\n",
       "</table>\n",
       "</div>"
      ],
      "text/plain": [
       "        features  importance\n",
       "24    Surname=MR    0.205599\n",
       "1           Fare    0.165942\n",
       "0            Age    0.132533\n",
       "21      Sex=male    0.106785\n",
       "20    Sex=female    0.104586\n",
       "2    Family_size    0.081168\n",
       "19      Pclass=3    0.064158\n",
       "12  Cabin_type=N    0.019798\n",
       "17      Pclass=1    0.014900\n",
       "9   Cabin_type=E    0.013699"
      ]
     },
     "execution_count": 205,
     "metadata": {},
     "output_type": "execute_result"
    }
   ],
   "source": [
    "pd.DataFrame({'features' : features, 'importance' : RF.feature_importances_}).\\\n",
    "           sort_values('importance',ascending = False).head(10)"
   ]
  },
  {
   "cell_type": "code",
   "execution_count": 206,
   "metadata": {},
   "outputs": [
    {
     "data": {
      "text/plain": [
       "array([265, 153], dtype=int64)"
      ]
     },
     "execution_count": 206,
     "metadata": {},
     "output_type": "execute_result"
    }
   ],
   "source": [
    "np.bincount(RF.predict(test_df[features]))\n",
    "\n",
    "pd.concat([test_df[['PassengerId']],pd.DataFrame(RF.predict(test_df[features]),columns= ['Survived'],index = test_df.index)],axis = 1)\\\n",
    ".to_csv(f'{path}/titanic_submit13rfgs.csv', index=False)"
   ]
  },
  {
   "cell_type": "markdown",
   "metadata": {},
   "source": [
    "# stacked model"
   ]
  },
  {
   "cell_type": "code",
   "execution_count": 126,
   "metadata": {},
   "outputs": [],
   "source": [
    "estimators = [('rf', RandomForestClassifier(n_estimators=750,oob_score=True,max_depth=6,max_features=8)),\n",
    " #   ('svr', make_pipeline(StandardScaler(),LinearSVC(random_state=42))),\n",
    "    ('knn', make_pipeline(StandardScaler(),KNeighborsClassifier(n_neighbors=5))),\n",
    "    ('lr', make_pipeline(StandardScaler(), LogisticRegression(solver = 'lbfgs', max_iter=10000,C= 0.1))),\n",
    "    ('XGB', XGBClassifier(n_estimators = 500,learning_rate= 0.001,colsample_bytree= 0.75,subsample=0.9))]"
   ]
  },
  {
   "cell_type": "code",
   "execution_count": 127,
   "metadata": {},
   "outputs": [],
   "source": [
    "clf = StackingClassifier(\n",
    "    estimators=estimators, final_estimator=RandomForestClassifier(n_estimators=750,oob_score=True,\\\n",
    "                                                                  max_depth=6,max_features=8),cv = 5,passthrough=True)"
   ]
  },
  {
   "cell_type": "code",
   "execution_count": 128,
   "metadata": {
    "scrolled": true
   },
   "outputs": [],
   "source": [
    "clf.fit(X_train[features], y_train);"
   ]
  },
  {
   "cell_type": "code",
   "execution_count": 129,
   "metadata": {
    "scrolled": true
   },
   "outputs": [
    {
     "data": {
      "text/plain": [
       "0.8839285714285714"
      ]
     },
     "execution_count": 129,
     "metadata": {},
     "output_type": "execute_result"
    },
    {
     "data": {
      "text/plain": [
       "0.7734375"
      ]
     },
     "execution_count": 129,
     "metadata": {},
     "output_type": "execute_result"
    },
    {
     "data": {
      "text/plain": [
       "array([[386,  26],\n",
       "       [ 58, 198]], dtype=int64)"
      ]
     },
     "execution_count": 129,
     "metadata": {},
     "output_type": "execute_result"
    },
    {
     "data": {
      "text/plain": [
       "0.874251497005988"
      ]
     },
     "execution_count": 129,
     "metadata": {},
     "output_type": "execute_result"
    }
   ],
   "source": [
    "pred_bin = clf.predict(X_train)\n",
    "precision_score(y_train,pred_bin)\n",
    "recall_score(y_train,pred_bin)\n",
    "confusion_matrix(y_train,pred_bin)\n",
    "accuracy_score(y_train,pred_bin)"
   ]
  },
  {
   "cell_type": "markdown",
   "metadata": {},
   "source": [
    "##### prediction on test"
   ]
  },
  {
   "cell_type": "code",
   "execution_count": 130,
   "metadata": {
    "scrolled": true
   },
   "outputs": [
    {
     "data": {
      "text/plain": [
       "0.8227848101265823"
      ]
     },
     "execution_count": 130,
     "metadata": {},
     "output_type": "execute_result"
    },
    {
     "data": {
      "text/plain": [
       "0.7558139534883721"
      ]
     },
     "execution_count": 130,
     "metadata": {},
     "output_type": "execute_result"
    },
    {
     "data": {
      "text/plain": [
       "array([[123,  14],\n",
       "       [ 21,  65]], dtype=int64)"
      ]
     },
     "execution_count": 130,
     "metadata": {},
     "output_type": "execute_result"
    },
    {
     "data": {
      "text/plain": [
       "0.8430493273542601"
      ]
     },
     "execution_count": 130,
     "metadata": {},
     "output_type": "execute_result"
    }
   ],
   "source": [
    "pred_bin = clf.predict(X_test)\n",
    "precision_score(y_test,pred_bin)\n",
    "recall_score(y_test,pred_bin)\n",
    "confusion_matrix(y_test,pred_bin)\n",
    "accuracy_score(y_test,pred_bin)"
   ]
  },
  {
   "cell_type": "markdown",
   "metadata": {},
   "source": [
    "### The mean score and the 95% confidence interval of the score estimate are hence given by:"
   ]
  },
  {
   "cell_type": "code",
   "execution_count": 168,
   "metadata": {},
   "outputs": [
    {
     "data": {
      "text/plain": [
       "array([0.83199249, 0.78962736, 0.82372025, 0.77521198, 0.83036079])"
      ]
     },
     "execution_count": 168,
     "metadata": {},
     "output_type": "execute_result"
    },
    {
     "name": "stdout",
     "output_type": "stream",
     "text": [
      "Full Accuracy: 0.81(+/- 0.05)\n"
     ]
    },
    {
     "data": {
      "text/plain": [
       "array([0.84449728, 0.80752342, 0.82782486, 0.82323718, 0.84872881])"
      ]
     },
     "execution_count": 168,
     "metadata": {},
     "output_type": "execute_result"
    },
    {
     "name": "stdout",
     "output_type": "stream",
     "text": [
      "Full Accuracy: 0.83(+/- 0.03)\n"
     ]
    },
    {
     "data": {
      "text/plain": [
       "array([0.82681159, 0.78088235, 0.81764706, 0.77700535, 0.82828081])"
      ]
     },
     "execution_count": 168,
     "metadata": {},
     "output_type": "execute_result"
    },
    {
     "name": "stdout",
     "output_type": "stream",
     "text": [
      "Full Accuracy: 0.81(+/- 0.05)\n"
     ]
    }
   ],
   "source": [
    "all_accuracies_data = cross_val_score(estimator=clf, X=train_df[features], y=train_df[target], cv=5,scoring = 'f1_macro')\n",
    "all_accuracies_data\n",
    "print(\"Full Accuracy: %0.2f(+/- %0.2f)\" % (all_accuracies_data.mean(), all_accuracies_data.std()*2))\n",
    "\n",
    "all_accuracies_data = cross_val_score(estimator=clf, X=train_df[features], y=train_df[target], cv=5,scoring = 'precision_macro')\n",
    "all_accuracies_data\n",
    "print(\"Full Accuracy: %0.2f(+/- %0.2f)\" % (all_accuracies_data.mean(), all_accuracies_data.std()*2))\n",
    "\n",
    "all_accuracies_data = cross_val_score(estimator=clf, X=train_df[features], y=train_df[target], cv=5,scoring = 'recall_macro')\n",
    "all_accuracies_data\n",
    "print(\"Full Accuracy: %0.2f(+/- %0.2f)\" % (all_accuracies_data.mean(), all_accuracies_data.std()*2))"
   ]
  },
  {
   "cell_type": "code",
   "execution_count": 132,
   "metadata": {},
   "outputs": [
    {
     "data": {
      "text/plain": [
       "array([263, 155], dtype=int64)"
      ]
     },
     "execution_count": 132,
     "metadata": {},
     "output_type": "execute_result"
    }
   ],
   "source": [
    "np.bincount(clf.predict(test_df[features]))\n",
    "\n",
    "pd.concat([test_df[['PassengerId']],pd.DataFrame(clf.predict(test_df[features]),columns= ['Survived'],index = test_df.index)],axis = 1)\\\n",
    ".to_csv(f'{path}/titanic_submit12rstk_clf.csv', index=False)"
   ]
  },
  {
   "cell_type": "markdown",
   "metadata": {},
   "source": [
    "# plotting roc curve"
   ]
  },
  {
   "cell_type": "code",
   "execution_count": 154,
   "metadata": {
    "scrolled": false
   },
   "outputs": [
    {
     "data": {
      "image/png": "[encoded data removed]",
      "text/plain": [
       "<Figure size 432x288 with 1 Axes>"
      ]
     },
     "metadata": {
      "needs_background": "light"
     },
     "output_type": "display_data"
    }
   ],
   "source": [
    "rf_disp = plot_roc_curve(RF, X_test, y_test)\n",
    "ax = plt.gca()\n",
    "stk_disp = plot_roc_curve(clf, X_test, y_test, ax=ax, alpha=0.8)\n",
    "xgb_disp = plot_roc_curve(XGB, X_test, y_test, ax=ax, alpha=0.8)\n",
    "lr_disp = plot_roc_curve(logreg, X_test, y_test, ax=ax, alpha=0.8)\n",
    "plt.show()"
   ]
  },
  {
   "cell_type": "markdown",
   "metadata": {},
   "source": [
    "# plotting precision recall curve"
   ]
  },
  {
   "cell_type": "code",
   "execution_count": 141,
   "metadata": {
    "scrolled": false
   },
   "outputs": [
    {
     "data": {
      "image/png": "[encoded data removed]",
      "text/plain": [
       "<Figure size 432x288 with 1 Axes>"
      ]
     },
     "metadata": {
      "needs_background": "light"
     },
     "output_type": "display_data"
    }
   ],
   "source": [
    "rf_disp = plot_precision_recall_curve(RF, X_test, y_test)\n",
    "ax = plt.gca()\n",
    "stk_disp = plot_precision_recall_curve(clf, X_test, y_test, ax=ax, alpha=0.8)\n",
    "xgb_disp = plot_precision_recall_curve(XGB, X_test, y_test, ax=ax, alpha=0.8)\n",
    "lr_disp = plot_precision_recall_curve(logreg, X_test, y_test, ax=ax, alpha=0.8)\n",
    "plt.show()"
   ]
  },
  {
   "cell_type": "markdown",
   "metadata": {},
   "source": [
    "# Grid Search on RF"
   ]
  },
  {
   "cell_type": "code",
   "execution_count": 185,
   "metadata": {},
   "outputs": [
    {
     "data": {
      "text/plain": [
       "RandomForestClassifier(bootstrap=True, ccp_alpha=0.0, class_weight=None,\n",
       "                       criterion='gini', max_depth=None, max_features='auto',\n",
       "                       max_leaf_nodes=None, max_samples=None,\n",
       "                       min_impurity_decrease=0.0, min_impurity_split=None,\n",
       "                       min_samples_leaf=1, min_samples_split=2,\n",
       "                       min_weight_fraction_leaf=0.0, n_estimators=100,\n",
       "                       n_jobs=None, oob_score=False, random_state=None,\n",
       "                       verbose=0, warm_start=False)"
      ]
     },
     "execution_count": 185,
     "metadata": {},
     "output_type": "execute_result"
    }
   ],
   "source": [
    "RandomForestClassifier()"
   ]
  },
  {
   "cell_type": "code",
   "execution_count": 197,
   "metadata": {},
   "outputs": [
    {
     "data": {
      "text/plain": [
       "GridSearchCV(cv=10, error_score=nan,\n",
       "             estimator=RandomForestClassifier(bootstrap=True, ccp_alpha=0.0,\n",
       "                                              class_weight=None,\n",
       "                                              criterion='gini', max_depth=None,\n",
       "                                              max_features='auto',\n",
       "                                              max_leaf_nodes=None,\n",
       "                                              max_samples=None,\n",
       "                                              min_impurity_decrease=0.0,\n",
       "                                              min_impurity_split=None,\n",
       "                                              min_samples_leaf=1,\n",
       "                                              min_samples_split=2,\n",
       "                                              min_weight_fraction_leaf=0.0,\n",
       "                                              n_estimators=100, n_jobs=None,\n",
       "                                              oob_score=False, random_state=69,\n",
       "                                              verbose=0, warm_start=False),\n",
       "             iid='deprecated', n_jobs=-1,\n",
       "             param_grid=[{'n_estimators': [100, 200, 300, 400, 500, 600, 700,\n",
       "                                           800]},\n",
       "                         {'oob_score': [False, True]},\n",
       "                         {'max_depth': [3, 5, 6, 7, 8, 9, 10],\n",
       "                          'max_features': [6, 8, 10, 12, 15, 17, 18, 19, 20,\n",
       "                                           21]}],\n",
       "             pre_dispatch='2*n_jobs', refit=True, return_train_score=False,\n",
       "             scoring='precision_macro', verbose=0)"
      ]
     },
     "execution_count": 197,
     "metadata": {},
     "output_type": "execute_result"
    }
   ],
   "source": [
    "# Set the parameters by cross-validation\n",
    "param_grid = [{'n_estimators': [100,200,300,400,500,600,700,800]}, {'oob_score': [False, True]},\n",
    "                     {'max_depth': [3,5,6,7,8,9,10], 'max_features' : [6,8,10,12,15,17,18,19,20,21]}]\n",
    "\n",
    "\n",
    "rf_gs = GridSearchCV(RandomForestClassifier(random_state = 69),param_grid,n_jobs=-1,cv = 10, scoring='precision_macro')\n",
    "rf_gs.fit(X_train, y_train)\n"
   ]
  },
  {
   "cell_type": "code",
   "execution_count": 209,
   "metadata": {},
   "outputs": [
    {
     "data": {
      "text/plain": [
       "RandomForestClassifier(bootstrap=True, ccp_alpha=0.0, class_weight=None,\n",
       "                       criterion='gini', max_depth=7, max_features=19,\n",
       "                       max_leaf_nodes=None, max_samples=None,\n",
       "                       min_impurity_decrease=0.0, min_impurity_split=None,\n",
       "                       min_samples_leaf=1, min_samples_split=2,\n",
       "                       min_weight_fraction_leaf=0.0, n_estimators=100,\n",
       "                       n_jobs=None, oob_score=False, random_state=69, verbose=0,\n",
       "                       warm_start=False)"
      ]
     },
     "execution_count": 209,
     "metadata": {},
     "output_type": "execute_result"
    },
    {
     "data": {
      "text/plain": [
       "{'max_depth': 7, 'max_features': 19}"
      ]
     },
     "execution_count": 209,
     "metadata": {},
     "output_type": "execute_result"
    },
    {
     "data": {
      "text/plain": [
       "0.8383474413713999"
      ]
     },
     "execution_count": 209,
     "metadata": {},
     "output_type": "execute_result"
    },
    {
     "data": {
      "text/plain": [
       "47"
      ]
     },
     "execution_count": 209,
     "metadata": {},
     "output_type": "execute_result"
    }
   ],
   "source": [
    "rf_gs.best_estimator_\n",
    "rf_gs.best_params_\n",
    "rf_gs.best_score_\n",
    "rf_gs.best_index_"
   ]
  },
  {
   "cell_type": "code",
   "execution_count": 208,
   "metadata": {},
   "outputs": [
    {
     "data": {
      "text/plain": [
       "{'mean_fit_time': array([0.36165483, 0.67903743, 1.00656457, 1.34499755, 1.67148256,\n",
       "        2.01046662, 2.35569808, 2.72665267, 0.35702782, 0.43286071,\n",
       "        0.3027159 , 0.30246747, 0.30849493, 0.31313798, 0.3257802 ,\n",
       "        0.32721608, 0.32579451, 0.33205228, 0.33120148, 0.34068069,\n",
       "        0.31436455, 0.32079709, 0.33605053, 0.33548429, 0.34253154,\n",
       "        0.35642142, 0.35947342, 0.36043859, 0.36204066, 0.36764884,\n",
       "        0.31730554, 0.32785215, 0.3382766 , 0.33927379, 0.35274649,\n",
       "        0.36779497, 0.36662731, 0.37166963, 0.38250411, 0.38456318,\n",
       "        0.32619932, 0.33446746, 0.34063556, 0.35393181, 0.36841583,\n",
       "        0.37853944, 0.37749774, 0.38573782, 0.39437149, 0.39741323,\n",
       "        0.33325608, 0.34014835, 0.3582396 , 0.35759802, 0.3750562 ,\n",
       "        0.38570721, 0.39273016, 0.39744258, 0.3988025 , 0.40792379,\n",
       "        0.33906758, 0.34375246, 0.35622568, 0.36605699, 0.38346891,\n",
       "        0.48242583, 0.46688049, 0.5006887 , 0.50548966, 0.51140552,\n",
       "        0.43751183, 0.49641087, 0.45034823, 0.46511621, 0.48864346,\n",
       "        0.47996099, 0.50278957, 0.5074091 , 0.51048934, 0.49263003]),\n",
       " 'std_fit_time': array([0.01987346, 0.01383025, 0.0156287 , 0.01093522, 0.00987955,\n",
       "        0.01982109, 0.01821723, 0.03187685, 0.02741061, 0.00419843,\n",
       "        0.01280507, 0.00554821, 0.00667413, 0.00682876, 0.00751691,\n",
       "        0.0093704 , 0.01187804, 0.01295202, 0.00631056, 0.00948668,\n",
       "        0.01154716, 0.00650056, 0.00915329, 0.01055068, 0.0078208 ,\n",
       "        0.00509623, 0.01539216, 0.00833894, 0.00798398, 0.00744428,\n",
       "        0.01048174, 0.00986752, 0.011639  , 0.00433114, 0.00685575,\n",
       "        0.01076568, 0.00919357, 0.00896225, 0.00909116, 0.00863785,\n",
       "        0.00769036, 0.01140587, 0.00917081, 0.00866631, 0.01124512,\n",
       "        0.01033305, 0.00617969, 0.01228778, 0.00888907, 0.01103062,\n",
       "        0.00888723, 0.00851132, 0.01116721, 0.0085594 , 0.00921389,\n",
       "        0.00717817, 0.00970496, 0.0120577 , 0.01039878, 0.00965456,\n",
       "        0.01122267, 0.00501134, 0.00480519, 0.00684776, 0.01039998,\n",
       "        0.05740715, 0.01174944, 0.00718977, 0.01249499, 0.01238041,\n",
       "        0.0253509 , 0.03251521, 0.01352105, 0.00596093, 0.0141298 ,\n",
       "        0.01658285, 0.00950465, 0.01331903, 0.00670336, 0.04997276]),\n",
       " 'mean_score_time': array([0.0218204 , 0.04373944, 0.06092315, 0.07654467, 0.0968528 ,\n",
       "        0.1124738 , 0.12653289, 0.1473943 , 0.02205949, 0.02277365,\n",
       "        0.02357113, 0.0213464 , 0.02093973, 0.021141  , 0.02054718,\n",
       "        0.02033539, 0.02115037, 0.0209363 , 0.02114341, 0.0219497 ,\n",
       "        0.02335629, 0.02255383, 0.02134192, 0.02215266, 0.02335172,\n",
       "        0.02294993, 0.02335358, 0.02295647, 0.02255893, 0.02276156,\n",
       "        0.02376385, 0.02093678, 0.02234752, 0.02235112, 0.02214375,\n",
       "        0.02174463, 0.02114415, 0.0231549 , 0.02053778, 0.02194479,\n",
       "        0.0215477 , 0.02315018, 0.02115283, 0.02235024, 0.02134788,\n",
       "        0.02316604, 0.02476153, 0.02294695, 0.02294464, 0.02475722,\n",
       "        0.02295508, 0.02576694, 0.02295656, 0.01932902, 0.0221483 ,\n",
       "        0.02059953, 0.02232296, 0.02114515, 0.02033832, 0.02194691,\n",
       "        0.02195168, 0.0227515 , 0.0235611 , 0.02174747, 0.02337401,\n",
       "        0.02403703, 0.02759302, 0.02678745, 0.02699125, 0.02700753,\n",
       "        0.0326319 , 0.02972338, 0.02903278, 0.02963355, 0.03027744,\n",
       "        0.02941194, 0.02962189, 0.02741709, 0.0272099 , 0.02260833]),\n",
       " 'std_score_time': array([0.00911899, 0.00624853, 0.00468613, 0.00468632, 0.00624834,\n",
       "        0.00624838, 0.00468609, 0.01046701, 0.00474152, 0.00382443,\n",
       "        0.0038375 , 0.00242101, 0.00240675, 0.00241921, 0.00080734,\n",
       "        0.000609  , 0.00241731, 0.00241344, 0.00242258, 0.00364675,\n",
       "        0.00394513, 0.00346702, 0.00242161, 0.00312095, 0.00451647,\n",
       "        0.00394268, 0.00393593, 0.00394209, 0.00368318, 0.00338144,\n",
       "        0.00410278, 0.00240962, 0.0030412 , 0.00304262, 0.00311792,\n",
       "        0.00321686, 0.00243676, 0.00424474, 0.00080646, 0.00316787,\n",
       "        0.00299662, 0.00384352, 0.00242562, 0.00303893, 0.00241576,\n",
       "        0.0038478 , 0.0043219 , 0.0043342 , 0.00394444, 0.00393073,\n",
       "        0.0039375 , 0.00429581, 0.00393804, 0.00240962, 0.00311775,\n",
       "        0.00076177, 0.00216754, 0.0010053 , 0.00061123, 0.00318165,\n",
       "        0.00317002, 0.00402429, 0.00382133, 0.00322635, 0.00414702,\n",
       "        0.00275357, 0.00402925, 0.00359584, 0.00414855, 0.0037278 ,\n",
       "        0.00770172, 0.00335351, 0.00533801, 0.00441985, 0.00870595,\n",
       "        0.00098847, 0.00092258, 0.0043564 , 0.0038556 , 0.00579821]),\n",
       " 'param_n_estimators': masked_array(data=[100, 200, 300, 400, 500, 600, 700, 800, --, --, --, --,\n",
       "                    --, --, --, --, --, --, --, --, --, --, --, --, --, --,\n",
       "                    --, --, --, --, --, --, --, --, --, --, --, --, --, --,\n",
       "                    --, --, --, --, --, --, --, --, --, --, --, --, --, --,\n",
       "                    --, --, --, --, --, --, --, --, --, --, --, --, --, --,\n",
       "                    --, --, --, --, --, --, --, --, --, --, --, --],\n",
       "              mask=[False, False, False, False, False, False, False, False,\n",
       "                     True,  True,  True,  True,  True,  True,  True,  True,\n",
       "                     True,  True,  True,  True,  True,  True,  True,  True,\n",
       "                     True,  True,  True,  True,  True,  True,  True,  True,\n",
       "                     True,  True,  True,  True,  True,  True,  True,  True,\n",
       "                     True,  True,  True,  True,  True,  True,  True,  True,\n",
       "                     True,  True,  True,  True,  True,  True,  True,  True,\n",
       "                     True,  True,  True,  True,  True,  True,  True,  True,\n",
       "                     True,  True,  True,  True,  True,  True,  True,  True,\n",
       "                     True,  True,  True,  True,  True,  True,  True,  True],\n",
       "        fill_value='?',\n",
       "             dtype=object),\n",
       " 'param_oob_score': masked_array(data=[--, --, --, --, --, --, --, --, False, True, --, --,\n",
       "                    --, --, --, --, --, --, --, --, --, --, --, --, --, --,\n",
       "                    --, --, --, --, --, --, --, --, --, --, --, --, --, --,\n",
       "                    --, --, --, --, --, --, --, --, --, --, --, --, --, --,\n",
       "                    --, --, --, --, --, --, --, --, --, --, --, --, --, --,\n",
       "                    --, --, --, --, --, --, --, --, --, --, --, --],\n",
       "              mask=[ True,  True,  True,  True,  True,  True,  True,  True,\n",
       "                    False, False,  True,  True,  True,  True,  True,  True,\n",
       "                     True,  True,  True,  True,  True,  True,  True,  True,\n",
       "                     True,  True,  True,  True,  True,  True,  True,  True,\n",
       "                     True,  True,  True,  True,  True,  True,  True,  True,\n",
       "                     True,  True,  True,  True,  True,  True,  True,  True,\n",
       "                     True,  True,  True,  True,  True,  True,  True,  True,\n",
       "                     True,  True,  True,  True,  True,  True,  True,  True,\n",
       "                     True,  True,  True,  True,  True,  True,  True,  True,\n",
       "                     True,  True,  True,  True,  True,  True,  True,  True],\n",
       "        fill_value='?',\n",
       "             dtype=object),\n",
       " 'param_max_depth': masked_array(data=[--, --, --, --, --, --, --, --, --, --, 3, 3, 3, 3, 3,\n",
       "                    3, 3, 3, 3, 3, 5, 5, 5, 5, 5, 5, 5, 5, 5, 5, 6, 6, 6,\n",
       "                    6, 6, 6, 6, 6, 6, 6, 7, 7, 7, 7, 7, 7, 7, 7, 7, 7, 8,\n",
       "                    8, 8, 8, 8, 8, 8, 8, 8, 8, 9, 9, 9, 9, 9, 9, 9, 9, 9,\n",
       "                    9, 10, 10, 10, 10, 10, 10, 10, 10, 10, 10],\n",
       "              mask=[ True,  True,  True,  True,  True,  True,  True,  True,\n",
       "                     True,  True, False, False, False, False, False, False,\n",
       "                    False, False, False, False, False, False, False, False,\n",
       "                    False, False, False, False, False, False, False, False,\n",
       "                    False, False, False, False, False, False, False, False,\n",
       "                    False, False, False, False, False, False, False, False,\n",
       "                    False, False, False, False, False, False, False, False,\n",
       "                    False, False, False, False, False, False, False, False,\n",
       "                    False, False, False, False, False, False, False, False,\n",
       "                    False, False, False, False, False, False, False, False],\n",
       "        fill_value='?',\n",
       "             dtype=object),\n",
       " 'param_max_features': masked_array(data=[--, --, --, --, --, --, --, --, --, --, 6, 8, 10, 12,\n",
       "                    15, 17, 18, 19, 20, 21, 6, 8, 10, 12, 15, 17, 18, 19,\n",
       "                    20, 21, 6, 8, 10, 12, 15, 17, 18, 19, 20, 21, 6, 8, 10,\n",
       "                    12, 15, 17, 18, 19, 20, 21, 6, 8, 10, 12, 15, 17, 18,\n",
       "                    19, 20, 21, 6, 8, 10, 12, 15, 17, 18, 19, 20, 21, 6, 8,\n",
       "                    10, 12, 15, 17, 18, 19, 20, 21],\n",
       "              mask=[ True,  True,  True,  True,  True,  True,  True,  True,\n",
       "                     True,  True, False, False, False, False, False, False,\n",
       "                    False, False, False, False, False, False, False, False,\n",
       "                    False, False, False, False, False, False, False, False,\n",
       "                    False, False, False, False, False, False, False, False,\n",
       "                    False, False, False, False, False, False, False, False,\n",
       "                    False, False, False, False, False, False, False, False,\n",
       "                    False, False, False, False, False, False, False, False,\n",
       "                    False, False, False, False, False, False, False, False,\n",
       "                    False, False, False, False, False, False, False, False],\n",
       "        fill_value='?',\n",
       "             dtype=object),\n",
       " 'params': [{'n_estimators': 100},\n",
       "  {'n_estimators': 200},\n",
       "  {'n_estimators': 300},\n",
       "  {'n_estimators': 400},\n",
       "  {'n_estimators': 500},\n",
       "  {'n_estimators': 600},\n",
       "  {'n_estimators': 700},\n",
       "  {'n_estimators': 800},\n",
       "  {'oob_score': False},\n",
       "  {'oob_score': True},\n",
       "  {'max_depth': 3, 'max_features': 6},\n",
       "  {'max_depth': 3, 'max_features': 8},\n",
       "  {'max_depth': 3, 'max_features': 10},\n",
       "  {'max_depth': 3, 'max_features': 12},\n",
       "  {'max_depth': 3, 'max_features': 15},\n",
       "  {'max_depth': 3, 'max_features': 17},\n",
       "  {'max_depth': 3, 'max_features': 18},\n",
       "  {'max_depth': 3, 'max_features': 19},\n",
       "  {'max_depth': 3, 'max_features': 20},\n",
       "  {'max_depth': 3, 'max_features': 21},\n",
       "  {'max_depth': 5, 'max_features': 6},\n",
       "  {'max_depth': 5, 'max_features': 8},\n",
       "  {'max_depth': 5, 'max_features': 10},\n",
       "  {'max_depth': 5, 'max_features': 12},\n",
       "  {'max_depth': 5, 'max_features': 15},\n",
       "  {'max_depth': 5, 'max_features': 17},\n",
       "  {'max_depth': 5, 'max_features': 18},\n",
       "  {'max_depth': 5, 'max_features': 19},\n",
       "  {'max_depth': 5, 'max_features': 20},\n",
       "  {'max_depth': 5, 'max_features': 21},\n",
       "  {'max_depth': 6, 'max_features': 6},\n",
       "  {'max_depth': 6, 'max_features': 8},\n",
       "  {'max_depth': 6, 'max_features': 10},\n",
       "  {'max_depth': 6, 'max_features': 12},\n",
       "  {'max_depth': 6, 'max_features': 15},\n",
       "  {'max_depth': 6, 'max_features': 17},\n",
       "  {'max_depth': 6, 'max_features': 18},\n",
       "  {'max_depth': 6, 'max_features': 19},\n",
       "  {'max_depth': 6, 'max_features': 20},\n",
       "  {'max_depth': 6, 'max_features': 21},\n",
       "  {'max_depth': 7, 'max_features': 6},\n",
       "  {'max_depth': 7, 'max_features': 8},\n",
       "  {'max_depth': 7, 'max_features': 10},\n",
       "  {'max_depth': 7, 'max_features': 12},\n",
       "  {'max_depth': 7, 'max_features': 15},\n",
       "  {'max_depth': 7, 'max_features': 17},\n",
       "  {'max_depth': 7, 'max_features': 18},\n",
       "  {'max_depth': 7, 'max_features': 19},\n",
       "  {'max_depth': 7, 'max_features': 20},\n",
       "  {'max_depth': 7, 'max_features': 21},\n",
       "  {'max_depth': 8, 'max_features': 6},\n",
       "  {'max_depth': 8, 'max_features': 8},\n",
       "  {'max_depth': 8, 'max_features': 10},\n",
       "  {'max_depth': 8, 'max_features': 12},\n",
       "  {'max_depth': 8, 'max_features': 15},\n",
       "  {'max_depth': 8, 'max_features': 17},\n",
       "  {'max_depth': 8, 'max_features': 18},\n",
       "  {'max_depth': 8, 'max_features': 19},\n",
       "  {'max_depth': 8, 'max_features': 20},\n",
       "  {'max_depth': 8, 'max_features': 21},\n",
       "  {'max_depth': 9, 'max_features': 6},\n",
       "  {'max_depth': 9, 'max_features': 8},\n",
       "  {'max_depth': 9, 'max_features': 10},\n",
       "  {'max_depth': 9, 'max_features': 12},\n",
       "  {'max_depth': 9, 'max_features': 15},\n",
       "  {'max_depth': 9, 'max_features': 17},\n",
       "  {'max_depth': 9, 'max_features': 18},\n",
       "  {'max_depth': 9, 'max_features': 19},\n",
       "  {'max_depth': 9, 'max_features': 20},\n",
       "  {'max_depth': 9, 'max_features': 21},\n",
       "  {'max_depth': 10, 'max_features': 6},\n",
       "  {'max_depth': 10, 'max_features': 8},\n",
       "  {'max_depth': 10, 'max_features': 10},\n",
       "  {'max_depth': 10, 'max_features': 12},\n",
       "  {'max_depth': 10, 'max_features': 15},\n",
       "  {'max_depth': 10, 'max_features': 17},\n",
       "  {'max_depth': 10, 'max_features': 18},\n",
       "  {'max_depth': 10, 'max_features': 19},\n",
       "  {'max_depth': 10, 'max_features': 20},\n",
       "  {'max_depth': 10, 'max_features': 21}],\n",
       " 'split0_test_score': array([0.83888889, 0.83888889, 0.83888889, 0.83888889, 0.83888889,\n",
       "        0.83888889, 0.83888889, 0.83888889, 0.83888889, 0.83888889,\n",
       "        0.85852713, 0.87238095, 0.87238095, 0.87238095, 0.87238095,\n",
       "        0.87238095, 0.87238095, 0.87238095, 0.87238095, 0.87238095,\n",
       "        0.87238095, 0.85852713, 0.85852713, 0.85506567, 0.85506567,\n",
       "        0.85506567, 0.87238095, 0.87238095, 0.87238095, 0.87238095,\n",
       "        0.85852713, 0.82606589, 0.84486166, 0.84047619, 0.84047619,\n",
       "        0.85506567, 0.87238095, 0.85506567, 0.85506567, 0.85506567,\n",
       "        0.82606589, 0.82606589, 0.84047619, 0.84047619, 0.84486166,\n",
       "        0.85506567, 0.84047619, 0.85852713, 0.84047619, 0.85852713,\n",
       "        0.82606589, 0.84486166, 0.84047619, 0.84047619, 0.85506567,\n",
       "        0.85506567, 0.85506567, 0.87238095, 0.85506567, 0.85506567,\n",
       "        0.85506567, 0.84047619, 0.84047619, 0.85506567, 0.85506567,\n",
       "        0.87238095, 0.87238095, 0.87238095, 0.86990741, 0.85506567,\n",
       "        0.85506567, 0.83888889, 0.85852713, 0.82363977, 0.85506567,\n",
       "        0.85506567, 0.85506567, 0.85506567, 0.85506567, 0.85506567]),\n",
       " 'split1_test_score': array([0.81175889, 0.81175889, 0.79360465, 0.81175889, 0.79360465,\n",
       "        0.79360465, 0.79360465, 0.79360465, 0.81175889, 0.81175889,\n",
       "        0.83131313, 0.83131313, 0.83131313, 0.84486166, 0.83131313,\n",
       "        0.81780538, 0.81780538, 0.81780538, 0.81780538, 0.81780538,\n",
       "        0.83131313, 0.84486166, 0.81780538, 0.84486166, 0.83131313,\n",
       "        0.83989362, 0.83989362, 0.81780538, 0.83989362, 0.83989362,\n",
       "        0.83131313, 0.83131313, 0.83131313, 0.81780538, 0.82730263,\n",
       "        0.83989362, 0.83989362, 0.83989362, 0.85248447, 0.82730263,\n",
       "        0.81780538, 0.85248447, 0.83989362, 0.83989362, 0.81780538,\n",
       "        0.80425532, 0.83989362, 0.83989362, 0.81780538, 0.81780538,\n",
       "        0.83131313, 0.85248447, 0.81780538, 0.81780538, 0.81780538,\n",
       "        0.83131313, 0.83131313, 0.83131313, 0.81780538, 0.80425532,\n",
       "        0.83131313, 0.83131313, 0.83989362, 0.83131313, 0.80425532,\n",
       "        0.83131313, 0.83131313, 0.83989362, 0.80425532, 0.81780538,\n",
       "        0.85248447, 0.81175889, 0.83131313, 0.81780538, 0.81780538,\n",
       "        0.83989362, 0.80425532, 0.83131313, 0.81780538, 0.83131313]),\n",
       " 'split2_test_score': array([0.78243243, 0.78243243, 0.78243243, 0.78243243, 0.78243243,\n",
       "        0.76926523, 0.76926523, 0.76926523, 0.78243243, 0.78243243,\n",
       "        0.68459302, 0.71705426, 0.71705426, 0.73285714, 0.76435185,\n",
       "        0.73285714, 0.73285714, 0.73285714, 0.76435185, 0.74859287,\n",
       "        0.76435185, 0.76435185, 0.76435185, 0.76435185, 0.76435185,\n",
       "        0.78021978, 0.76435185, 0.76435185, 0.76435185, 0.76435185,\n",
       "        0.78197674, 0.78001876, 0.7647619 , 0.74859287, 0.74859287,\n",
       "        0.7647619 , 0.74859287, 0.78001876, 0.74859287, 0.76435185,\n",
       "        0.76435185, 0.78197674, 0.79666667, 0.78197674, 0.7647619 ,\n",
       "        0.74859287, 0.7647619 , 0.7647619 , 0.78197674, 0.7647619 ,\n",
       "        0.79666667, 0.78197674, 0.79666667, 0.74859287, 0.79666667,\n",
       "        0.79666667, 0.79666667, 0.74859287, 0.7647619 , 0.7647619 ,\n",
       "        0.79666667, 0.78001876, 0.81144465, 0.78001876, 0.76435185,\n",
       "        0.81144465, 0.76435185, 0.76435185, 0.81144465, 0.78021978,\n",
       "        0.78001876, 0.7647619 , 0.78001876, 0.76435185, 0.78021978,\n",
       "        0.79537037, 0.79537037, 0.82638889, 0.79627949, 0.76435185]),\n",
       " 'split3_test_score': array([0.85361842, 0.81688596, 0.81688596, 0.82925532, 0.82925532,\n",
       "        0.82925532, 0.82925532, 0.82925532, 0.85361842, 0.85361842,\n",
       "        0.86489362, 0.84161491, 0.84161491, 0.84161491, 0.84161491,\n",
       "        0.84161491, 0.84161491, 0.84161491, 0.8540404 , 0.8540404 ,\n",
       "        0.84161491, 0.8540404 , 0.84161491, 0.86489362, 0.84161491,\n",
       "        0.86489362, 0.82925532, 0.86489362, 0.84161491, 0.82925532,\n",
       "        0.90053191, 0.8540404 , 0.86489362, 0.84161491, 0.85361842,\n",
       "        0.86489362, 0.84161491, 0.86489362, 0.89035088, 0.84161491,\n",
       "        0.82925532, 0.82925532, 0.86489362, 0.84161491, 0.84161491,\n",
       "        0.84161491, 0.86489362, 0.89035088, 0.86489362, 0.84161491,\n",
       "        0.84161491, 0.84161491, 0.86489362, 0.84161491, 0.86489362,\n",
       "        0.86489362, 0.86489362, 0.89035088, 0.86489362, 0.86489362,\n",
       "        0.85361842, 0.84161491, 0.89035088, 0.86489362, 0.86489362,\n",
       "        0.86489362, 0.86489362, 0.86489362, 0.89035088, 0.84161491,\n",
       "        0.8540404 , 0.86489362, 0.86489362, 0.86489362, 0.86489362,\n",
       "        0.86489362, 0.86489362, 0.89035088, 0.89035088, 0.86489362]),\n",
       " 'split4_test_score': array([0.84157509, 0.84157509, 0.85740741, 0.85740741, 0.85740741,\n",
       "        0.85740741, 0.85740741, 0.84157509, 0.84157509, 0.84157509,\n",
       "        0.91182171, 0.91182171, 0.91182171, 0.91182171, 0.91182171,\n",
       "        0.91182171, 0.91182171, 0.91182171, 0.91182171, 0.91182171,\n",
       "        0.89238095, 0.89238095, 0.86660079, 0.87936047, 0.86660079,\n",
       "        0.87936047, 0.87936047, 0.87936047, 0.87936047, 0.86047619,\n",
       "        0.84689922, 0.87429644, 0.86660079, 0.83349802, 0.8540404 ,\n",
       "        0.87429644, 0.84689922, 0.86047619, 0.86047619, 0.87936047,\n",
       "        0.86047619, 0.86047619, 0.86047619, 0.86047619, 0.86047619,\n",
       "        0.86047619, 0.86047619, 0.84689922, 0.86047619, 0.86047619,\n",
       "        0.84287054, 0.84689922, 0.84287054, 0.86047619, 0.82638889,\n",
       "        0.82638889, 0.86047619, 0.86047619, 0.84287054, 0.84287054,\n",
       "        0.85740741, 0.84287054, 0.85740741, 0.82857143, 0.84287054,\n",
       "        0.82638889, 0.84287054, 0.84287054, 0.82638889, 0.84287054,\n",
       "        0.84157509, 0.82667877, 0.82667877, 0.87429644, 0.84287054,\n",
       "        0.85740741, 0.86047619, 0.82638889, 0.84287054, 0.82638889]),\n",
       " 'split5_test_score': array([0.72234043, 0.75797872, 0.75797872, 0.75797872, 0.75797872,\n",
       "        0.75797872, 0.75797872, 0.75797872, 0.72234043, 0.72234043,\n",
       "        0.74342105, 0.75797872, 0.77225673, 0.77225673, 0.77225673,\n",
       "        0.77225673, 0.77225673, 0.75252525, 0.75252525, 0.75252525,\n",
       "        0.75797872, 0.79361702, 0.75797872, 0.77225673, 0.79361702,\n",
       "        0.79361702, 0.79361702, 0.79361702, 0.79361702, 0.79361702,\n",
       "        0.75252525, 0.77225673, 0.75797872, 0.79361702, 0.79361702,\n",
       "        0.77225673, 0.80693582, 0.78015351, 0.78636364, 0.78636364,\n",
       "        0.7066886 , 0.78015351, 0.76643991, 0.79361702, 0.82925532,\n",
       "        0.80693582, 0.78636364, 0.82925532, 0.80693582, 0.78636364,\n",
       "        0.72234043, 0.80693582, 0.77225673, 0.79361702, 0.77225673,\n",
       "        0.80693582, 0.80693582, 0.79361702, 0.80693582, 0.78636364,\n",
       "        0.72845805, 0.78015351, 0.75797872, 0.79361702, 0.79361702,\n",
       "        0.78636364, 0.82925532, 0.80693582, 0.77225673, 0.78636364,\n",
       "        0.74342105, 0.75252525, 0.75797872, 0.77225673, 0.79361702,\n",
       "        0.80693582, 0.77225673, 0.79361702, 0.78636364, 0.80693582]),\n",
       " 'split6_test_score': array([0.7495155 , 0.7495155 , 0.7495155 , 0.7495155 , 0.7495155 ,\n",
       "        0.7495155 , 0.7495155 , 0.7495155 , 0.7495155 , 0.7495155 ,\n",
       "        0.82020202, 0.82020202, 0.82020202, 0.82020202, 0.79666667,\n",
       "        0.78197674, 0.79666667, 0.80039526, 0.79666667, 0.79666667,\n",
       "        0.84161491, 0.82020202, 0.84161491, 0.82020202, 0.80039526,\n",
       "        0.82020202, 0.82020202, 0.84161491, 0.84161491, 0.82020202,\n",
       "        0.82020202, 0.84161491, 0.84161491, 0.82020202, 0.82020202,\n",
       "        0.82020202, 0.83349802, 0.82020202, 0.83349802, 0.83349802,\n",
       "        0.82020202, 0.82020202, 0.83349802, 0.83349802, 0.83349802,\n",
       "        0.82020202, 0.83349802, 0.8540404 , 0.82020202, 0.82020202,\n",
       "        0.80693582, 0.80693582, 0.82020202, 0.82020202, 0.82020202,\n",
       "        0.82020202, 0.82020202, 0.78197674, 0.82020202, 0.82020202,\n",
       "        0.82020202, 0.80039526, 0.82020202, 0.80039526, 0.80039526,\n",
       "        0.80039526, 0.80039526, 0.80039526, 0.80039526, 0.80039526,\n",
       "        0.78636364, 0.80039526, 0.80039526, 0.82020202, 0.80039526,\n",
       "        0.80039526, 0.80039526, 0.80039526, 0.7647619 , 0.80039526]),\n",
       " 'split7_test_score': array([0.76588022, 0.79627949, 0.74954212, 0.74954212, 0.74954212,\n",
       "        0.74954212, 0.74954212, 0.74954212, 0.76588022, 0.76588022,\n",
       "        0.80693582, 0.80693582, 0.80693582, 0.82020202, 0.82020202,\n",
       "        0.80039526, 0.80039526, 0.80039526, 0.80039526, 0.80039526,\n",
       "        0.78636364, 0.82020202, 0.83349802, 0.78197674, 0.81144465,\n",
       "        0.79666667, 0.81144465, 0.81144465, 0.81144465, 0.81144465,\n",
       "        0.80039526, 0.78001876, 0.81144465, 0.81144465, 0.81144465,\n",
       "        0.79666667, 0.81144465, 0.81144465, 0.81144465, 0.81144465,\n",
       "        0.80039526, 0.81144465, 0.79666667, 0.81144465, 0.81144465,\n",
       "        0.81144465, 0.81144465, 0.81144465, 0.82638889, 0.81144465,\n",
       "        0.81144465, 0.81144465, 0.79666667, 0.81144465, 0.81144465,\n",
       "        0.81144465, 0.79666667, 0.81144465, 0.82638889, 0.81144465,\n",
       "        0.78001876, 0.82638889, 0.79666667, 0.82638889, 0.81144465,\n",
       "        0.81144465, 0.82638889, 0.79537037, 0.81144465, 0.81144465,\n",
       "        0.79537037, 0.79537037, 0.81144465, 0.82638889, 0.81144465,\n",
       "        0.81144465, 0.81144465, 0.81144465, 0.81144465, 0.79666667]),\n",
       " 'split8_test_score': array([0.83902439, 0.82440476, 0.82440476, 0.82440476, 0.84327604,\n",
       "        0.82440476, 0.82440476, 0.82440476, 0.83902439, 0.83902439,\n",
       "        0.78156682, 0.80801491, 0.80801491, 0.80801491, 0.80801491,\n",
       "        0.80801491, 0.80801491, 0.80801491, 0.825     , 0.80801491,\n",
       "        0.80801491, 0.80801491, 0.80801491, 0.79444444, 0.825     ,\n",
       "        0.81198157, 0.79963235, 0.80801491, 0.81198157, 0.825     ,\n",
       "        0.78156682, 0.81198157, 0.82236842, 0.825     , 0.85338346,\n",
       "        0.79444444, 0.85338346, 0.8387698 , 0.86894587, 0.8387698 ,\n",
       "        0.82236842, 0.8387698 , 0.82236842, 0.80801491, 0.85338346,\n",
       "        0.82236842, 0.83760684, 0.83760684, 0.83760684, 0.83760684,\n",
       "        0.80801491, 0.8387698 , 0.85338346, 0.85384615, 0.82211538,\n",
       "        0.82236842, 0.83760684, 0.83760684, 0.83760684, 0.83902439,\n",
       "        0.83902439, 0.83902439, 0.83902439, 0.87121951, 0.87121951,\n",
       "        0.83902439, 0.82211538, 0.85714286, 0.82211538, 0.83902439,\n",
       "        0.85384615, 0.85384615, 0.84327604, 0.85384615, 0.82211538,\n",
       "        0.83902439, 0.83760684, 0.83760684, 0.85384615, 0.85384615]),\n",
       " 'split9_test_score': array([0.80217391, 0.8125    , 0.8125    , 0.79951981, 0.79951981,\n",
       "        0.79951981, 0.8125    , 0.8125    , 0.80217391, 0.80217391,\n",
       "        0.74603175, 0.8125    , 0.8125    , 0.8125    , 0.8125    ,\n",
       "        0.8125    , 0.8125    , 0.8125    , 0.8125    , 0.8125    ,\n",
       "        0.80217391, 0.82530795, 0.85069444, 0.85069444, 0.85069444,\n",
       "        0.85069444, 0.85069444, 0.85069444, 0.85069444, 0.85069444,\n",
       "        0.85069444, 0.83913565, 0.85069444, 0.85069444, 0.85069444,\n",
       "        0.85069444, 0.85069444, 0.85069444, 0.85069444, 0.85069444,\n",
       "        0.77430556, 0.82530795, 0.85069444, 0.85069444, 0.85069444,\n",
       "        0.85069444, 0.85069444, 0.85069444, 0.85069444, 0.85069444,\n",
       "        0.80217391, 0.85069444, 0.85069444, 0.85069444, 0.83804348,\n",
       "        0.86226204, 0.83804348, 0.86226204, 0.85069444, 0.86226204,\n",
       "        0.82530795, 0.85069444, 0.82530795, 0.83804348, 0.82530795,\n",
       "        0.86226204, 0.83804348, 0.86226204, 0.83804348, 0.86226204,\n",
       "        0.8125    , 0.83804348, 0.82530795, 0.82530795, 0.83804348,\n",
       "        0.83804348, 0.86226204, 0.83804348, 0.83804348, 0.86226204]),\n",
       " 'mean_test_score': array([0.80072082, 0.80322198, 0.79831605, 0.80007039, 0.80014209,\n",
       "        0.79693824, 0.79823626, 0.79665303, 0.80072082, 0.80072082,\n",
       "        0.80493061, 0.81798164, 0.81940944, 0.8236712 , 0.82311229,\n",
       "        0.81516237, 0.81663137, 0.81503108, 0.82074875, 0.81747434,\n",
       "        0.81981879, 0.82815059, 0.82407011, 0.82281076, 0.82400977,\n",
       "        0.82925949, 0.82608327, 0.83041782, 0.83069544, 0.82673161,\n",
       "        0.82246319, 0.82107422, 0.82565323, 0.81829455, 0.82533721,\n",
       "        0.82331755, 0.8305338 , 0.83016123, 0.83579167, 0.82884661,\n",
       "        0.80219145, 0.82261366, 0.82720737, 0.82617067, 0.83077959,\n",
       "        0.82216503, 0.82901091, 0.83834744, 0.83074561, 0.82494971,\n",
       "        0.80894409, 0.82826175, 0.82559157, 0.82387698, 0.82248825,\n",
       "        0.82975409, 0.83078701, 0.82900213, 0.82872251, 0.82511438,\n",
       "        0.81870825, 0.823295  , 0.82787525, 0.82895268, 0.82334214,\n",
       "        0.83059112, 0.82920084, 0.83064969, 0.82466026, 0.82370663,\n",
       "        0.81746856, 0.81471626, 0.8199834 , 0.82429888, 0.82264708,\n",
       "        0.83084743, 0.82640267, 0.83106147, 0.82568318, 0.82621191]),\n",
       " 'std_test_score': array([0.04222434, 0.02991522, 0.03609233, 0.03683336, 0.03840138,\n",
       "        0.03743248, 0.03772341, 0.03547185, 0.04222434, 0.04222434,\n",
       "        0.06411445, 0.05152137, 0.05001454, 0.04711559, 0.04218274,\n",
       "        0.04828694, 0.04747158, 0.04951304, 0.04581762, 0.0480159 ,\n",
       "        0.04192971, 0.03435193, 0.03555402, 0.03965474, 0.03008839,\n",
       "        0.03183792, 0.0340614 , 0.03552652, 0.03365425, 0.03040316,\n",
       "        0.04190807, 0.0326101 , 0.03605498, 0.02807103, 0.03225147,\n",
       "        0.03734866, 0.0328669 , 0.02966571, 0.04025203, 0.0320455 ,\n",
       "        0.04124114, 0.02496985, 0.03006136, 0.02454139, 0.02648651,\n",
       "        0.03134772, 0.03057289, 0.03131713, 0.02415081, 0.02976193,\n",
       "        0.03274115, 0.02310046, 0.02841634, 0.03214855, 0.02540846,\n",
       "        0.02245542, 0.02396439, 0.0424959 , 0.02743542, 0.03187212,\n",
       "        0.03844923, 0.02518817, 0.03376065, 0.02883352, 0.03287283,\n",
       "        0.02759789, 0.02915695, 0.03459463, 0.03263698, 0.02721527,\n",
       "        0.03774608, 0.03503106, 0.03185121, 0.03374542, 0.02601722,\n",
       "        0.02405362, 0.03187628, 0.02637059, 0.03559969, 0.03186814]),\n",
       " 'rank_test_score': array([72, 70, 77, 76, 75, 79, 78, 80, 72, 72, 69, 61, 58, 43, 47, 65, 64,\n",
       "        66, 55, 62, 57, 23, 39, 48, 40, 15, 30, 12,  8, 26, 52, 54, 32, 60,\n",
       "        34, 45, 11, 13,  2, 20, 71, 50, 25, 29,  6, 53, 17,  1,  7, 36, 68,\n",
       "        22, 33, 41, 51, 14,  5, 18, 21, 35, 59, 46, 24, 19, 44, 10, 16,  9,\n",
       "        37, 42, 63, 67, 56, 38, 49,  4, 27,  3, 31, 28])}"
      ]
     },
     "execution_count": 208,
     "metadata": {},
     "output_type": "execute_result"
    }
   ],
   "source": [
    "rf_gs.cv_results_"
   ]
  },
  {
   "cell_type": "code",
   "execution_count": 214,
   "metadata": {},
   "outputs": [
    {
     "data": {
      "text/plain": [
       "{'n_estimators': 100}"
      ]
     },
     "execution_count": 214,
     "metadata": {},
     "output_type": "execute_result"
    }
   ],
   "source": [
    "rf_gs.cv_results_['params'][0]"
   ]
  },
  {
   "cell_type": "code",
   "execution_count": 218,
   "metadata": {},
   "outputs": [
    {
     "data": {
      "text/plain": [
       "dict_keys(['mean_fit_time', 'std_fit_time', 'mean_score_time', 'std_score_time', 'param_n_estimators', 'param_oob_score', 'param_max_depth', 'param_max_features', 'params', 'split0_test_score', 'split1_test_score', 'split2_test_score', 'split3_test_score', 'split4_test_score', 'split5_test_score', 'split6_test_score', 'split7_test_score', 'split8_test_score', 'split9_test_score', 'mean_test_score', 'std_test_score', 'rank_test_score'])"
      ]
     },
     "execution_count": 218,
     "metadata": {},
     "output_type": "execute_result"
    }
   ],
   "source": [
    "rf_gs.cv_results_.keys()"
   ]
  },
  {
   "cell_type": "code",
   "execution_count": 222,
   "metadata": {},
   "outputs": [
    {
     "data": {
      "text/html": [
       "<div>\n",
       "<style scoped>\n",
       "    .dataframe tbody tr th:only-of-type {\n",
       "        vertical-align: middle;\n",
       "    }\n",
       "\n",
       "    .dataframe tbody tr th {\n",
       "        vertical-align: top;\n",
       "    }\n",
       "\n",
       "    .dataframe thead th {\n",
       "        text-align: right;\n",
       "    }\n",
       "</style>\n",
       "<table border=\"1\" class=\"dataframe\">\n",
       "  <thead>\n",
       "    <tr style=\"text-align: right;\">\n",
       "      <th></th>\n",
       "      <th>Parameters</th>\n",
       "    </tr>\n",
       "  </thead>\n",
       "  <tbody>\n",
       "    <tr>\n",
       "      <th>0</th>\n",
       "      <td>{'n_estimators': 100}</td>\n",
       "    </tr>\n",
       "    <tr>\n",
       "      <th>1</th>\n",
       "      <td>{'n_estimators': 200}</td>\n",
       "    </tr>\n",
       "    <tr>\n",
       "      <th>2</th>\n",
       "      <td>{'n_estimators': 300}</td>\n",
       "    </tr>\n",
       "    <tr>\n",
       "      <th>3</th>\n",
       "      <td>{'n_estimators': 400}</td>\n",
       "    </tr>\n",
       "    <tr>\n",
       "      <th>4</th>\n",
       "      <td>{'n_estimators': 500}</td>\n",
       "    </tr>\n",
       "    <tr>\n",
       "      <th>...</th>\n",
       "      <td>...</td>\n",
       "    </tr>\n",
       "    <tr>\n",
       "      <th>74</th>\n",
       "      <td>{'max_depth': 10, 'max_features': 15}</td>\n",
       "    </tr>\n",
       "    <tr>\n",
       "      <th>75</th>\n",
       "      <td>{'max_depth': 10, 'max_features': 17}</td>\n",
       "    </tr>\n",
       "    <tr>\n",
       "      <th>76</th>\n",
       "      <td>{'max_depth': 10, 'max_features': 18}</td>\n",
       "    </tr>\n",
       "    <tr>\n",
       "      <th>77</th>\n",
       "      <td>{'max_depth': 10, 'max_features': 19}</td>\n",
       "    </tr>\n",
       "    <tr>\n",
       "      <th>78</th>\n",
       "      <td>{'max_depth': 10, 'max_features': 20}</td>\n",
       "    </tr>\n",
       "  </tbody>\n",
       "</table>\n",
       "<p>79 rows × 1 columns</p>\n",
       "</div>"
      ],
      "text/plain": [
       "                               Parameters\n",
       "0                   {'n_estimators': 100}\n",
       "1                   {'n_estimators': 200}\n",
       "2                   {'n_estimators': 300}\n",
       "3                   {'n_estimators': 400}\n",
       "4                   {'n_estimators': 500}\n",
       "..                                    ...\n",
       "74  {'max_depth': 10, 'max_features': 15}\n",
       "75  {'max_depth': 10, 'max_features': 17}\n",
       "76  {'max_depth': 10, 'max_features': 18}\n",
       "77  {'max_depth': 10, 'max_features': 19}\n",
       "78  {'max_depth': 10, 'max_features': 20}\n",
       "\n",
       "[79 rows x 1 columns]"
      ]
     },
     "execution_count": 222,
     "metadata": {},
     "output_type": "execute_result"
    }
   ],
   "source": [
    "GS_perf = pd.DataFrame()\n",
    "GS_perf['Parameters'] = rf_gs.cv_results_['params']\n",
    "GS_perf.head(79)"
   ]
  },
  {
   "cell_type": "code",
   "execution_count": 199,
   "metadata": {},
   "outputs": [
    {
     "name": "stdout",
     "output_type": "stream",
     "text": [
      "Best parameters set found on development set:\n",
      "\n",
      "{'max_depth': 7, 'max_features': 19}\n",
      "\n",
      "Grid scores on development set:\n",
      "\n",
      "0.801 (+/-0.084) for {'n_estimators': 100}\n",
      "0.803 (+/-0.060) for {'n_estimators': 200}\n",
      "0.798 (+/-0.072) for {'n_estimators': 300}\n",
      "0.800 (+/-0.074) for {'n_estimators': 400}\n",
      "0.800 (+/-0.077) for {'n_estimators': 500}\n",
      "0.797 (+/-0.075) for {'n_estimators': 600}\n",
      "0.798 (+/-0.075) for {'n_estimators': 700}\n",
      "0.797 (+/-0.071) for {'n_estimators': 800}\n",
      "0.801 (+/-0.084) for {'oob_score': False}\n",
      "0.801 (+/-0.084) for {'oob_score': True}\n",
      "0.805 (+/-0.128) for {'max_depth': 3, 'max_features': 6}\n",
      "0.818 (+/-0.103) for {'max_depth': 3, 'max_features': 8}\n",
      "0.819 (+/-0.100) for {'max_depth': 3, 'max_features': 10}\n",
      "0.824 (+/-0.094) for {'max_depth': 3, 'max_features': 12}\n",
      "0.823 (+/-0.084) for {'max_depth': 3, 'max_features': 15}\n",
      "0.815 (+/-0.097) for {'max_depth': 3, 'max_features': 17}\n",
      "0.817 (+/-0.095) for {'max_depth': 3, 'max_features': 18}\n",
      "0.815 (+/-0.099) for {'max_depth': 3, 'max_features': 19}\n",
      "0.821 (+/-0.092) for {'max_depth': 3, 'max_features': 20}\n",
      "0.817 (+/-0.096) for {'max_depth': 3, 'max_features': 21}\n",
      "0.820 (+/-0.084) for {'max_depth': 5, 'max_features': 6}\n",
      "0.828 (+/-0.069) for {'max_depth': 5, 'max_features': 8}\n",
      "0.824 (+/-0.071) for {'max_depth': 5, 'max_features': 10}\n",
      "0.823 (+/-0.079) for {'max_depth': 5, 'max_features': 12}\n",
      "0.824 (+/-0.060) for {'max_depth': 5, 'max_features': 15}\n",
      "0.829 (+/-0.064) for {'max_depth': 5, 'max_features': 17}\n",
      "0.826 (+/-0.068) for {'max_depth': 5, 'max_features': 18}\n",
      "0.830 (+/-0.071) for {'max_depth': 5, 'max_features': 19}\n",
      "0.831 (+/-0.067) for {'max_depth': 5, 'max_features': 20}\n",
      "0.827 (+/-0.061) for {'max_depth': 5, 'max_features': 21}\n",
      "0.822 (+/-0.084) for {'max_depth': 6, 'max_features': 6}\n",
      "0.821 (+/-0.065) for {'max_depth': 6, 'max_features': 8}\n",
      "0.826 (+/-0.072) for {'max_depth': 6, 'max_features': 10}\n",
      "0.818 (+/-0.056) for {'max_depth': 6, 'max_features': 12}\n",
      "0.825 (+/-0.065) for {'max_depth': 6, 'max_features': 15}\n",
      "0.823 (+/-0.075) for {'max_depth': 6, 'max_features': 17}\n",
      "0.831 (+/-0.066) for {'max_depth': 6, 'max_features': 18}\n",
      "0.830 (+/-0.059) for {'max_depth': 6, 'max_features': 19}\n",
      "0.836 (+/-0.081) for {'max_depth': 6, 'max_features': 20}\n",
      "0.829 (+/-0.064) for {'max_depth': 6, 'max_features': 21}\n",
      "0.802 (+/-0.082) for {'max_depth': 7, 'max_features': 6}\n",
      "0.823 (+/-0.050) for {'max_depth': 7, 'max_features': 8}\n",
      "0.827 (+/-0.060) for {'max_depth': 7, 'max_features': 10}\n",
      "0.826 (+/-0.049) for {'max_depth': 7, 'max_features': 12}\n",
      "0.831 (+/-0.053) for {'max_depth': 7, 'max_features': 15}\n",
      "0.822 (+/-0.063) for {'max_depth': 7, 'max_features': 17}\n",
      "0.829 (+/-0.061) for {'max_depth': 7, 'max_features': 18}\n",
      "0.838 (+/-0.063) for {'max_depth': 7, 'max_features': 19}\n",
      "0.831 (+/-0.048) for {'max_depth': 7, 'max_features': 20}\n",
      "0.825 (+/-0.060) for {'max_depth': 7, 'max_features': 21}\n",
      "0.809 (+/-0.065) for {'max_depth': 8, 'max_features': 6}\n",
      "0.828 (+/-0.046) for {'max_depth': 8, 'max_features': 8}\n",
      "0.826 (+/-0.057) for {'max_depth': 8, 'max_features': 10}\n",
      "0.824 (+/-0.064) for {'max_depth': 8, 'max_features': 12}\n",
      "0.822 (+/-0.051) for {'max_depth': 8, 'max_features': 15}\n",
      "0.830 (+/-0.045) for {'max_depth': 8, 'max_features': 17}\n",
      "0.831 (+/-0.048) for {'max_depth': 8, 'max_features': 18}\n",
      "0.829 (+/-0.085) for {'max_depth': 8, 'max_features': 19}\n",
      "0.829 (+/-0.055) for {'max_depth': 8, 'max_features': 20}\n",
      "0.825 (+/-0.064) for {'max_depth': 8, 'max_features': 21}\n",
      "0.819 (+/-0.077) for {'max_depth': 9, 'max_features': 6}\n",
      "0.823 (+/-0.050) for {'max_depth': 9, 'max_features': 8}\n",
      "0.828 (+/-0.068) for {'max_depth': 9, 'max_features': 10}\n",
      "0.829 (+/-0.058) for {'max_depth': 9, 'max_features': 12}\n",
      "0.823 (+/-0.066) for {'max_depth': 9, 'max_features': 15}\n",
      "0.831 (+/-0.055) for {'max_depth': 9, 'max_features': 17}\n",
      "0.829 (+/-0.058) for {'max_depth': 9, 'max_features': 18}\n",
      "0.831 (+/-0.069) for {'max_depth': 9, 'max_features': 19}\n",
      "0.825 (+/-0.065) for {'max_depth': 9, 'max_features': 20}\n",
      "0.824 (+/-0.054) for {'max_depth': 9, 'max_features': 21}\n",
      "0.817 (+/-0.075) for {'max_depth': 10, 'max_features': 6}\n",
      "0.815 (+/-0.070) for {'max_depth': 10, 'max_features': 8}\n",
      "0.820 (+/-0.064) for {'max_depth': 10, 'max_features': 10}\n",
      "0.824 (+/-0.067) for {'max_depth': 10, 'max_features': 12}\n",
      "0.823 (+/-0.052) for {'max_depth': 10, 'max_features': 15}\n",
      "0.831 (+/-0.048) for {'max_depth': 10, 'max_features': 17}\n",
      "0.826 (+/-0.064) for {'max_depth': 10, 'max_features': 18}\n",
      "0.831 (+/-0.053) for {'max_depth': 10, 'max_features': 19}\n",
      "0.826 (+/-0.071) for {'max_depth': 10, 'max_features': 20}\n",
      "0.826 (+/-0.064) for {'max_depth': 10, 'max_features': 21}\n",
      "\n"
     ]
    }
   ],
   "source": [
    "\n",
    "print(\"Best parameters set found on development set:\")\n",
    "print()\n",
    "print(rf_gs.best_params_)\n",
    "print()\n",
    "print(\"Grid scores on development set:\")\n",
    "print()\n",
    "means = rf_gs.cv_results_['mean_test_score']\n",
    "stds = rf_gs.cv_results_['std_test_score']\n",
    "for mean, std, params in zip(means, stds, rf_gs.cv_results_['params']):\n",
    "    print(\"%0.3f (+/-%0.03f) for %r\"  % (mean, std * 2, params))\n",
    "print()"
   ]
  },
  {
   "cell_type": "code",
   "execution_count": 224,
   "metadata": {},
   "outputs": [
    {
     "name": "stdout",
     "output_type": "stream",
     "text": [
      "Detailed classification report:\n",
      "\n",
      "The model is trained on the full development set.\n",
      "The scores are computed on the full evaluation set.\n",
      "\n",
      "              precision    recall  f1-score   support\n",
      "\n",
      "           0       0.85      0.88      0.86       137\n",
      "           1       0.80      0.74      0.77        86\n",
      "\n",
      "    accuracy                           0.83       223\n",
      "   macro avg       0.82      0.81      0.82       223\n",
      "weighted avg       0.83      0.83      0.83       223\n",
      "\n",
      "\n"
     ]
    }
   ],
   "source": [
    "\n",
    "print(\"Detailed classification report:\")\n",
    "print()\n",
    "print(\"The model is trained on the full development set.\")\n",
    "print(\"The scores are computed on the full evaluation set.\")\n",
    "print()\n",
    "y_true, y_pred = y_test, rf_gs.predict(X_test)\n",
    "print(classification_report(y_true, y_pred))\n",
    "print()\n",
    "\n",
    "# Note the problem is too easy: the hyperparameter plateau is too flat and the\n",
    "# output model is the same for precision and recall with ties in quality."
   ]
  },
  {
   "cell_type": "code",
   "execution_count": 225,
   "metadata": {
    "scrolled": true
   },
   "outputs": [
    {
     "data": {
      "image/png": "[encoded data removed]",
      "text/plain": [
       "<Figure size 432x288 with 2 Axes>"
      ]
     },
     "metadata": {
      "needs_background": "light"
     },
     "output_type": "display_data"
    }
   ],
   "source": [
    "# Correlation matrix between numerical values (SibSp Parch Age and Fare values) and Survived \n",
    "import seaborn as sns\n",
    "g = sns.heatmap(train[[\"Survived\",\"SibSp\",\"Parch\",\"Age\",\"Fare\"]].corr(),annot=True, fmt = \".2f\", cmap = \"coolwarm\")"
   ]
  },
  {
   "cell_type": "markdown",
   "metadata": {},
   "source": [
    "# GGGGGGGAAAAAAAAAAAAARBAGE"
   ]
  },
  {
   "cell_type": "code",
   "execution_count": 182,
   "metadata": {},
   "outputs": [
    {
     "data": {
      "text/plain": [
       "['accuracy',\n",
       " 'adjusted_mutual_info_score',\n",
       " 'adjusted_rand_score',\n",
       " 'average_precision',\n",
       " 'balanced_accuracy',\n",
       " 'completeness_score',\n",
       " 'explained_variance',\n",
       " 'f1',\n",
       " 'f1_macro',\n",
       " 'f1_micro',\n",
       " 'f1_samples',\n",
       " 'f1_weighted',\n",
       " 'fowlkes_mallows_score',\n",
       " 'homogeneity_score',\n",
       " 'jaccard',\n",
       " 'jaccard_macro',\n",
       " 'jaccard_micro',\n",
       " 'jaccard_samples',\n",
       " 'jaccard_weighted',\n",
       " 'max_error',\n",
       " 'mutual_info_score',\n",
       " 'neg_brier_score',\n",
       " 'neg_log_loss',\n",
       " 'neg_mean_absolute_error',\n",
       " 'neg_mean_gamma_deviance',\n",
       " 'neg_mean_poisson_deviance',\n",
       " 'neg_mean_squared_error',\n",
       " 'neg_mean_squared_log_error',\n",
       " 'neg_median_absolute_error',\n",
       " 'neg_root_mean_squared_error',\n",
       " 'normalized_mutual_info_score',\n",
       " 'precision',\n",
       " 'precision_macro',\n",
       " 'precision_micro',\n",
       " 'precision_samples',\n",
       " 'precision_weighted',\n",
       " 'r2',\n",
       " 'recall',\n",
       " 'recall_macro',\n",
       " 'recall_micro',\n",
       " 'recall_samples',\n",
       " 'recall_weighted',\n",
       " 'roc_auc',\n",
       " 'roc_auc_ovo',\n",
       " 'roc_auc_ovo_weighted',\n",
       " 'roc_auc_ovr',\n",
       " 'roc_auc_ovr_weighted',\n",
       " 'v_measure_score']"
      ]
     },
     "execution_count": 182,
     "metadata": {},
     "output_type": "execute_result"
    }
   ],
   "source": [
    "import sklearn\n",
    "sorted(sklearn.metrics.SCORERS.keys())\n",
    "#https://scikit-learn.org/stable/modules/model_evaluation.html#scoring"
   ]
  },
  {
   "cell_type": "code",
   "execution_count": null,
   "metadata": {},
   "outputs": [],
   "source": [
    "https://scikit-learn.org/stable/modules/cross_validation.html#cross-validation\n",
    "    https://scikit-learn.org/stable/modules/generated/sklearn.feature_selection.RFECV.html#sklearn.feature_selection.RFECV\n",
    "    https://scikit-learn.org/stable/auto_examples/feature_selection/plot_rfe_with_cross_validation.html#sphx-glr-auto-examples-feature-selection-plot-rfe-with-cross-validation-py"
   ]
  },
  {
   "cell_type": "code",
   "execution_count": 56,
   "metadata": {},
   "outputs": [
    {
     "data": {
      "text/plain": [
       "array([0.85074627, 0.82089552, 0.82835821, 0.81203008, 0.81203008])"
      ]
     },
     "execution_count": 56,
     "metadata": {},
     "output_type": "execute_result"
    },
    {
     "name": "stdout",
     "output_type": "stream",
     "text": [
      "Train Accuracy: 0.82 (+/- 0.03)\n"
     ]
    },
    {
     "data": {
      "text/plain": [
       "array([0.88888889, 0.77777778, 0.77777778, 0.88636364, 0.81818182])"
      ]
     },
     "execution_count": 56,
     "metadata": {},
     "output_type": "execute_result"
    },
    {
     "name": "stdout",
     "output_type": "stream",
     "text": [
      "Test Accuracy: 0.83(+/- 0.05)\n"
     ]
    }
   ],
   "source": [
    "all_accuracies_train = cross_val_score(estimator=XGB, X=X_train, y=y_train, cv=5)\n",
    "all_accuracies_train\n",
    "print(\"Train Accuracy: %0.2f (+/- %0.2f)\" % (all_accuracies_train.mean(), all_accuracies_train.std() * 2))\n",
    "\n",
    "all_accuracies_test = cross_val_score(estimator=XGB, X=X_test, y=y_test, cv=5)\n",
    "all_accuracies_test\n",
    "print(\"Test Accuracy: %0.2f(+/- %0.2f)\" % (all_accuracies_test.mean(), all_accuracies_test.std()*2))"
   ]
  },
  {
   "cell_type": "code",
   "execution_count": 149,
   "metadata": {
    "scrolled": true
   },
   "outputs": [
    {
     "data": {
      "text/plain": [
       "<matplotlib.axes._subplots.AxesSubplot at 0x1f0db2761d0>"
      ]
     },
     "execution_count": 149,
     "metadata": {},
     "output_type": "execute_result"
    },
    {
     "data": {
      "image/png": "[encoded data removed]",
      "text/plain": [
       "<Figure size 432x288 with 2 Axes>"
      ]
     },
     "metadata": {
      "needs_background": "light"
     },
     "output_type": "display_data"
    }
   ],
   "source": [
    "plt.subplot(121)\n",
    "\n",
    "# equivalent but more general\n",
    "ax1=plt.subplot(121,facecolor='red')\n",
    "\n",
    "# add a subplot with no frame\n",
    "ax2=plt.subplot(122,  projection='polar')"
   ]
  },
  {
   "cell_type": "code",
   "execution_count": 152,
   "metadata": {},
   "outputs": [
    {
     "data": {
      "text/plain": [
       "<matplotlib.axes._subplots.AxesSubplot at 0x1f0db2d7320>"
      ]
     },
     "execution_count": 152,
     "metadata": {},
     "output_type": "execute_result"
    },
    {
     "data": {
      "text/plain": [
       "<matplotlib.axes._subplots.AxesSubplot at 0x1f0db4d0160>"
      ]
     },
     "execution_count": 152,
     "metadata": {},
     "output_type": "execute_result"
    },
    {
     "data": {
      "image/png": "[encoded data removed]",
      "text/plain": [
       "<Figure size 432x288 with 2 Axes>"
      ]
     },
     "metadata": {
      "needs_background": "light"
     },
     "output_type": "display_data"
    }
   ],
   "source": [
    "import matplotlib.pyplot as plt\n",
    "fig = plt.figure()\n",
    "fig.add_subplot(121)   #top left\n",
    "fig.add_subplot(122)   #top right\n",
    "plt.show()"
   ]
  },
  {
   "cell_type": "code",
   "execution_count": null,
   "metadata": {},
   "outputs": [],
   "source": []
  }
 ],
 "metadata": {
  "kernelspec": {
   "display_name": "Python 3",
   "language": "python",
   "name": "python3"
  },
  "language_info": {
   "codemirror_mode": {
    "name": "ipython",
    "version": 3
   },
   "file_extension": ".py",
   "mimetype": "text/x-python",
   "name": "python",
   "nbconvert_exporter": "python",
   "pygments_lexer": "ipython3",
   "version": "3.7.3"
  }
 },
 "nbformat": 4,
 "nbformat_minor": 2
}
