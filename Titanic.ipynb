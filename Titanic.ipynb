{
 "cells": [
  {
   "cell_type": "code",
   "execution_count": 83,
   "metadata": {},
   "outputs": [],
   "source": [
    "from IPython.core.interactiveshell import InteractiveShell\n",
    "InteractiveShell.ast_node_interactivity = 'all'\n",
    "import warnings\n",
    "warnings.filterwarnings('ignore')\n",
    "#pd.set_option(\"display.max_columns\",50)"
   ]
  },
  {
   "cell_type": "code",
   "execution_count": 183,
   "metadata": {},
   "outputs": [],
   "source": [
    "import pandas as pd\n",
    "import numpy as np\n",
    "import matplotlib.pyplot as plt\n",
    "import re\n",
    "from sklearn.model_selection import train_test_split\n",
    "from sklearn.linear_model import LogisticRegression\n",
    "from sklearn.ensemble import RandomForestClassifier, StackingClassifier\n",
    "from sklearn.preprocessing import StandardScaler,MinMaxScaler,MaxAbsScaler\n",
    "from sklearn.model_selection import cross_val_score,GridSearchCV,StratifiedKFold,RepeatedStratifiedKFold,RandomizedSearchCV\n",
    "from sklearn.metrics import accuracy_score,auc,recall_score,precision_score,precision_recall_curve,confusion_matrix,\\\n",
    "plot_confusion_matrix,plot_precision_recall_curve,plot_roc_curve,classification_report\n",
    "from xgboost import XGBClassifier\n",
    "from sklearn.pipeline import make_pipeline\n",
    "from sklearn.svm import LinearSVC\n",
    "from sklearn.neighbors import KNeighborsClassifier\n",
    "#from sklearn.impute import SimpleImputer,KNNImputer\n",
    "#from sklearn.compose import ColumnTransformer"
   ]
  },
  {
   "cell_type": "code",
   "execution_count": 3,
   "metadata": {},
   "outputs": [],
   "source": [
    "path = \"C:/Users/Krishna/Documents/kaggle/titanic/input\""
   ]
  },
  {
   "cell_type": "markdown",
   "metadata": {},
   "source": [
    "##### Reading train csv"
   ]
  },
  {
   "cell_type": "code",
   "execution_count": 4,
   "metadata": {},
   "outputs": [
    {
     "data": {
      "text/html": [
       "<div>\n",
       "<style scoped>\n",
       "    .dataframe tbody tr th:only-of-type {\n",
       "        vertical-align: middle;\n",
       "    }\n",
       "\n",
       "    .dataframe tbody tr th {\n",
       "        vertical-align: top;\n",
       "    }\n",
       "\n",
       "    .dataframe thead th {\n",
       "        text-align: right;\n",
       "    }\n",
       "</style>\n",
       "<table border=\"1\" class=\"dataframe\">\n",
       "  <thead>\n",
       "    <tr style=\"text-align: right;\">\n",
       "      <th></th>\n",
       "      <th>PassengerId</th>\n",
       "      <th>Survived</th>\n",
       "      <th>Pclass</th>\n",
       "      <th>Name</th>\n",
       "      <th>Sex</th>\n",
       "      <th>Age</th>\n",
       "      <th>SibSp</th>\n",
       "      <th>Parch</th>\n",
       "      <th>Ticket</th>\n",
       "      <th>Fare</th>\n",
       "      <th>Cabin</th>\n",
       "      <th>Embarked</th>\n",
       "    </tr>\n",
       "  </thead>\n",
       "  <tbody>\n",
       "    <tr>\n",
       "      <th>0</th>\n",
       "      <td>1</td>\n",
       "      <td>0</td>\n",
       "      <td>3</td>\n",
       "      <td>Braund, Mr. Owen Harris</td>\n",
       "      <td>male</td>\n",
       "      <td>22.0</td>\n",
       "      <td>1</td>\n",
       "      <td>0</td>\n",
       "      <td>A/5 21171</td>\n",
       "      <td>7.2500</td>\n",
       "      <td>NaN</td>\n",
       "      <td>S</td>\n",
       "    </tr>\n",
       "    <tr>\n",
       "      <th>1</th>\n",
       "      <td>2</td>\n",
       "      <td>1</td>\n",
       "      <td>1</td>\n",
       "      <td>Cumings, Mrs. John Bradley (Florence Briggs Th...</td>\n",
       "      <td>female</td>\n",
       "      <td>38.0</td>\n",
       "      <td>1</td>\n",
       "      <td>0</td>\n",
       "      <td>PC 17599</td>\n",
       "      <td>71.2833</td>\n",
       "      <td>C85</td>\n",
       "      <td>C</td>\n",
       "    </tr>\n",
       "  </tbody>\n",
       "</table>\n",
       "</div>"
      ],
      "text/plain": [
       "   PassengerId  Survived  Pclass  \\\n",
       "0            1         0       3   \n",
       "1            2         1       1   \n",
       "\n",
       "                                                Name     Sex   Age  SibSp  \\\n",
       "0                            Braund, Mr. Owen Harris    male  22.0      1   \n",
       "1  Cumings, Mrs. John Bradley (Florence Briggs Th...  female  38.0      1   \n",
       "\n",
       "   Parch     Ticket     Fare Cabin Embarked  \n",
       "0      0  A/5 21171   7.2500   NaN        S  \n",
       "1      0   PC 17599  71.2833   C85        C  "
      ]
     },
     "execution_count": 4,
     "metadata": {},
     "output_type": "execute_result"
    },
    {
     "data": {
      "text/plain": [
       "(891, 12)"
      ]
     },
     "execution_count": 4,
     "metadata": {},
     "output_type": "execute_result"
    }
   ],
   "source": [
    "train = pd.read_csv(f'{path}/train.csv')\n",
    "train.head(2)\n",
    "train.shape"
   ]
  },
  {
   "cell_type": "code",
   "execution_count": 5,
   "metadata": {},
   "outputs": [
    {
     "data": {
      "text/html": [
       "<div>\n",
       "<style scoped>\n",
       "    .dataframe tbody tr th:only-of-type {\n",
       "        vertical-align: middle;\n",
       "    }\n",
       "\n",
       "    .dataframe tbody tr th {\n",
       "        vertical-align: top;\n",
       "    }\n",
       "\n",
       "    .dataframe thead th {\n",
       "        text-align: right;\n",
       "    }\n",
       "</style>\n",
       "<table border=\"1\" class=\"dataframe\">\n",
       "  <thead>\n",
       "    <tr style=\"text-align: right;\">\n",
       "      <th></th>\n",
       "      <th>PassengerId</th>\n",
       "      <th>Survived</th>\n",
       "      <th>Age</th>\n",
       "      <th>SibSp</th>\n",
       "      <th>Parch</th>\n",
       "      <th>Fare</th>\n",
       "    </tr>\n",
       "  </thead>\n",
       "  <tbody>\n",
       "    <tr>\n",
       "      <th>count</th>\n",
       "      <td>891.000000</td>\n",
       "      <td>891.000000</td>\n",
       "      <td>714.000000</td>\n",
       "      <td>891.000000</td>\n",
       "      <td>891.000000</td>\n",
       "      <td>891.000000</td>\n",
       "    </tr>\n",
       "    <tr>\n",
       "      <th>mean</th>\n",
       "      <td>446.000000</td>\n",
       "      <td>0.383838</td>\n",
       "      <td>29.699118</td>\n",
       "      <td>0.523008</td>\n",
       "      <td>0.381594</td>\n",
       "      <td>32.204208</td>\n",
       "    </tr>\n",
       "    <tr>\n",
       "      <th>std</th>\n",
       "      <td>257.353842</td>\n",
       "      <td>0.486592</td>\n",
       "      <td>14.526497</td>\n",
       "      <td>1.102743</td>\n",
       "      <td>0.806057</td>\n",
       "      <td>49.693429</td>\n",
       "    </tr>\n",
       "    <tr>\n",
       "      <th>min</th>\n",
       "      <td>1.000000</td>\n",
       "      <td>0.000000</td>\n",
       "      <td>0.420000</td>\n",
       "      <td>0.000000</td>\n",
       "      <td>0.000000</td>\n",
       "      <td>0.000000</td>\n",
       "    </tr>\n",
       "    <tr>\n",
       "      <th>25%</th>\n",
       "      <td>223.500000</td>\n",
       "      <td>0.000000</td>\n",
       "      <td>20.125000</td>\n",
       "      <td>0.000000</td>\n",
       "      <td>0.000000</td>\n",
       "      <td>7.910400</td>\n",
       "    </tr>\n",
       "    <tr>\n",
       "      <th>50%</th>\n",
       "      <td>446.000000</td>\n",
       "      <td>0.000000</td>\n",
       "      <td>28.000000</td>\n",
       "      <td>0.000000</td>\n",
       "      <td>0.000000</td>\n",
       "      <td>14.454200</td>\n",
       "    </tr>\n",
       "    <tr>\n",
       "      <th>75%</th>\n",
       "      <td>668.500000</td>\n",
       "      <td>1.000000</td>\n",
       "      <td>38.000000</td>\n",
       "      <td>1.000000</td>\n",
       "      <td>0.000000</td>\n",
       "      <td>31.000000</td>\n",
       "    </tr>\n",
       "    <tr>\n",
       "      <th>max</th>\n",
       "      <td>891.000000</td>\n",
       "      <td>1.000000</td>\n",
       "      <td>80.000000</td>\n",
       "      <td>8.000000</td>\n",
       "      <td>6.000000</td>\n",
       "      <td>512.329200</td>\n",
       "    </tr>\n",
       "  </tbody>\n",
       "</table>\n",
       "</div>"
      ],
      "text/plain": [
       "       PassengerId    Survived         Age       SibSp       Parch        Fare\n",
       "count   891.000000  891.000000  714.000000  891.000000  891.000000  891.000000\n",
       "mean    446.000000    0.383838   29.699118    0.523008    0.381594   32.204208\n",
       "std     257.353842    0.486592   14.526497    1.102743    0.806057   49.693429\n",
       "min       1.000000    0.000000    0.420000    0.000000    0.000000    0.000000\n",
       "25%     223.500000    0.000000   20.125000    0.000000    0.000000    7.910400\n",
       "50%     446.000000    0.000000   28.000000    0.000000    0.000000   14.454200\n",
       "75%     668.500000    1.000000   38.000000    1.000000    0.000000   31.000000\n",
       "max     891.000000    1.000000   80.000000    8.000000    6.000000  512.329200"
      ]
     },
     "execution_count": 5,
     "metadata": {},
     "output_type": "execute_result"
    },
    {
     "name": "stdout",
     "output_type": "stream",
     "text": [
      "<class 'pandas.core.frame.DataFrame'>\n",
      "RangeIndex: 891 entries, 0 to 890\n",
      "Data columns (total 12 columns):\n",
      "PassengerId    891 non-null int64\n",
      "Survived       891 non-null int64\n",
      "Pclass         891 non-null object\n",
      "Name           891 non-null object\n",
      "Sex            891 non-null object\n",
      "Age            714 non-null float64\n",
      "SibSp          891 non-null int64\n",
      "Parch          891 non-null int64\n",
      "Ticket         891 non-null object\n",
      "Fare           891 non-null float64\n",
      "Cabin          204 non-null object\n",
      "Embarked       889 non-null object\n",
      "dtypes: float64(2), int64(4), object(6)\n",
      "memory usage: 83.7+ KB\n"
     ]
    }
   ],
   "source": [
    "train['Pclass'] = train['Pclass'].astype(str)\n",
    "train.describe()\n",
    "train.info()"
   ]
  },
  {
   "cell_type": "code",
   "execution_count": 6,
   "metadata": {},
   "outputs": [],
   "source": [
    "#train.Name.map(re.search(\"(.*)\\\\, (.*)\\\\.(.*) \").groups())\n",
    "train['Surname'] = train.Name.map(str.upper).map(lambda x : re.search(\"(.*)\\\\, (.*?)\\\\.(.*)\",x).group(2))"
   ]
  },
  {
   "cell_type": "code",
   "execution_count": 7,
   "metadata": {},
   "outputs": [
    {
     "data": {
      "text/plain": [
       "MR        517\n",
       "MISS      182\n",
       "MRS       125\n",
       "MASTER     40\n",
       "Others     27\n",
       "Name: Surname, dtype: int64"
      ]
     },
     "execution_count": 7,
     "metadata": {},
     "output_type": "execute_result"
    }
   ],
   "source": [
    "a = train.Surname.value_counts(normalize = True)>0.04\n",
    "a = a[a!=True].index\n",
    "\n",
    "#train.Surname[train.Surname.isin(a)] = 'Others'\n",
    "train.Surname = np.where(~train.Surname.isin(a),train.Surname,'Others')\n",
    "train.Surname.value_counts()\n",
    "\n",
    "#train.Surname[~train.Surname.isin(a)] = train.Surname[~train.Sir_name.isin(a)].map(dict(zip(a,['Others']*len(a))))"
   ]
  },
  {
   "cell_type": "code",
   "execution_count": 8,
   "metadata": {
    "scrolled": true
   },
   "outputs": [
    {
     "data": {
      "text/html": [
       "<div>\n",
       "<style scoped>\n",
       "    .dataframe tbody tr th:only-of-type {\n",
       "        vertical-align: middle;\n",
       "    }\n",
       "\n",
       "    .dataframe tbody tr th {\n",
       "        vertical-align: top;\n",
       "    }\n",
       "\n",
       "    .dataframe thead th {\n",
       "        text-align: right;\n",
       "    }\n",
       "</style>\n",
       "<table border=\"1\" class=\"dataframe\">\n",
       "  <thead>\n",
       "    <tr style=\"text-align: right;\">\n",
       "      <th></th>\n",
       "      <th>PassengerId</th>\n",
       "      <th>Survived</th>\n",
       "      <th>Pclass</th>\n",
       "      <th>Name</th>\n",
       "      <th>Sex</th>\n",
       "      <th>Age</th>\n",
       "      <th>SibSp</th>\n",
       "      <th>Parch</th>\n",
       "      <th>Ticket</th>\n",
       "      <th>Fare</th>\n",
       "      <th>Cabin</th>\n",
       "      <th>Embarked</th>\n",
       "      <th>Surname</th>\n",
       "    </tr>\n",
       "  </thead>\n",
       "  <tbody>\n",
       "    <tr>\n",
       "      <th>0</th>\n",
       "      <td>1</td>\n",
       "      <td>0</td>\n",
       "      <td>3</td>\n",
       "      <td>Braund, Mr. Owen Harris</td>\n",
       "      <td>male</td>\n",
       "      <td>22.0</td>\n",
       "      <td>1</td>\n",
       "      <td>0</td>\n",
       "      <td>A/5 21171</td>\n",
       "      <td>7.25</td>\n",
       "      <td>NaN</td>\n",
       "      <td>S</td>\n",
       "      <td>MR</td>\n",
       "    </tr>\n",
       "  </tbody>\n",
       "</table>\n",
       "</div>"
      ],
      "text/plain": [
       "   PassengerId  Survived Pclass                     Name   Sex   Age  SibSp  \\\n",
       "0            1         0      3  Braund, Mr. Owen Harris  male  22.0      1   \n",
       "\n",
       "   Parch     Ticket  Fare Cabin Embarked Surname  \n",
       "0      0  A/5 21171  7.25   NaN        S      MR  "
      ]
     },
     "execution_count": 8,
     "metadata": {},
     "output_type": "execute_result"
    }
   ],
   "source": [
    "train.head(1)"
   ]
  },
  {
   "cell_type": "code",
   "execution_count": 9,
   "metadata": {},
   "outputs": [
    {
     "data": {
      "text/plain": [
       "0"
      ]
     },
     "execution_count": 9,
     "metadata": {},
     "output_type": "execute_result"
    },
    {
     "data": {
      "text/plain": [
       "S    646\n",
       "C    168\n",
       "Q     77\n",
       "Name: Embarked, dtype: int64"
      ]
     },
     "execution_count": 9,
     "metadata": {},
     "output_type": "execute_result"
    }
   ],
   "source": [
    "train.Embarked = np.where(train.Embarked.isna(),train.Embarked.mode(dropna=True), train.Embarked)\n",
    "\n",
    "train.Embarked.isna().sum()\n",
    "train.Embarked.value_counts()"
   ]
  },
  {
   "cell_type": "code",
   "execution_count": 10,
   "metadata": {},
   "outputs": [],
   "source": [
    "train[['Age_available']] = 1*train[['Age']].notna()\n",
    "train['Cabin_type'] = train.Cabin.astype(str).apply(lambda x : x[0].upper()) #n means not available\n",
    "train['Family_size'] = train.Parch + train.SibSp"
   ]
  },
  {
   "cell_type": "code",
   "execution_count": null,
   "metadata": {},
   "outputs": [],
   "source": []
  },
  {
   "cell_type": "code",
   "execution_count": 11,
   "metadata": {
    "scrolled": true
   },
   "outputs": [
    {
     "data": {
      "text/html": [
       "<div>\n",
       "<style scoped>\n",
       "    .dataframe tbody tr th:only-of-type {\n",
       "        vertical-align: middle;\n",
       "    }\n",
       "\n",
       "    .dataframe tbody tr th {\n",
       "        vertical-align: top;\n",
       "    }\n",
       "\n",
       "    .dataframe thead th {\n",
       "        text-align: right;\n",
       "    }\n",
       "</style>\n",
       "<table border=\"1\" class=\"dataframe\">\n",
       "  <thead>\n",
       "    <tr style=\"text-align: right;\">\n",
       "      <th></th>\n",
       "      <th>PassengerId</th>\n",
       "      <th>Pclass</th>\n",
       "      <th>Name</th>\n",
       "      <th>Sex</th>\n",
       "      <th>Age</th>\n",
       "      <th>SibSp</th>\n",
       "      <th>Parch</th>\n",
       "      <th>Ticket</th>\n",
       "      <th>Fare</th>\n",
       "      <th>Cabin</th>\n",
       "      <th>Embarked</th>\n",
       "    </tr>\n",
       "  </thead>\n",
       "  <tbody>\n",
       "    <tr>\n",
       "      <th>0</th>\n",
       "      <td>892</td>\n",
       "      <td>3</td>\n",
       "      <td>Kelly, Mr. James</td>\n",
       "      <td>male</td>\n",
       "      <td>34.5</td>\n",
       "      <td>0</td>\n",
       "      <td>0</td>\n",
       "      <td>330911</td>\n",
       "      <td>7.8292</td>\n",
       "      <td>NaN</td>\n",
       "      <td>Q</td>\n",
       "    </tr>\n",
       "    <tr>\n",
       "      <th>1</th>\n",
       "      <td>893</td>\n",
       "      <td>3</td>\n",
       "      <td>Wilkes, Mrs. James (Ellen Needs)</td>\n",
       "      <td>female</td>\n",
       "      <td>47.0</td>\n",
       "      <td>1</td>\n",
       "      <td>0</td>\n",
       "      <td>363272</td>\n",
       "      <td>7.0000</td>\n",
       "      <td>NaN</td>\n",
       "      <td>S</td>\n",
       "    </tr>\n",
       "  </tbody>\n",
       "</table>\n",
       "</div>"
      ],
      "text/plain": [
       "   PassengerId  Pclass                              Name     Sex   Age  SibSp  \\\n",
       "0          892       3                  Kelly, Mr. James    male  34.5      0   \n",
       "1          893       3  Wilkes, Mrs. James (Ellen Needs)  female  47.0      1   \n",
       "\n",
       "   Parch  Ticket    Fare Cabin Embarked  \n",
       "0      0  330911  7.8292   NaN        Q  \n",
       "1      0  363272  7.0000   NaN        S  "
      ]
     },
     "execution_count": 11,
     "metadata": {},
     "output_type": "execute_result"
    },
    {
     "data": {
      "text/plain": [
       "(418, 11)"
      ]
     },
     "execution_count": 11,
     "metadata": {},
     "output_type": "execute_result"
    }
   ],
   "source": [
    "test = pd.read_csv(f'{path}/test.csv')\n",
    "test.head(2)\n",
    "test.shape"
   ]
  },
  {
   "cell_type": "code",
   "execution_count": 12,
   "metadata": {},
   "outputs": [
    {
     "data": {
      "text/html": [
       "<div>\n",
       "<style scoped>\n",
       "    .dataframe tbody tr th:only-of-type {\n",
       "        vertical-align: middle;\n",
       "    }\n",
       "\n",
       "    .dataframe tbody tr th {\n",
       "        vertical-align: top;\n",
       "    }\n",
       "\n",
       "    .dataframe thead th {\n",
       "        text-align: right;\n",
       "    }\n",
       "</style>\n",
       "<table border=\"1\" class=\"dataframe\">\n",
       "  <thead>\n",
       "    <tr style=\"text-align: right;\">\n",
       "      <th>Sex</th>\n",
       "      <th>female</th>\n",
       "      <th>male</th>\n",
       "    </tr>\n",
       "    <tr>\n",
       "      <th>Surname</th>\n",
       "      <th></th>\n",
       "      <th></th>\n",
       "    </tr>\n",
       "  </thead>\n",
       "  <tbody>\n",
       "    <tr>\n",
       "      <th>MASTER</th>\n",
       "      <td>0</td>\n",
       "      <td>40</td>\n",
       "    </tr>\n",
       "    <tr>\n",
       "      <th>MISS</th>\n",
       "      <td>182</td>\n",
       "      <td>0</td>\n",
       "    </tr>\n",
       "    <tr>\n",
       "      <th>MR</th>\n",
       "      <td>0</td>\n",
       "      <td>517</td>\n",
       "    </tr>\n",
       "    <tr>\n",
       "      <th>MRS</th>\n",
       "      <td>125</td>\n",
       "      <td>0</td>\n",
       "    </tr>\n",
       "    <tr>\n",
       "      <th>Others</th>\n",
       "      <td>7</td>\n",
       "      <td>20</td>\n",
       "    </tr>\n",
       "  </tbody>\n",
       "</table>\n",
       "</div>"
      ],
      "text/plain": [
       "Sex      female  male\n",
       "Surname              \n",
       "MASTER        0    40\n",
       "MISS        182     0\n",
       "MR            0   517\n",
       "MRS         125     0\n",
       "Others        7    20"
      ]
     },
     "execution_count": 12,
     "metadata": {},
     "output_type": "execute_result"
    }
   ],
   "source": [
    "pd.crosstab(train['Surname'],train['Sex'],)"
   ]
  },
  {
   "cell_type": "code",
   "execution_count": 13,
   "metadata": {},
   "outputs": [
    {
     "data": {
      "text/plain": [
       "Surname\n",
       "MASTER     4.574167\n",
       "MISS      21.773973\n",
       "MR        32.368090\n",
       "MRS       35.898148\n",
       "Others    42.384615\n",
       "Name: Age, dtype: float64"
      ]
     },
     "execution_count": 13,
     "metadata": {},
     "output_type": "execute_result"
    }
   ],
   "source": [
    "train.groupby('Surname').Age.mean()"
   ]
  },
  {
   "cell_type": "code",
   "execution_count": 14,
   "metadata": {
    "scrolled": true
   },
   "outputs": [
    {
     "data": {
      "text/plain": [
       "Surname\n",
       "MASTER     4.574167\n",
       "MISS      21.773973\n",
       "MR        32.368090\n",
       "MRS       35.898148\n",
       "Others    42.384615\n",
       "Name: Age, dtype: float64"
      ]
     },
     "execution_count": 14,
     "metadata": {},
     "output_type": "execute_result"
    },
    {
     "data": {
      "text/plain": [
       "MR        119\n",
       "MISS       36\n",
       "MRS        17\n",
       "MASTER      4\n",
       "Others      1\n",
       "Name: Surname, dtype: int64"
      ]
     },
     "execution_count": 14,
     "metadata": {},
     "output_type": "execute_result"
    }
   ],
   "source": [
    "train.groupby('Surname').Age.mean()\n",
    "#train.Age.dropna().groupby(train.Surname, sort = True).mean()\n",
    "\n",
    "train[train.Age.isna()].Surname.value_counts(sort = True)\n",
    "#train[train.Age.isna()].groupby(train.Surname, sort = True).count()"
   ]
  },
  {
   "cell_type": "code",
   "execution_count": 15,
   "metadata": {},
   "outputs": [
    {
     "data": {
      "text/plain": [
       "False    418\n",
       "Name: Surname, dtype: int64"
      ]
     },
     "execution_count": 15,
     "metadata": {},
     "output_type": "execute_result"
    },
    {
     "data": {
      "text/plain": [
       "MR        240\n",
       "MISS       78\n",
       "MRS        72\n",
       "MASTER     21\n",
       "Others      7\n",
       "Name: Surname, dtype: int64"
      ]
     },
     "execution_count": 15,
     "metadata": {},
     "output_type": "execute_result"
    }
   ],
   "source": [
    "test['Surname'] = test.Name.map(str.upper).map(lambda x : re.search(\"(.*)\\\\, (.*?)\\\\.(.*)\",x).group(2))\n",
    "test.Surname = np.where(test.Surname.isin(['MR','MISS','MRS','MASTER']),test.Surname,'Others')\n",
    "\n",
    "test.Surname.isin(a).value_counts()\n",
    "test['Surname'].value_counts()"
   ]
  },
  {
   "cell_type": "code",
   "execution_count": 16,
   "metadata": {},
   "outputs": [],
   "source": [
    "test[['Age_available']] = 1*test[['Age']].notna()\n",
    "test['Cabin_type'] = test.Cabin.astype(str).apply(lambda x : x[0].upper()) #n means not available\n",
    "test['Family_size'] = test.Parch + test.SibSp"
   ]
  },
  {
   "cell_type": "code",
   "execution_count": 17,
   "metadata": {},
   "outputs": [
    {
     "data": {
      "text/plain": [
       "Surname\n",
       "MASTER     7.406471\n",
       "MISS      21.774844\n",
       "MR        32.000000\n",
       "MRS       38.903226\n",
       "Others    43.833333\n",
       "Name: Age, dtype: float64"
      ]
     },
     "execution_count": 17,
     "metadata": {},
     "output_type": "execute_result"
    },
    {
     "data": {
      "text/plain": [
       "MR        57\n",
       "MISS      14\n",
       "MRS       10\n",
       "MASTER     4\n",
       "Others     1\n",
       "Name: Surname, dtype: int64"
      ]
     },
     "execution_count": 17,
     "metadata": {},
     "output_type": "execute_result"
    }
   ],
   "source": [
    "test.groupby('Surname').Age.mean()\n",
    "#test.Age.dropna().groupby(test.Surname, sort = False).mean()\n",
    "\n",
    "test[test.Age.isna()].Surname.value_counts(sort = True)\n",
    "#test.Age.isna().groupby(test.Surname, sort = False).sum()"
   ]
  },
  {
   "cell_type": "code",
   "execution_count": 18,
   "metadata": {},
   "outputs": [],
   "source": [
    "train.loc[train.Age.isna(), 'Age'] = train[train.Age.isna()].Surname.map(train.groupby('Surname').Age.mean().to_dict())"
   ]
  },
  {
   "cell_type": "code",
   "execution_count": 19,
   "metadata": {},
   "outputs": [
    {
     "data": {
      "text/plain": [
       "1"
      ]
     },
     "execution_count": 19,
     "metadata": {},
     "output_type": "execute_result"
    },
    {
     "data": {
      "text/plain": [
       "0"
      ]
     },
     "execution_count": 19,
     "metadata": {},
     "output_type": "execute_result"
    }
   ],
   "source": [
    "test.Fare.isna().sum()\n",
    "test['Fare'] = test.Fare.fillna(test.Fare.median())\n",
    "test.Fare.isna().sum()"
   ]
  },
  {
   "cell_type": "code",
   "execution_count": 20,
   "metadata": {},
   "outputs": [],
   "source": [
    "test.loc[test.Age.isna(), 'Age'] = test[test.Age.isna()].Surname.map(train.groupby('Surname').Age.mean().to_dict())"
   ]
  },
  {
   "cell_type": "code",
   "execution_count": 21,
   "metadata": {},
   "outputs": [
    {
     "data": {
      "text/plain": [
       "PassengerId        0\n",
       "Survived           0\n",
       "Pclass             0\n",
       "Name               0\n",
       "Sex                0\n",
       "Age                0\n",
       "SibSp              0\n",
       "Parch              0\n",
       "Ticket             0\n",
       "Fare               0\n",
       "Cabin            687\n",
       "Embarked           0\n",
       "Surname            0\n",
       "Age_available      0\n",
       "Cabin_type         0\n",
       "Family_size        0\n",
       "dtype: int64"
      ]
     },
     "execution_count": 21,
     "metadata": {},
     "output_type": "execute_result"
    },
    {
     "data": {
      "text/plain": [
       "PassengerId        0\n",
       "Pclass             0\n",
       "Name               0\n",
       "Sex                0\n",
       "Age                0\n",
       "SibSp              0\n",
       "Parch              0\n",
       "Ticket             0\n",
       "Fare               0\n",
       "Cabin            327\n",
       "Embarked           0\n",
       "Surname            0\n",
       "Age_available      0\n",
       "Cabin_type         0\n",
       "Family_size        0\n",
       "dtype: int64"
      ]
     },
     "execution_count": 21,
     "metadata": {},
     "output_type": "execute_result"
    }
   ],
   "source": [
    "train.isna().sum()\n",
    "test.isna().sum()"
   ]
  },
  {
   "cell_type": "code",
   "execution_count": 22,
   "metadata": {},
   "outputs": [],
   "source": [
    "train[['Sex','Pclass', 'Embarked','Surname','Age_available','Cabin_type']] = train[['Sex','Pclass', 'Embarked','Surname','Age_available','Cabin_type']].astype(str)\n",
    "\n",
    "test[['Sex','Pclass', 'Embarked','Surname','Age_available','Cabin_type']] = test[['Sex','Pclass', 'Embarked','Surname','Age_available','Cabin_type']].astype(str)"
   ]
  },
  {
   "cell_type": "raw",
   "metadata": {},
   "source": [
    "from sklearn.feature_extraction import DictVectorizer\n",
    "dvec = DictVectorizer(sparse=False)\n",
    "train_dvec = dvec.fit_transform(train[['Sex','Pclass', 'Embarked']].transpose().to_dict().values())\n",
    "train_dvec = pd.DataFrame(train_dvec, index = train.index, columns = dvec.get_feature_names())"
   ]
  },
  {
   "cell_type": "code",
   "execution_count": 23,
   "metadata": {},
   "outputs": [],
   "source": [
    "def dict_vec(train_set,cols,is_test, test_set):\n",
    "    \"\"\"\n",
    "    returns dict vectorizer on train set or train & test set for chosen columns\n",
    "    train_set: Dataset on which DV is to be fit\n",
    "    cols: List of columns of train_set which are to be considered for DV\n",
    "    is_test: Boolean, If DV is to be transformed on test too\n",
    "    test_set: Test set on which DV is to be transformed\n",
    "    \"\"\"\n",
    "    from sklearn.feature_extraction import DictVectorizer\n",
    "    import pandas as pd\n",
    "    dvec = DictVectorizer(sparse=False)\n",
    "    if not is_test:\n",
    "        test_set = pd.DataFrame()\n",
    "        train_dvec = dvec.fit_transform(train_set[cols].transpose().to_dict().values())\n",
    "        train_dvec = pd.DataFrame(train_dvec, index = train_set.index, columns = dvec.get_feature_names())\n",
    "        train_df = pd.concat([train_set.drop(cols, axis = 1),train_dvec], axis = 1)\n",
    "        return train_df,pd.DataFrame(),dvec\n",
    "    else:\n",
    "        train_dvec = dvec.fit_transform(train_set[cols].transpose().to_dict().values())\n",
    "        train_dvec = pd.DataFrame(train_dvec, index = train_set.index, columns = dvec.get_feature_names())\n",
    "        train_df = pd.concat([train_set.drop(cols, axis = 1),train_dvec], axis = 1)\n",
    "        test_dvec = dvec.transform(test_set[cols].transpose().to_dict().values())\n",
    "        test_dvec = pd.DataFrame(test_dvec, index = test_set.index, columns = dvec.get_feature_names())\n",
    "        test_df = pd.concat([test_set.drop(cols, axis = 1),test_dvec], axis = 1)\n",
    "        return train_df, test_df,dvec"
   ]
  },
  {
   "cell_type": "code",
   "execution_count": 24,
   "metadata": {},
   "outputs": [],
   "source": [
    "train_df,test_df,dv = dict_vec(train, ['Sex','Pclass', 'Embarked','Surname','Age_available','Cabin_type'],is_test = True,test_set =test)"
   ]
  },
  {
   "cell_type": "code",
   "execution_count": 25,
   "metadata": {},
   "outputs": [
    {
     "data": {
      "text/plain": [
       "Index(['PassengerId', 'Survived', 'Name', 'Age', 'SibSp', 'Parch', 'Ticket',\n",
       "       'Fare', 'Cabin', 'Family_size', 'Age_available=0', 'Age_available=1',\n",
       "       'Cabin_type=A', 'Cabin_type=B', 'Cabin_type=C', 'Cabin_type=D',\n",
       "       'Cabin_type=E', 'Cabin_type=F', 'Cabin_type=G', 'Cabin_type=N',\n",
       "       'Cabin_type=T', 'Embarked=C', 'Embarked=Q', 'Embarked=S', 'Pclass=1',\n",
       "       'Pclass=2', 'Pclass=3', 'Sex=female', 'Sex=male', 'Surname=MASTER',\n",
       "       'Surname=MISS', 'Surname=MR', 'Surname=MRS', 'Surname=Others'],\n",
       "      dtype='object')"
      ]
     },
     "execution_count": 25,
     "metadata": {},
     "output_type": "execute_result"
    }
   ],
   "source": [
    "train_df.columns"
   ]
  },
  {
   "cell_type": "code",
   "execution_count": 26,
   "metadata": {},
   "outputs": [
    {
     "data": {
      "text/plain": [
       "'Survived'"
      ]
     },
     "execution_count": 26,
     "metadata": {},
     "output_type": "execute_result"
    },
    {
     "data": {
      "text/plain": [
       "Index(['Age', 'Fare', 'Family_size', 'Age_available=0', 'Age_available=1',\n",
       "       'Cabin_type=A', 'Cabin_type=B', 'Cabin_type=C', 'Cabin_type=D',\n",
       "       'Cabin_type=E', 'Cabin_type=F', 'Cabin_type=G', 'Cabin_type=N',\n",
       "       'Cabin_type=T', 'Embarked=C', 'Embarked=Q', 'Embarked=S', 'Pclass=1',\n",
       "       'Pclass=2', 'Pclass=3', 'Sex=female', 'Sex=male', 'Surname=MASTER',\n",
       "       'Surname=MISS', 'Surname=MR', 'Surname=MRS', 'Surname=Others'],\n",
       "      dtype='object')"
      ]
     },
     "execution_count": 26,
     "metadata": {},
     "output_type": "execute_result"
    }
   ],
   "source": [
    "target  = 'Survived'\n",
    "features= train_df.drop(['PassengerId','Survived', 'Name','Ticket','Cabin','SibSp', 'Parch'], axis =1).columns\n",
    "target\n",
    "features"
   ]
  },
  {
   "cell_type": "markdown",
   "metadata": {},
   "source": [
    "### splitting into train and test set"
   ]
  },
  {
   "cell_type": "code",
   "execution_count": 122,
   "metadata": {},
   "outputs": [],
   "source": [
    "\n",
    "X_train,X_test,y_train,y_test = train_test_split(train_df[features],train_df[target],stratify = train_df[target],\\\n",
    "                                                 test_size=0.25, random_state=69)"
   ]
  },
  {
   "cell_type": "markdown",
   "metadata": {},
   "source": [
    "### logreg on train set"
   ]
  },
  {
   "cell_type": "code",
   "execution_count": 28,
   "metadata": {},
   "outputs": [],
   "source": [
    "logreg = make_pipeline(StandardScaler(), LogisticRegression(solver = 'lbfgs', max_iter=10000,C= 0.1))\n",
    "#res = df.apply(lambda x: x.fillna(0) if x.dtype.kind in 'biufc' else x.fillna('.'))"
   ]
  },
  {
   "cell_type": "code",
   "execution_count": 29,
   "metadata": {},
   "outputs": [
    {
     "data": {
      "text/plain": [
       "Pipeline(memory=None,\n",
       "         steps=[('standardscaler',\n",
       "                 StandardScaler(copy=True, with_mean=True, with_std=True)),\n",
       "                ('logisticregression',\n",
       "                 LogisticRegression(C=0.1, class_weight=None, dual=False,\n",
       "                                    fit_intercept=True, intercept_scaling=1,\n",
       "                                    l1_ratio=None, max_iter=10000,\n",
       "                                    multi_class='auto', n_jobs=None,\n",
       "                                    penalty='l2', random_state=None,\n",
       "                                    solver='lbfgs', tol=0.0001, verbose=0,\n",
       "                                    warm_start=False))],\n",
       "         verbose=False)"
      ]
     },
     "execution_count": 29,
     "metadata": {},
     "output_type": "execute_result"
    }
   ],
   "source": [
    "logreg.fit(X_train[features], y_train);"
   ]
  },
  {
   "cell_type": "code",
   "execution_count": 30,
   "metadata": {},
   "outputs": [
    {
     "data": {
      "text/plain": [
       "0.8488023952095808"
      ]
     },
     "execution_count": 30,
     "metadata": {},
     "output_type": "execute_result"
    }
   ],
   "source": [
    "pred_bin = logreg.predict(X_train[features])\n",
    "pred_prob = logreg.predict_proba(X_train[features])[:,1]\n",
    "logreg.score(X_train[features], y_train) # accuracy"
   ]
  },
  {
   "cell_type": "code",
   "execution_count": 31,
   "metadata": {},
   "outputs": [
    {
     "data": {
      "text/plain": [
       "0.8163265306122449"
      ]
     },
     "execution_count": 31,
     "metadata": {},
     "output_type": "execute_result"
    },
    {
     "data": {
      "text/plain": [
       "0.78125"
      ]
     },
     "execution_count": 31,
     "metadata": {},
     "output_type": "execute_result"
    },
    {
     "data": {
      "text/plain": [
       "array([[367,  45],\n",
       "       [ 56, 200]], dtype=int64)"
      ]
     },
     "execution_count": 31,
     "metadata": {},
     "output_type": "execute_result"
    },
    {
     "data": {
      "text/plain": [
       "0.8488023952095808"
      ]
     },
     "execution_count": 31,
     "metadata": {},
     "output_type": "execute_result"
    }
   ],
   "source": [
    "precision_score(y_train,pred_bin)\n",
    "recall_score(y_train,pred_bin)\n",
    "confusion_matrix(y_train,pred_bin)\n",
    "accuracy_score(y_train,pred_bin)"
   ]
  },
  {
   "cell_type": "markdown",
   "metadata": {},
   "source": [
    "### logreg on test"
   ]
  },
  {
   "cell_type": "code",
   "execution_count": 33,
   "metadata": {},
   "outputs": [
    {
     "data": {
      "text/plain": [
       "0.8072289156626506"
      ]
     },
     "execution_count": 33,
     "metadata": {},
     "output_type": "execute_result"
    },
    {
     "data": {
      "text/plain": [
       "0.7790697674418605"
      ]
     },
     "execution_count": 33,
     "metadata": {},
     "output_type": "execute_result"
    },
    {
     "data": {
      "text/plain": [
       "array([[121,  16],\n",
       "       [ 19,  67]], dtype=int64)"
      ]
     },
     "execution_count": 33,
     "metadata": {},
     "output_type": "execute_result"
    },
    {
     "data": {
      "text/plain": [
       "0.8430493273542601"
      ]
     },
     "execution_count": 33,
     "metadata": {},
     "output_type": "execute_result"
    }
   ],
   "source": [
    "pred_bin = logreg.predict(X_test[features])\n",
    "precision_score(y_test,pred_bin)\n",
    "recall_score(y_test,pred_bin)\n",
    "confusion_matrix(y_test,pred_bin)\n",
    "accuracy_score(y_test,pred_bin)"
   ]
  },
  {
   "cell_type": "code",
   "execution_count": 162,
   "metadata": {},
   "outputs": [
    {
     "data": {
      "text/plain": [
       "0.7807017543859649"
      ]
     },
     "execution_count": 162,
     "metadata": {},
     "output_type": "execute_result"
    }
   ],
   "source": [
    "recall_score(train_df[target],logreg.predict(train_df[features]))"
   ]
  },
  {
   "cell_type": "markdown",
   "metadata": {},
   "source": [
    "### The mean score and the 95% confidence interval of the score estimate are hence given by:"
   ]
  },
  {
   "cell_type": "code",
   "execution_count": 166,
   "metadata": {},
   "outputs": [
    {
     "data": {
      "text/plain": [
       "array([0.81864235, 0.82049213, 0.80962567, 0.80594338, 0.85873016])"
      ]
     },
     "execution_count": 166,
     "metadata": {},
     "output_type": "execute_result"
    },
    {
     "name": "stdout",
     "output_type": "stream",
     "text": [
      "Full Accuracy: 0.82(+/- 0.04)\n"
     ]
    },
    {
     "data": {
      "text/plain": [
       "array([0.81652388, 0.82251082, 0.80962567, 0.8325283 , 0.85704884])"
      ]
     },
     "execution_count": 166,
     "metadata": {},
     "output_type": "execute_result"
    },
    {
     "name": "stdout",
     "output_type": "stream",
     "text": [
      "Full Accuracy: 0.83(+/- 0.03)\n"
     ]
    },
    {
     "data": {
      "text/plain": [
       "array([0.821278  , 0.81871658, 0.80962567, 0.79451872, 0.86065683])"
      ]
     },
     "execution_count": 166,
     "metadata": {},
     "output_type": "execute_result"
    },
    {
     "name": "stdout",
     "output_type": "stream",
     "text": [
      "Full Accuracy: 0.82(+/- 0.04)\n"
     ]
    }
   ],
   "source": [
    "all_accuracies_data = cross_val_score(estimator=logreg, X=train_df[features], y=train_df[target], cv=5,scoring = 'f1_macro')\n",
    "all_accuracies_data\n",
    "print(\"Full Accuracy: %0.2f(+/- %0.2f)\" % (all_accuracies_data.mean(), all_accuracies_data.std()*2))\n",
    "\n",
    "all_accuracies_data = cross_val_score(estimator=logreg, X=train_df[features], y=train_df[target], cv=5,scoring = 'precision_macro')\n",
    "all_accuracies_data\n",
    "print(\"Full Accuracy: %0.2f(+/- %0.2f)\" % (all_accuracies_data.mean(), all_accuracies_data.std()*2))\n",
    "\n",
    "all_accuracies_data = cross_val_score(estimator=logreg, X=train_df[features], y=train_df[target], cv=5,scoring = 'recall_macro')\n",
    "all_accuracies_data\n",
    "print(\"Full Accuracy: %0.2f(+/- %0.2f)\" % (all_accuracies_data.mean(), all_accuracies_data.std()*2))"
   ]
  },
  {
   "cell_type": "code",
   "execution_count": 36,
   "metadata": {},
   "outputs": [
    {
     "data": {
      "text/plain": [
       "array([251, 167], dtype=int64)"
      ]
     },
     "execution_count": 36,
     "metadata": {},
     "output_type": "execute_result"
    }
   ],
   "source": [
    "np.bincount(logreg.predict(test_df[features]))\n",
    "\n",
    "pd.concat([test_df[['PassengerId']],pd.DataFrame(logreg.predict(test_df[features]),columns= ['Survived'],\\\n",
    "               index = test_df.index)],axis = 1).to_csv(f'{path}/titanic_submit9lrpipe.csv', index=False)"
   ]
  },
  {
   "cell_type": "code",
   "execution_count": 37,
   "metadata": {
    "scrolled": true
   },
   "outputs": [
    {
     "data": {
      "text/html": [
       "<div>\n",
       "<style scoped>\n",
       "    .dataframe tbody tr th:only-of-type {\n",
       "        vertical-align: middle;\n",
       "    }\n",
       "\n",
       "    .dataframe tbody tr th {\n",
       "        vertical-align: top;\n",
       "    }\n",
       "\n",
       "    .dataframe thead th {\n",
       "        text-align: right;\n",
       "    }\n",
       "</style>\n",
       "<table border=\"1\" class=\"dataframe\">\n",
       "  <thead>\n",
       "    <tr style=\"text-align: right;\">\n",
       "      <th></th>\n",
       "      <th>variable</th>\n",
       "      <th>coefficient</th>\n",
       "    </tr>\n",
       "  </thead>\n",
       "  <tbody>\n",
       "    <tr>\n",
       "      <th>0</th>\n",
       "      <td>intercept</td>\n",
       "      <td>-0.653631</td>\n",
       "    </tr>\n",
       "    <tr>\n",
       "      <th>1</th>\n",
       "      <td>Family_size</td>\n",
       "      <td>-0.550072</td>\n",
       "    </tr>\n",
       "    <tr>\n",
       "      <th>2</th>\n",
       "      <td>Surname=MR</td>\n",
       "      <td>-0.427699</td>\n",
       "    </tr>\n",
       "    <tr>\n",
       "      <th>3</th>\n",
       "      <td>Sex=male</td>\n",
       "      <td>-0.401073</td>\n",
       "    </tr>\n",
       "    <tr>\n",
       "      <th>4</th>\n",
       "      <td>Sex=female</td>\n",
       "      <td>0.401073</td>\n",
       "    </tr>\n",
       "    <tr>\n",
       "      <th>5</th>\n",
       "      <td>Surname=MASTER</td>\n",
       "      <td>0.370529</td>\n",
       "    </tr>\n",
       "    <tr>\n",
       "      <th>6</th>\n",
       "      <td>Surname=MRS</td>\n",
       "      <td>0.346439</td>\n",
       "    </tr>\n",
       "  </tbody>\n",
       "</table>\n",
       "</div>"
      ],
      "text/plain": [
       "         variable  coefficient\n",
       "0       intercept    -0.653631\n",
       "1     Family_size    -0.550072\n",
       "2      Surname=MR    -0.427699\n",
       "3        Sex=male    -0.401073\n",
       "4      Sex=female     0.401073\n",
       "5  Surname=MASTER     0.370529\n",
       "6     Surname=MRS     0.346439"
      ]
     },
     "execution_count": 37,
     "metadata": {},
     "output_type": "execute_result"
    }
   ],
   "source": [
    "def logreg_coef(model,data):    \n",
    "    \"\"\"\n",
    "    Gives the intercepts and coefficients along with variable names for logistic regression.\n",
    "    model : name of the logistic model\n",
    "    data :  data on which logistic model was fit, column order must be same as that of the\n",
    "            data on which model was fit\n",
    "    \"\"\"\n",
    "    intercept = pd.DataFrame({'variable' : 'intercept', 'coefficient' : model.intercept_})\n",
    "    coefficient = pd.DataFrame({'variable' : data.columns, 'coefficient' : model.coef_.transpose().flatten()})\n",
    "    coefficient = coefficient.reindex(coefficient.coefficient.abs().sort_values(ascending = False).index)\n",
    "    return(pd.concat([intercept,coefficient], axis = 0).reset_index(drop = True))\n",
    "\n",
    "lr_coefs = logreg_coef(model = logreg[1],data = train_df[features])\n",
    "lr_coefs.head(7)"
   ]
  },
  {
   "cell_type": "markdown",
   "metadata": {},
   "source": [
    "# XGB"
   ]
  },
  {
   "cell_type": "code",
   "execution_count": 41,
   "metadata": {
    "scrolled": true
   },
   "outputs": [
    {
     "data": {
      "text/plain": [
       "XGBClassifier(base_score=0.5, booster='gbtree', colsample_bylevel=1,\n",
       "              colsample_bynode=1, colsample_bytree=0.75, gamma=0,\n",
       "              learning_rate=0.001, max_delta_step=0, max_depth=3,\n",
       "              min_child_weight=1, missing=None, n_estimators=500, n_jobs=1,\n",
       "              nthread=None, objective='binary:logistic', random_state=0,\n",
       "              reg_alpha=0, reg_lambda=1, scale_pos_weight=1, seed=None,\n",
       "              silent=None, subsample=0.9, verbosity=1)"
      ]
     },
     "execution_count": 41,
     "metadata": {},
     "output_type": "execute_result"
    }
   ],
   "source": [
    "\n",
    "XGB = XGBClassifier(n_estimators = 500,learning_rate= 0.001,colsample_bytree= 0.75,subsample=0.9)\n",
    "#XGB = RandomForestClassifier(n_estimators=750,oob_score=True,max_depth=6,max_features=10)\n",
    "XGB\n",
    "\n"
   ]
  },
  {
   "cell_type": "code",
   "execution_count": 42,
   "metadata": {},
   "outputs": [
    {
     "data": {
      "text/plain": [
       "XGBClassifier(base_score=0.5, booster='gbtree', colsample_bylevel=1,\n",
       "              colsample_bynode=1, colsample_bytree=0.75, gamma=0,\n",
       "              learning_rate=0.001, max_delta_step=0, max_depth=3,\n",
       "              min_child_weight=1, missing=None, n_estimators=500, n_jobs=1,\n",
       "              nthread=None, objective='binary:logistic', random_state=0,\n",
       "              reg_alpha=0, reg_lambda=1, scale_pos_weight=1, seed=None,\n",
       "              silent=None, subsample=0.9, verbosity=1)"
      ]
     },
     "execution_count": 42,
     "metadata": {},
     "output_type": "execute_result"
    }
   ],
   "source": [
    "XGB.fit(X_train[features], y_train)"
   ]
  },
  {
   "cell_type": "code",
   "execution_count": 45,
   "metadata": {
    "scrolled": false
   },
   "outputs": [
    {
     "data": {
      "text/plain": [
       "0.8099173553719008"
      ]
     },
     "execution_count": 45,
     "metadata": {},
     "output_type": "execute_result"
    },
    {
     "data": {
      "text/plain": [
       "0.765625"
      ]
     },
     "execution_count": 45,
     "metadata": {},
     "output_type": "execute_result"
    },
    {
     "data": {
      "text/plain": [
       "array([[366,  46],\n",
       "       [ 60, 196]], dtype=int64)"
      ]
     },
     "execution_count": 45,
     "metadata": {},
     "output_type": "execute_result"
    },
    {
     "data": {
      "text/plain": [
       "0.8413173652694611"
      ]
     },
     "execution_count": 45,
     "metadata": {},
     "output_type": "execute_result"
    }
   ],
   "source": [
    "pred_bin = XGB.predict(X_train)\n",
    "precision_score(y_train,pred_bin)\n",
    "recall_score(y_train,pred_bin)\n",
    "confusion_matrix(y_train,pred_bin)\n",
    "accuracy_score(y_train,pred_bin)"
   ]
  },
  {
   "cell_type": "markdown",
   "metadata": {},
   "source": [
    "##### prediction on test"
   ]
  },
  {
   "cell_type": "code",
   "execution_count": 46,
   "metadata": {
    "scrolled": false
   },
   "outputs": [
    {
     "data": {
      "text/plain": [
       "0.7857142857142857"
      ]
     },
     "execution_count": 46,
     "metadata": {},
     "output_type": "execute_result"
    },
    {
     "data": {
      "text/plain": [
       "0.7674418604651163"
      ]
     },
     "execution_count": 46,
     "metadata": {},
     "output_type": "execute_result"
    },
    {
     "data": {
      "text/plain": [
       "array([[119,  18],\n",
       "       [ 20,  66]], dtype=int64)"
      ]
     },
     "execution_count": 46,
     "metadata": {},
     "output_type": "execute_result"
    },
    {
     "data": {
      "text/plain": [
       "0.8295964125560538"
      ]
     },
     "execution_count": 46,
     "metadata": {},
     "output_type": "execute_result"
    }
   ],
   "source": [
    "pred_bin = XGB.predict(X_test)\n",
    "precision_score(y_test,pred_bin)\n",
    "recall_score(y_test,pred_bin)\n",
    "confusion_matrix(y_test,pred_bin)\n",
    "accuracy_score(y_test,pred_bin)"
   ]
  },
  {
   "cell_type": "markdown",
   "metadata": {},
   "source": [
    "### The mean score and the 95% confidence interval of the score estimate are hence given by:"
   ]
  },
  {
   "cell_type": "code",
   "execution_count": 165,
   "metadata": {},
   "outputs": [
    {
     "data": {
      "text/plain": [
       "array([0.83946188, 0.80311714, 0.81395192, 0.77720559, 0.85084632])"
      ]
     },
     "execution_count": 165,
     "metadata": {},
     "output_type": "execute_result"
    },
    {
     "name": "stdout",
     "output_type": "stream",
     "text": [
      "Full Accuracy: 0.82(+/- 0.05)\n"
     ]
    },
    {
     "data": {
      "text/plain": [
       "array([0.84271923, 0.80402044, 0.81708645, 0.81371618, 0.85416667])"
      ]
     },
     "execution_count": 165,
     "metadata": {},
     "output_type": "execute_result"
    },
    {
     "name": "stdout",
     "output_type": "stream",
     "text": [
      "Full Accuracy: 0.83(+/- 0.02)\n"
     ]
    },
    {
     "data": {
      "text/plain": [
       "array([0.83675889, 0.80227273, 0.81136364, 0.76510695, 0.84809201])"
      ]
     },
     "execution_count": 165,
     "metadata": {},
     "output_type": "execute_result"
    },
    {
     "name": "stdout",
     "output_type": "stream",
     "text": [
      "Full Accuracy: 0.81(+/- 0.03)\n"
     ]
    }
   ],
   "source": [
    "all_accuracies_data = cross_val_score(estimator=XGB, X=train_df[features], y=train_df[target], cv=5,scoring = 'f1_macro')\n",
    "all_accuracies_data\n",
    "print(\"Full Accuracy: %0.2f(+/- %0.2f)\" % (all_accuracies_data.mean(), all_accuracies_data.std()*2))\n",
    "\n",
    "all_accuracies_data = cross_val_score(estimator=XGB, X=train_df[features], y=train_df[target], cv=5,scoring = 'precision_macro')\n",
    "all_accuracies_data\n",
    "print(\"Full Accuracy: %0.2f(+/- %0.2f)\" % (all_accuracies_data.mean(), all_accuracies_data.std()*2))\n",
    "\n",
    "all_accuracies_data = cross_val_score(estimator=XGB, X=train_df[features], y=train_df[target], cv=5,scoring = 'recall_macro')\n",
    "all_accuracies_data\n",
    "print(\"Full Accuracy: %0.2f(+/- %0.2f)\" % (all_accuracies_data.mean(), all_accuracies_data.std()*2))"
   ]
  },
  {
   "cell_type": "code",
   "execution_count": 47,
   "metadata": {},
   "outputs": [
    {
     "data": {
      "text/html": [
       "<div>\n",
       "<style scoped>\n",
       "    .dataframe tbody tr th:only-of-type {\n",
       "        vertical-align: middle;\n",
       "    }\n",
       "\n",
       "    .dataframe tbody tr th {\n",
       "        vertical-align: top;\n",
       "    }\n",
       "\n",
       "    .dataframe thead th {\n",
       "        text-align: right;\n",
       "    }\n",
       "</style>\n",
       "<table border=\"1\" class=\"dataframe\">\n",
       "  <thead>\n",
       "    <tr style=\"text-align: right;\">\n",
       "      <th></th>\n",
       "      <th>features</th>\n",
       "      <th>importance</th>\n",
       "    </tr>\n",
       "  </thead>\n",
       "  <tbody>\n",
       "    <tr>\n",
       "      <th>24</th>\n",
       "      <td>Surname=MR</td>\n",
       "      <td>0.204823</td>\n",
       "    </tr>\n",
       "    <tr>\n",
       "      <th>20</th>\n",
       "      <td>Sex=female</td>\n",
       "      <td>0.191553</td>\n",
       "    </tr>\n",
       "    <tr>\n",
       "      <th>21</th>\n",
       "      <td>Sex=male</td>\n",
       "      <td>0.167570</td>\n",
       "    </tr>\n",
       "    <tr>\n",
       "      <th>23</th>\n",
       "      <td>Surname=MISS</td>\n",
       "      <td>0.123521</td>\n",
       "    </tr>\n",
       "    <tr>\n",
       "      <th>25</th>\n",
       "      <td>Surname=MRS</td>\n",
       "      <td>0.048483</td>\n",
       "    </tr>\n",
       "    <tr>\n",
       "      <th>19</th>\n",
       "      <td>Pclass=3</td>\n",
       "      <td>0.042222</td>\n",
       "    </tr>\n",
       "    <tr>\n",
       "      <th>2</th>\n",
       "      <td>Family_size</td>\n",
       "      <td>0.037809</td>\n",
       "    </tr>\n",
       "    <tr>\n",
       "      <th>12</th>\n",
       "      <td>Cabin_type=N</td>\n",
       "      <td>0.022826</td>\n",
       "    </tr>\n",
       "    <tr>\n",
       "      <th>18</th>\n",
       "      <td>Pclass=2</td>\n",
       "      <td>0.022219</td>\n",
       "    </tr>\n",
       "    <tr>\n",
       "      <th>22</th>\n",
       "      <td>Surname=MASTER</td>\n",
       "      <td>0.018013</td>\n",
       "    </tr>\n",
       "  </tbody>\n",
       "</table>\n",
       "</div>"
      ],
      "text/plain": [
       "          features  importance\n",
       "24      Surname=MR    0.204823\n",
       "20      Sex=female    0.191553\n",
       "21        Sex=male    0.167570\n",
       "23    Surname=MISS    0.123521\n",
       "25     Surname=MRS    0.048483\n",
       "19        Pclass=3    0.042222\n",
       "2      Family_size    0.037809\n",
       "12    Cabin_type=N    0.022826\n",
       "18        Pclass=2    0.022219\n",
       "22  Surname=MASTER    0.018013"
      ]
     },
     "execution_count": 47,
     "metadata": {},
     "output_type": "execute_result"
    }
   ],
   "source": [
    "pd.DataFrame({'features' : features, 'importance' : XGB.feature_importances_}).\\\n",
    "           sort_values('importance',ascending = False).head(10)"
   ]
  },
  {
   "cell_type": "markdown",
   "metadata": {},
   "source": [
    "### for submitting"
   ]
  },
  {
   "cell_type": "code",
   "execution_count": 49,
   "metadata": {},
   "outputs": [
    {
     "data": {
      "text/plain": [
       "array([254, 164], dtype=int64)"
      ]
     },
     "execution_count": 49,
     "metadata": {},
     "output_type": "execute_result"
    }
   ],
   "source": [
    "np.bincount(XGB.predict(test_df[features]))\n",
    "\n",
    "pd.concat([test_df[['PassengerId']],pd.DataFrame(XGB.predict(test_df[features]),columns= ['Survived'],index = test_df.index)],axis = 1)\\\n",
    ".to_csv(f'{path}/titanic_submit10xgb.csv', index=False)"
   ]
  },
  {
   "cell_type": "markdown",
   "metadata": {},
   "source": [
    "# RF"
   ]
  },
  {
   "cell_type": "code",
   "execution_count": 120,
   "metadata": {},
   "outputs": [
    {
     "data": {
      "text/plain": [
       "(668, 27)"
      ]
     },
     "execution_count": 120,
     "metadata": {},
     "output_type": "execute_result"
    },
    {
     "data": {
      "text/plain": [
       "0    0.616766\n",
       "1    0.383234\n",
       "Name: Survived, dtype: float64"
      ]
     },
     "execution_count": 120,
     "metadata": {},
     "output_type": "execute_result"
    }
   ],
   "source": [
    "X_train.shape\n",
    "y_train.value_counts(normalize=True)"
   ]
  },
  {
   "cell_type": "code",
   "execution_count": 201,
   "metadata": {
    "scrolled": true
   },
   "outputs": [
    {
     "data": {
      "text/plain": [
       "RandomForestClassifier(bootstrap=True, ccp_alpha=0.0, class_weight=None,\n",
       "                       criterion='gini', max_depth=7, max_features=19,\n",
       "                       max_leaf_nodes=None, max_samples=None,\n",
       "                       min_impurity_decrease=0.0, min_impurity_split=None,\n",
       "                       min_samples_leaf=1, min_samples_split=2,\n",
       "                       min_weight_fraction_leaf=0.0, n_estimators=100,\n",
       "                       n_jobs=None, oob_score=False, random_state=69, verbose=0,\n",
       "                       warm_start=False)"
      ]
     },
     "execution_count": 201,
     "metadata": {},
     "output_type": "execute_result"
    }
   ],
   "source": [
    "#RF = RandomForestClassifier(n_estimators=750,oob_score=True,max_depth=6,max_features=8)\n",
    "RF = RandomForestClassifier(bootstrap=True, ccp_alpha=0.0, class_weight=None,\n",
    "                       criterion='gini', max_depth=7, max_features=19,\n",
    "                       max_leaf_nodes=None, max_samples=None,\n",
    "                       min_impurity_decrease=0.0, min_impurity_split=None,\n",
    "                       min_samples_leaf=1, min_samples_split=2,\n",
    "                       min_weight_fraction_leaf=0.0, n_estimators=100,\n",
    "                       n_jobs=None, oob_score=False, random_state=69, verbose=0,\n",
    "                       warm_start=False)\n",
    "RF.fit(X_train[features], y_train)"
   ]
  },
  {
   "cell_type": "code",
   "execution_count": 202,
   "metadata": {
    "scrolled": true
   },
   "outputs": [
    {
     "data": {
      "text/plain": [
       "0.9310344827586207"
      ]
     },
     "execution_count": 202,
     "metadata": {},
     "output_type": "execute_result"
    },
    {
     "data": {
      "text/plain": [
       "0.84375"
      ]
     },
     "execution_count": 202,
     "metadata": {},
     "output_type": "execute_result"
    },
    {
     "data": {
      "text/plain": [
       "array([[396,  16],\n",
       "       [ 40, 216]], dtype=int64)"
      ]
     },
     "execution_count": 202,
     "metadata": {},
     "output_type": "execute_result"
    },
    {
     "data": {
      "text/plain": [
       "0.9161676646706587"
      ]
     },
     "execution_count": 202,
     "metadata": {},
     "output_type": "execute_result"
    }
   ],
   "source": [
    "pred_bin = RF.predict(X_train)\n",
    "precision_score(y_train,pred_bin)\n",
    "recall_score(y_train,pred_bin)\n",
    "confusion_matrix(y_train,pred_bin)\n",
    "accuracy_score(y_train,pred_bin)"
   ]
  },
  {
   "cell_type": "markdown",
   "metadata": {},
   "source": [
    "##### prediction on test"
   ]
  },
  {
   "cell_type": "code",
   "execution_count": 203,
   "metadata": {
    "scrolled": false
   },
   "outputs": [
    {
     "data": {
      "text/plain": [
       "0.8"
      ]
     },
     "execution_count": 203,
     "metadata": {},
     "output_type": "execute_result"
    },
    {
     "data": {
      "text/plain": [
       "0.7441860465116279"
      ]
     },
     "execution_count": 203,
     "metadata": {},
     "output_type": "execute_result"
    },
    {
     "data": {
      "text/plain": [
       "array([[121,  16],\n",
       "       [ 22,  64]], dtype=int64)"
      ]
     },
     "execution_count": 203,
     "metadata": {},
     "output_type": "execute_result"
    },
    {
     "data": {
      "text/plain": [
       "0.8295964125560538"
      ]
     },
     "execution_count": 203,
     "metadata": {},
     "output_type": "execute_result"
    }
   ],
   "source": [
    "pred_bin = RF.predict(X_test)\n",
    "precision_score(y_test,pred_bin)\n",
    "recall_score(y_test,pred_bin)\n",
    "confusion_matrix(y_test,pred_bin)\n",
    "accuracy_score(y_test,pred_bin)"
   ]
  },
  {
   "cell_type": "markdown",
   "metadata": {},
   "source": [
    "### The mean score and the 95% confidence interval of the score estimate are hence given by:"
   ]
  },
  {
   "cell_type": "code",
   "execution_count": 204,
   "metadata": {},
   "outputs": [
    {
     "data": {
      "text/plain": [
       "array([0.83090418, 0.79400953, 0.8490246 , 0.78450363, 0.83433054])"
      ]
     },
     "execution_count": 204,
     "metadata": {},
     "output_type": "execute_result"
    },
    {
     "name": "stdout",
     "output_type": "stream",
     "text": [
      "Full Accuracy: 0.82(+/- 0.05)\n"
     ]
    },
    {
     "data": {
      "text/plain": [
       "array([0.8417616 , 0.80088988, 0.85541753, 0.8184375 , 0.83433054])"
      ]
     },
     "execution_count": 204,
     "metadata": {},
     "output_type": "execute_result"
    },
    {
     "name": "stdout",
     "output_type": "stream",
     "text": [
      "Full Accuracy: 0.83(+/- 0.04)\n"
     ]
    },
    {
     "data": {
      "text/plain": [
       "array([0.82411067, 0.78930481, 0.84425134, 0.77245989, 0.83433054])"
      ]
     },
     "execution_count": 204,
     "metadata": {},
     "output_type": "execute_result"
    },
    {
     "name": "stdout",
     "output_type": "stream",
     "text": [
      "Full Accuracy: 0.81(+/- 0.05)\n"
     ]
    }
   ],
   "source": [
    "all_accuracies_data = cross_val_score(estimator=RF, X=train_df[features], y=train_df[target], cv=5,scoring = 'f1_macro')\n",
    "all_accuracies_data\n",
    "print(\"Full Accuracy: %0.2f(+/- %0.2f)\" % (all_accuracies_data.mean(), all_accuracies_data.std()*2))\n",
    "\n",
    "all_accuracies_data = cross_val_score(estimator=RF, X=train_df[features], y=train_df[target], cv=5,scoring = 'precision_macro')\n",
    "all_accuracies_data\n",
    "print(\"Full Accuracy: %0.2f(+/- %0.2f)\" % (all_accuracies_data.mean(), all_accuracies_data.std()*2))\n",
    "\n",
    "all_accuracies_data = cross_val_score(estimator=RF, X=train_df[features], y=train_df[target], cv=5,scoring = 'recall_macro')\n",
    "all_accuracies_data\n",
    "print(\"Full Accuracy: %0.2f(+/- %0.2f)\" % (all_accuracies_data.mean(), all_accuracies_data.std()*2))"
   ]
  },
  {
   "cell_type": "code",
   "execution_count": 205,
   "metadata": {},
   "outputs": [
    {
     "data": {
      "text/html": [
       "<div>\n",
       "<style scoped>\n",
       "    .dataframe tbody tr th:only-of-type {\n",
       "        vertical-align: middle;\n",
       "    }\n",
       "\n",
       "    .dataframe tbody tr th {\n",
       "        vertical-align: top;\n",
       "    }\n",
       "\n",
       "    .dataframe thead th {\n",
       "        text-align: right;\n",
       "    }\n",
       "</style>\n",
       "<table border=\"1\" class=\"dataframe\">\n",
       "  <thead>\n",
       "    <tr style=\"text-align: right;\">\n",
       "      <th></th>\n",
       "      <th>features</th>\n",
       "      <th>importance</th>\n",
       "    </tr>\n",
       "  </thead>\n",
       "  <tbody>\n",
       "    <tr>\n",
       "      <th>24</th>\n",
       "      <td>Surname=MR</td>\n",
       "      <td>0.205599</td>\n",
       "    </tr>\n",
       "    <tr>\n",
       "      <th>1</th>\n",
       "      <td>Fare</td>\n",
       "      <td>0.165942</td>\n",
       "    </tr>\n",
       "    <tr>\n",
       "      <th>0</th>\n",
       "      <td>Age</td>\n",
       "      <td>0.132533</td>\n",
       "    </tr>\n",
       "    <tr>\n",
       "      <th>21</th>\n",
       "      <td>Sex=male</td>\n",
       "      <td>0.106785</td>\n",
       "    </tr>\n",
       "    <tr>\n",
       "      <th>20</th>\n",
       "      <td>Sex=female</td>\n",
       "      <td>0.104586</td>\n",
       "    </tr>\n",
       "    <tr>\n",
       "      <th>2</th>\n",
       "      <td>Family_size</td>\n",
       "      <td>0.081168</td>\n",
       "    </tr>\n",
       "    <tr>\n",
       "      <th>19</th>\n",
       "      <td>Pclass=3</td>\n",
       "      <td>0.064158</td>\n",
       "    </tr>\n",
       "    <tr>\n",
       "      <th>12</th>\n",
       "      <td>Cabin_type=N</td>\n",
       "      <td>0.019798</td>\n",
       "    </tr>\n",
       "    <tr>\n",
       "      <th>17</th>\n",
       "      <td>Pclass=1</td>\n",
       "      <td>0.014900</td>\n",
       "    </tr>\n",
       "    <tr>\n",
       "      <th>9</th>\n",
       "      <td>Cabin_type=E</td>\n",
       "      <td>0.013699</td>\n",
       "    </tr>\n",
       "  </tbody>\n",
       "</table>\n",
       "</div>"
      ],
      "text/plain": [
       "        features  importance\n",
       "24    Surname=MR    0.205599\n",
       "1           Fare    0.165942\n",
       "0            Age    0.132533\n",
       "21      Sex=male    0.106785\n",
       "20    Sex=female    0.104586\n",
       "2    Family_size    0.081168\n",
       "19      Pclass=3    0.064158\n",
       "12  Cabin_type=N    0.019798\n",
       "17      Pclass=1    0.014900\n",
       "9   Cabin_type=E    0.013699"
      ]
     },
     "execution_count": 205,
     "metadata": {},
     "output_type": "execute_result"
    }
   ],
   "source": [
    "pd.DataFrame({'features' : features, 'importance' : RF.feature_importances_}).\\\n",
    "           sort_values('importance',ascending = False).head(10)"
   ]
  },
  {
   "cell_type": "code",
   "execution_count": 206,
   "metadata": {},
   "outputs": [
    {
     "data": {
      "text/plain": [
       "array([265, 153], dtype=int64)"
      ]
     },
     "execution_count": 206,
     "metadata": {},
     "output_type": "execute_result"
    }
   ],
   "source": [
    "np.bincount(RF.predict(test_df[features]))\n",
    "\n",
    "pd.concat([test_df[['PassengerId']],pd.DataFrame(RF.predict(test_df[features]),columns= ['Survived'],index = test_df.index)],axis = 1)\\\n",
    ".to_csv(f'{path}/titanic_submit13rfgs.csv', index=False)"
   ]
  },
  {
   "cell_type": "markdown",
   "metadata": {},
   "source": [
    "# stacked model"
   ]
  },
  {
   "cell_type": "code",
   "execution_count": 126,
   "metadata": {},
   "outputs": [],
   "source": [
    "estimators = [('rf', RandomForestClassifier(n_estimators=750,oob_score=True,max_depth=6,max_features=8)),\n",
    " #   ('svr', make_pipeline(StandardScaler(),LinearSVC(random_state=42))),\n",
    "    ('knn', make_pipeline(StandardScaler(),KNeighborsClassifier(n_neighbors=5))),\n",
    "    ('lr', make_pipeline(StandardScaler(), LogisticRegression(solver = 'lbfgs', max_iter=10000,C= 0.1))),\n",
    "    ('XGB', XGBClassifier(n_estimators = 500,learning_rate= 0.001,colsample_bytree= 0.75,subsample=0.9))]"
   ]
  },
  {
   "cell_type": "code",
   "execution_count": 127,
   "metadata": {},
   "outputs": [],
   "source": [
    "clf = StackingClassifier(\n",
    "    estimators=estimators, final_estimator=RandomForestClassifier(n_estimators=750,oob_score=True,\\\n",
    "                                                                  max_depth=6,max_features=8),cv = 5,passthrough=True)"
   ]
  },
  {
   "cell_type": "code",
   "execution_count": 128,
   "metadata": {
    "scrolled": true
   },
   "outputs": [],
   "source": [
    "clf.fit(X_train[features], y_train);"
   ]
  },
  {
   "cell_type": "code",
   "execution_count": 129,
   "metadata": {
    "scrolled": true
   },
   "outputs": [
    {
     "data": {
      "text/plain": [
       "0.8839285714285714"
      ]
     },
     "execution_count": 129,
     "metadata": {},
     "output_type": "execute_result"
    },
    {
     "data": {
      "text/plain": [
       "0.7734375"
      ]
     },
     "execution_count": 129,
     "metadata": {},
     "output_type": "execute_result"
    },
    {
     "data": {
      "text/plain": [
       "array([[386,  26],\n",
       "       [ 58, 198]], dtype=int64)"
      ]
     },
     "execution_count": 129,
     "metadata": {},
     "output_type": "execute_result"
    },
    {
     "data": {
      "text/plain": [
       "0.874251497005988"
      ]
     },
     "execution_count": 129,
     "metadata": {},
     "output_type": "execute_result"
    }
   ],
   "source": [
    "pred_bin = clf.predict(X_train)\n",
    "precision_score(y_train,pred_bin)\n",
    "recall_score(y_train,pred_bin)\n",
    "confusion_matrix(y_train,pred_bin)\n",
    "accuracy_score(y_train,pred_bin)"
   ]
  },
  {
   "cell_type": "markdown",
   "metadata": {},
   "source": [
    "##### prediction on test"
   ]
  },
  {
   "cell_type": "code",
   "execution_count": 130,
   "metadata": {
    "scrolled": true
   },
   "outputs": [
    {
     "data": {
      "text/plain": [
       "0.8227848101265823"
      ]
     },
     "execution_count": 130,
     "metadata": {},
     "output_type": "execute_result"
    },
    {
     "data": {
      "text/plain": [
       "0.7558139534883721"
      ]
     },
     "execution_count": 130,
     "metadata": {},
     "output_type": "execute_result"
    },
    {
     "data": {
      "text/plain": [
       "array([[123,  14],\n",
       "       [ 21,  65]], dtype=int64)"
      ]
     },
     "execution_count": 130,
     "metadata": {},
     "output_type": "execute_result"
    },
    {
     "data": {
      "text/plain": [
       "0.8430493273542601"
      ]
     },
     "execution_count": 130,
     "metadata": {},
     "output_type": "execute_result"
    }
   ],
   "source": [
    "pred_bin = clf.predict(X_test)\n",
    "precision_score(y_test,pred_bin)\n",
    "recall_score(y_test,pred_bin)\n",
    "confusion_matrix(y_test,pred_bin)\n",
    "accuracy_score(y_test,pred_bin)"
   ]
  },
  {
   "cell_type": "markdown",
   "metadata": {},
   "source": [
    "### The mean score and the 95% confidence interval of the score estimate are hence given by:"
   ]
  },
  {
   "cell_type": "code",
   "execution_count": 168,
   "metadata": {},
   "outputs": [
    {
     "data": {
      "text/plain": [
       "array([0.83199249, 0.78962736, 0.82372025, 0.77521198, 0.83036079])"
      ]
     },
     "execution_count": 168,
     "metadata": {},
     "output_type": "execute_result"
    },
    {
     "name": "stdout",
     "output_type": "stream",
     "text": [
      "Full Accuracy: 0.81(+/- 0.05)\n"
     ]
    },
    {
     "data": {
      "text/plain": [
       "array([0.84449728, 0.80752342, 0.82782486, 0.82323718, 0.84872881])"
      ]
     },
     "execution_count": 168,
     "metadata": {},
     "output_type": "execute_result"
    },
    {
     "name": "stdout",
     "output_type": "stream",
     "text": [
      "Full Accuracy: 0.83(+/- 0.03)\n"
     ]
    },
    {
     "data": {
      "text/plain": [
       "array([0.82681159, 0.78088235, 0.81764706, 0.77700535, 0.82828081])"
      ]
     },
     "execution_count": 168,
     "metadata": {},
     "output_type": "execute_result"
    },
    {
     "name": "stdout",
     "output_type": "stream",
     "text": [
      "Full Accuracy: 0.81(+/- 0.05)\n"
     ]
    }
   ],
   "source": [
    "all_accuracies_data = cross_val_score(estimator=clf, X=train_df[features], y=train_df[target], cv=5,scoring = 'f1_macro')\n",
    "all_accuracies_data\n",
    "print(\"Full Accuracy: %0.2f(+/- %0.2f)\" % (all_accuracies_data.mean(), all_accuracies_data.std()*2))\n",
    "\n",
    "all_accuracies_data = cross_val_score(estimator=clf, X=train_df[features], y=train_df[target], cv=5,scoring = 'precision_macro')\n",
    "all_accuracies_data\n",
    "print(\"Full Accuracy: %0.2f(+/- %0.2f)\" % (all_accuracies_data.mean(), all_accuracies_data.std()*2))\n",
    "\n",
    "all_accuracies_data = cross_val_score(estimator=clf, X=train_df[features], y=train_df[target], cv=5,scoring = 'recall_macro')\n",
    "all_accuracies_data\n",
    "print(\"Full Accuracy: %0.2f(+/- %0.2f)\" % (all_accuracies_data.mean(), all_accuracies_data.std()*2))"
   ]
  },
  {
   "cell_type": "code",
   "execution_count": 132,
   "metadata": {},
   "outputs": [
    {
     "data": {
      "text/plain": [
       "array([263, 155], dtype=int64)"
      ]
     },
     "execution_count": 132,
     "metadata": {},
     "output_type": "execute_result"
    }
   ],
   "source": [
    "np.bincount(clf.predict(test_df[features]))\n",
    "\n",
    "pd.concat([test_df[['PassengerId']],pd.DataFrame(clf.predict(test_df[features]),columns= ['Survived'],index = test_df.index)],axis = 1)\\\n",
    ".to_csv(f'{path}/titanic_submit12rstk_clf.csv', index=False)"
   ]
  },
  {
   "cell_type": "markdown",
   "metadata": {},
   "source": [
    "# plotting roc curve"
   ]
  },
  {
   "cell_type": "code",
   "execution_count": 154,
   "metadata": {
    "scrolled": false
   },
   "outputs": [
    {
     "data": {
      "image/png": "[encoded data removed]",
      "text/plain": [
       "<Figure size 432x288 with 1 Axes>"
      ]
     },
     "metadata": {
      "needs_background": "light"
     },
     "output_type": "display_data"
    }
   ],
   "source": [
    "rf_disp = plot_roc_curve(RF, X_test, y_test)\n",
    "ax = plt.gca()\n",
    "stk_disp = plot_roc_curve(clf, X_test, y_test, ax=ax, alpha=0.8)\n",
    "xgb_disp = plot_roc_curve(XGB, X_test, y_test, ax=ax, alpha=0.8)\n",
    "lr_disp = plot_roc_curve(logreg, X_test, y_test, ax=ax, alpha=0.8)\n",
    "plt.show()"
   ]
  },
  {
   "cell_type": "markdown",
   "metadata": {},
   "source": [
    "# plotting precision recall curve"
   ]
  },
  {
   "cell_type": "code",
   "execution_count": 141,
   "metadata": {
    "scrolled": false
   },
   "outputs": [
    {
     "data": {
      "image/png": "[encoded data removed]",
      "text/plain": [
       "<Figure size 432x288 with 1 Axes>"
      ]
     },
     "metadata": {
      "needs_background": "light"
     },
     "output_type": "display_data"
    }
   ],
   "source": [
    "rf_disp = plot_precision_recall_curve(RF, X_test, y_test)\n",
    "ax = plt.gca()\n",
    "stk_disp = plot_precision_recall_curve(clf, X_test, y_test, ax=ax, alpha=0.8)\n",
    "xgb_disp = plot_precision_recall_curve(XGB, X_test, y_test, ax=ax, alpha=0.8)\n",
    "lr_disp = plot_precision_recall_curve(logreg, X_test, y_test, ax=ax, alpha=0.8)\n",
    "plt.show()"
   ]
  },
  {
   "cell_type": "markdown",
   "metadata": {},
   "source": [
    "# Grid Search on RF"
   ]
  },
  {
   "cell_type": "code",
   "execution_count": 185,
   "metadata": {},
   "outputs": [
    {
     "data": {
      "text/plain": [
       "RandomForestClassifier(bootstrap=True, ccp_alpha=0.0, class_weight=None,\n",
       "                       criterion='gini', max_depth=None, max_features='auto',\n",
       "                       max_leaf_nodes=None, max_samples=None,\n",
       "                       min_impurity_decrease=0.0, min_impurity_split=None,\n",
       "                       min_samples_leaf=1, min_samples_split=2,\n",
       "                       min_weight_fraction_leaf=0.0, n_estimators=100,\n",
       "                       n_jobs=None, oob_score=False, random_state=None,\n",
       "                       verbose=0, warm_start=False)"
      ]
     },
     "execution_count": 185,
     "metadata": {},
     "output_type": "execute_result"
    }
   ],
   "source": [
    "RandomForestClassifier()"
   ]
  },
  {
   "cell_type": "code",
   "execution_count": 197,
   "metadata": {},
   "outputs": [
    {
     "data": {
      "text/plain": [
       "GridSearchCV(cv=10, error_score=nan,\n",
       "             estimator=RandomForestClassifier(bootstrap=True, ccp_alpha=0.0,\n",
       "                                              class_weight=None,\n",
       "                                              criterion='gini', max_depth=None,\n",
       "                                              max_features='auto',\n",
       "                                              max_leaf_nodes=None,\n",
       "                                              max_samples=None,\n",
       "                                              min_impurity_decrease=0.0,\n",
       "                                              min_impurity_split=None,\n",
       "                                              min_samples_leaf=1,\n",
       "                                              min_samples_split=2,\n",
       "                                              min_weight_fraction_leaf=0.0,\n",
       "                                              n_estimators=100, n_jobs=None,\n",
       "                                              oob_score=False, random_state=69,\n",
       "                                              verbose=0, warm_start=False),\n",
       "             iid='deprecated', n_jobs=-1,\n",
       "             param_grid=[{'n_estimators': [100, 200, 300, 400, 500, 600, 700,\n",
       "                                           800]},\n",
       "                         {'oob_score': [False, True]},\n",
       "                         {'max_depth': [3, 5, 6, 7, 8, 9, 10],\n",
       "                          'max_features': [6, 8, 10, 12, 15, 17, 18, 19, 20,\n",
       "                                           21]}],\n",
       "             pre_dispatch='2*n_jobs', refit=True, return_train_score=False,\n",
       "             scoring='precision_macro', verbose=0)"
      ]
     },
     "execution_count": 197,
     "metadata": {},
     "output_type": "execute_result"
    }
   ],
   "source": [
    "# Set the parameters by cross-validation\n",
    "param_grid = [{'n_estimators': [100,200,300,400,500,600,700,800]}, {'oob_score': [False, True]},\n",
    "                     {'max_depth': [3,5,6,7,8,9,10], 'max_features' : [6,8,10,12,15,17,18,19,20,21]}]\n",
    "\n",
    "\n",
    "rf_gs = GridSearchCV(RandomForestClassifier(random_state = 69),param_grid,n_jobs=-1,cv = 10, scoring='precision_macro')\n",
    "rf_gs.fit(X_train, y_train)\n"
   ]
  },
  {
   "cell_type": "code",
   "execution_count": 209,
   "metadata": {},
   "outputs": [
    {
     "data": {
      "text/plain": [
       "RandomForestClassifier(bootstrap=True, ccp_alpha=0.0, class_weight=None,\n",
       "                       criterion='gini', max_depth=7, max_features=19,\n",
       "                       max_leaf_nodes=None, max_samples=None,\n",
       "                       min_impurity_decrease=0.0, min_impurity_split=None,\n",
       "                       min_samples_leaf=1, min_samples_split=2,\n",
       "                       min_weight_fraction_leaf=0.0, n_estimators=100,\n",
       "                       n_jobs=None, oob_score=False, random_state=69, verbose=0,\n",
       "                       warm_start=False)"
      ]
     },
     "execution_count": 209,
     "metadata": {},
     "output_type": "execute_result"
    },
    {
     "data": {
      "text/plain": [
       "{'max_depth': 7, 'max_features': 19}"
      ]
     },
     "execution_count": 209,
     "metadata": {},
     "output_type": "execute_result"
    },
    {
     "data": {
      "text/plain": [
       "0.8383474413713999"
      ]
     },
     "execution_count": 209,
     "metadata": {},
     "output_type": "execute_result"
    },
    {
     "data": {
      "text/plain": [
       "47"
      ]
     },
     "execution_count": 209,
     "metadata": {},
     "output_type": "execute_result"
    }
   ],
   "source": [
    "rf_gs.best_estimator_\n",
    "rf_gs.best_params_\n",
    "rf_gs.best_score_\n",
    "rf_gs.best_index_"
   ]
  },
  {
   "cell_type": "code",
   "execution_count": null,
   "metadata": {},
   "outputs": [],
   "source": [
    "GS_perf = pd.DataFrame()\n",
    "GS_perf['Parameters'] = rf_gs.cv_results_['params']\n",
    "GS_perf.head(79)"
   ]
  },
  {
   "cell_type": "code",
   "execution_count": 199,
   "metadata": {},
   "outputs": [
    {
     "name": "stdout",
     "output_type": "stream",
     "text": [
      "Best parameters set found on development set:\n",
      "\n",
      "{'max_depth': 7, 'max_features': 19}\n",
      "\n",
      "Grid scores on development set:\n",
      "\n",
      "0.801 (+/-0.084) for {'n_estimators': 100}\n",
      "0.803 (+/-0.060) for {'n_estimators': 200}\n",
      "0.798 (+/-0.072) for {'n_estimators': 300}\n",
      "0.800 (+/-0.074) for {'n_estimators': 400}\n",
      "0.800 (+/-0.077) for {'n_estimators': 500}\n",
      "0.797 (+/-0.075) for {'n_estimators': 600}\n",
      "0.798 (+/-0.075) for {'n_estimators': 700}\n",
      "0.797 (+/-0.071) for {'n_estimators': 800}\n",
      "0.801 (+/-0.084) for {'oob_score': False}\n",
      "0.801 (+/-0.084) for {'oob_score': True}\n",
      "0.805 (+/-0.128) for {'max_depth': 3, 'max_features': 6}\n",
      "0.818 (+/-0.103) for {'max_depth': 3, 'max_features': 8}\n",
      "0.819 (+/-0.100) for {'max_depth': 3, 'max_features': 10}\n",
      "0.824 (+/-0.094) for {'max_depth': 3, 'max_features': 12}\n",
      "0.823 (+/-0.084) for {'max_depth': 3, 'max_features': 15}\n",
      "0.815 (+/-0.097) for {'max_depth': 3, 'max_features': 17}\n",
      "0.817 (+/-0.095) for {'max_depth': 3, 'max_features': 18}\n",
      "0.815 (+/-0.099) for {'max_depth': 3, 'max_features': 19}\n",
      "0.821 (+/-0.092) for {'max_depth': 3, 'max_features': 20}\n",
      "0.817 (+/-0.096) for {'max_depth': 3, 'max_features': 21}\n",
      "0.820 (+/-0.084) for {'max_depth': 5, 'max_features': 6}\n",
      "0.828 (+/-0.069) for {'max_depth': 5, 'max_features': 8}\n",
      "0.824 (+/-0.071) for {'max_depth': 5, 'max_features': 10}\n",
      "0.823 (+/-0.079) for {'max_depth': 5, 'max_features': 12}\n",
      "0.824 (+/-0.060) for {'max_depth': 5, 'max_features': 15}\n",
      "0.829 (+/-0.064) for {'max_depth': 5, 'max_features': 17}\n",
      "0.826 (+/-0.068) for {'max_depth': 5, 'max_features': 18}\n",
      "0.830 (+/-0.071) for {'max_depth': 5, 'max_features': 19}\n",
      "0.831 (+/-0.067) for {'max_depth': 5, 'max_features': 20}\n",
      "0.827 (+/-0.061) for {'max_depth': 5, 'max_features': 21}\n",
      "0.822 (+/-0.084) for {'max_depth': 6, 'max_features': 6}\n",
      "0.821 (+/-0.065) for {'max_depth': 6, 'max_features': 8}\n",
      "0.826 (+/-0.072) for {'max_depth': 6, 'max_features': 10}\n",
      "0.818 (+/-0.056) for {'max_depth': 6, 'max_features': 12}\n",
      "0.825 (+/-0.065) for {'max_depth': 6, 'max_features': 15}\n",
      "0.823 (+/-0.075) for {'max_depth': 6, 'max_features': 17}\n",
      "0.831 (+/-0.066) for {'max_depth': 6, 'max_features': 18}\n",
      "0.830 (+/-0.059) for {'max_depth': 6, 'max_features': 19}\n",
      "0.836 (+/-0.081) for {'max_depth': 6, 'max_features': 20}\n",
      "0.829 (+/-0.064) for {'max_depth': 6, 'max_features': 21}\n",
      "0.802 (+/-0.082) for {'max_depth': 7, 'max_features': 6}\n",
      "0.823 (+/-0.050) for {'max_depth': 7, 'max_features': 8}\n",
      "0.827 (+/-0.060) for {'max_depth': 7, 'max_features': 10}\n",
      "0.826 (+/-0.049) for {'max_depth': 7, 'max_features': 12}\n",
      "0.831 (+/-0.053) for {'max_depth': 7, 'max_features': 15}\n",
      "0.822 (+/-0.063) for {'max_depth': 7, 'max_features': 17}\n",
      "0.829 (+/-0.061) for {'max_depth': 7, 'max_features': 18}\n",
      "0.838 (+/-0.063) for {'max_depth': 7, 'max_features': 19}\n",
      "0.831 (+/-0.048) for {'max_depth': 7, 'max_features': 20}\n",
      "0.825 (+/-0.060) for {'max_depth': 7, 'max_features': 21}\n",
      "0.809 (+/-0.065) for {'max_depth': 8, 'max_features': 6}\n",
      "0.828 (+/-0.046) for {'max_depth': 8, 'max_features': 8}\n",
      "0.826 (+/-0.057) for {'max_depth': 8, 'max_features': 10}\n",
      "0.824 (+/-0.064) for {'max_depth': 8, 'max_features': 12}\n",
      "0.822 (+/-0.051) for {'max_depth': 8, 'max_features': 15}\n",
      "0.830 (+/-0.045) for {'max_depth': 8, 'max_features': 17}\n",
      "0.831 (+/-0.048) for {'max_depth': 8, 'max_features': 18}\n",
      "0.829 (+/-0.085) for {'max_depth': 8, 'max_features': 19}\n",
      "0.829 (+/-0.055) for {'max_depth': 8, 'max_features': 20}\n",
      "0.825 (+/-0.064) for {'max_depth': 8, 'max_features': 21}\n",
      "0.819 (+/-0.077) for {'max_depth': 9, 'max_features': 6}\n",
      "0.823 (+/-0.050) for {'max_depth': 9, 'max_features': 8}\n",
      "0.828 (+/-0.068) for {'max_depth': 9, 'max_features': 10}\n",
      "0.829 (+/-0.058) for {'max_depth': 9, 'max_features': 12}\n",
      "0.823 (+/-0.066) for {'max_depth': 9, 'max_features': 15}\n",
      "0.831 (+/-0.055) for {'max_depth': 9, 'max_features': 17}\n",
      "0.829 (+/-0.058) for {'max_depth': 9, 'max_features': 18}\n",
      "0.831 (+/-0.069) for {'max_depth': 9, 'max_features': 19}\n",
      "0.825 (+/-0.065) for {'max_depth': 9, 'max_features': 20}\n",
      "0.824 (+/-0.054) for {'max_depth': 9, 'max_features': 21}\n",
      "0.817 (+/-0.075) for {'max_depth': 10, 'max_features': 6}\n",
      "0.815 (+/-0.070) for {'max_depth': 10, 'max_features': 8}\n",
      "0.820 (+/-0.064) for {'max_depth': 10, 'max_features': 10}\n",
      "0.824 (+/-0.067) for {'max_depth': 10, 'max_features': 12}\n",
      "0.823 (+/-0.052) for {'max_depth': 10, 'max_features': 15}\n",
      "0.831 (+/-0.048) for {'max_depth': 10, 'max_features': 17}\n",
      "0.826 (+/-0.064) for {'max_depth': 10, 'max_features': 18}\n",
      "0.831 (+/-0.053) for {'max_depth': 10, 'max_features': 19}\n",
      "0.826 (+/-0.071) for {'max_depth': 10, 'max_features': 20}\n",
      "0.826 (+/-0.064) for {'max_depth': 10, 'max_features': 21}\n",
      "\n"
     ]
    }
   ],
   "source": [
    "\n",
    "print(\"Best parameters set found on development set:\")\n",
    "print()\n",
    "print(rf_gs.best_params_)\n",
    "print()\n",
    "print(\"Grid scores on development set:\")\n",
    "print()\n",
    "means = rf_gs.cv_results_['mean_test_score']\n",
    "stds = rf_gs.cv_results_['std_test_score']\n",
    "for mean, std, params in zip(means, stds, rf_gs.cv_results_['params']):\n",
    "    print(\"%0.3f (+/-%0.03f) for %r\"  % (mean, std * 2, params))\n",
    "print()"
   ]
  },
  {
   "cell_type": "code",
   "execution_count": 224,
   "metadata": {},
   "outputs": [
    {
     "name": "stdout",
     "output_type": "stream",
     "text": [
      "Detailed classification report:\n",
      "\n",
      "The model is trained on the full development set.\n",
      "The scores are computed on the full evaluation set.\n",
      "\n",
      "              precision    recall  f1-score   support\n",
      "\n",
      "           0       0.85      0.88      0.86       137\n",
      "           1       0.80      0.74      0.77        86\n",
      "\n",
      "    accuracy                           0.83       223\n",
      "   macro avg       0.82      0.81      0.82       223\n",
      "weighted avg       0.83      0.83      0.83       223\n",
      "\n",
      "\n"
     ]
    }
   ],
   "source": [
    "\n",
    "print(\"Detailed classification report:\")\n",
    "print()\n",
    "print(\"The model is trained on the full development set.\")\n",
    "print(\"The scores are computed on the full evaluation set.\")\n",
    "print()\n",
    "y_true, y_pred = y_test, rf_gs.predict(X_test)\n",
    "print(classification_report(y_true, y_pred))\n",
    "print()\n",
    "\n",
    "# Note the problem is too easy: the hyperparameter plateau is too flat and the\n",
    "# output model is the same for precision and recall with ties in quality."
   ]
  },
  {
   "cell_type": "code",
   "execution_count": 225,
   "metadata": {
    "scrolled": true
   },
   "outputs": [
    {
     "data": {
      "image/png": "[encoded data removed]",
      "text/plain": [
       "<Figure size 432x288 with 2 Axes>"
      ]
     },
     "metadata": {
      "needs_background": "light"
     },
     "output_type": "display_data"
    }
   ],
   "source": [
    "# Correlation matrix between numerical values (SibSp Parch Age and Fare values) and Survived \n",
    "import seaborn as sns\n",
    "g = sns.heatmap(train[[\"Survived\",\"SibSp\",\"Parch\",\"Age\",\"Fare\"]].corr(),annot=True, fmt = \".2f\", cmap = \"coolwarm\")"
   ]
  },
  {
   "cell_type": "markdown",
   "metadata": {},
   "source": [
    "# GGGGGGGAAAAAAAAAAAAARBAGE"
   ]
  },
  {
   "cell_type": "code",
   "execution_count": null,
   "metadata": {},
   "outputs": [],
   "source": [
    "import sklearn\n",
    "sorted(sklearn.metrics.SCORERS.keys())\n",
    "#https://scikit-learn.org/stable/modules/model_evaluation.html#scoring"
   ]
  },
  {
   "cell_type": "code",
   "execution_count": null,
   "metadata": {},
   "outputs": [],
   "source": [
    "https://scikit-learn.org/stable/modules/cross_validation.html#cross-validation\n",
    "    https://scikit-learn.org/stable/modules/generated/sklearn.feature_selection.RFECV.html#sklearn.feature_selection.RFECV\n",
    "    https://scikit-learn.org/stable/auto_examples/feature_selection/plot_rfe_with_cross_validation.html#sphx-glr-auto-examples-feature-selection-plot-rfe-with-cross-validation-py"
   ]
  },
  {
   "cell_type": "code",
   "execution_count": 56,
   "metadata": {},
   "outputs": [
    {
     "data": {
      "text/plain": [
       "array([0.85074627, 0.82089552, 0.82835821, 0.81203008, 0.81203008])"
      ]
     },
     "execution_count": 56,
     "metadata": {},
     "output_type": "execute_result"
    },
    {
     "name": "stdout",
     "output_type": "stream",
     "text": [
      "Train Accuracy: 0.82 (+/- 0.03)\n"
     ]
    },
    {
     "data": {
      "text/plain": [
       "array([0.88888889, 0.77777778, 0.77777778, 0.88636364, 0.81818182])"
      ]
     },
     "execution_count": 56,
     "metadata": {},
     "output_type": "execute_result"
    },
    {
     "name": "stdout",
     "output_type": "stream",
     "text": [
      "Test Accuracy: 0.83(+/- 0.05)\n"
     ]
    }
   ],
   "source": [
    "all_accuracies_train = cross_val_score(estimator=XGB, X=X_train, y=y_train, cv=5)\n",
    "all_accuracies_train\n",
    "print(\"Train Accuracy: %0.2f (+/- %0.2f)\" % (all_accuracies_train.mean(), all_accuracies_train.std() * 2))\n",
    "\n",
    "all_accuracies_test = cross_val_score(estimator=XGB, X=X_test, y=y_test, cv=5)\n",
    "all_accuracies_test\n",
    "print(\"Test Accuracy: %0.2f(+/- %0.2f)\" % (all_accuracies_test.mean(), all_accuracies_test.std()*2))"
   ]
  },
  {
   "cell_type": "code",
   "execution_count": null,
   "metadata": {},
   "outputs": [],
   "source": [
    "plt.subplot(121)\n",
    "\n",
    "# equivalent but more general\n",
    "ax1=plt.subplot(121,facecolor='red')\n",
    "\n",
    "# add a subplot with no frame\n",
    "ax2=plt.subplot(122,  projection='polar')"
   ]
  },
  {
   "cell_type": "code",
   "execution_count": null,
   "metadata": {},
   "outputs": [],
   "source": [
    "import matplotlib.pyplot as plt\n",
    "fig = plt.figure()\n",
    "fig.add_subplot(121)   #top left\n",
    "fig.add_subplot(122)   #top right\n",
    "plt.show()"
   ]
  },
  {
   "cell_type": "code",
   "execution_count": null,
   "metadata": {},
   "outputs": [],
   "source": []
  }
 ],
 "metadata": {
  "kernelspec": {
   "display_name": "Python 3",
   "language": "python",
   "name": "python3"
  },
  "language_info": {
   "codemirror_mode": {
    "name": "ipython",
    "version": 3
   },
   "file_extension": ".py",
   "mimetype": "text/x-python",
   "name": "python",
   "nbconvert_exporter": "python",
   "pygments_lexer": "ipython3",
   "version": "3.6.5"
  }
 },
 "nbformat": 4,
 "nbformat_minor": 2
}
